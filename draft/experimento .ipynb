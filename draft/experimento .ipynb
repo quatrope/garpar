{
 "cells": [
  {
   "cell_type": "markdown",
   "id": "61b2a7cd-7f4b-4200-b17a-3d74590b0ad8",
   "metadata": {},
   "source": [
    "1. crear el generador de mercados y fijar una semilla \n",
    "2. crear una lista vacía \n",
    "3. crear un mercado\n",
    "4. optimizarlo\n",
    "5. sacar métricas  ( las métricas tienen que ser un valor)\n",
    "6. guardar métricas en un diccionario\n",
    "7. agregar el diccionario a la lista \n",
    "8. crer un dataframe con lista\n",
    "\n",
    "Mi obj: entender como configurar los generadores de mercado y poder calc métricas. "
   ]
  },
  {
   "cell_type": "markdown",
   "id": "c816167d-5bba-418b-b99c-03d118540103",
   "metadata": {},
   "source": []
  }
 ],
 "metadata": {
  "kernelspec": {
   "display_name": "Python 3 (ipykernel)",
   "language": "python",
   "name": "python3"
  },
  "language_info": {
   "codemirror_mode": {
    "name": "ipython",
    "version": 3
   },
   "file_extension": ".py",
   "mimetype": "text/x-python",
   "name": "python",
   "nbconvert_exporter": "python",
   "pygments_lexer": "ipython3",
   "version": "3.9.5"
  }
 },
 "nbformat": 4,
 "nbformat_minor": 5
}
