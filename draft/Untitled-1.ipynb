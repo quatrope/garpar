{
 "cells": [
  {
   "cell_type": "code",
   "execution_count": 8,
   "metadata": {},
   "outputs": [
    {
     "name": "stderr",
     "output_type": "stream",
     "text": [
      "/home/divasco/Documents/Venvs/garpar/lib/python3.12/site-packages/garpar/core/plot_acc.py:252: UserWarning: Dataset has 0 variance; skipping density estimate. Pass `warn_singular=False` to disable this warning.\n",
      "  ax = sns.kdeplot(data=data**kwargs)\n"
     ]
    },
    {
     "data": {
      "text/plain": [
       "<Axes: title={'center': 'Weights'}, ylabel='Density'>"
      ]
     },
     "execution_count": 8,
     "metadata": {},
     "output_type": "execute_result"
    },
    {
     "data": {
      "image/png": "[encoded data removed]",
      "text/plain": [
       "<Figure size 640x480 with 1 Axes>"
      ]
     },
     "metadata": {},
     "output_type": "display_data"
    }
   ],
   "source": [
    "from garpar.datasets import make_risso_uniform\n",
    "from garpar.core.plot_acc import StocksSetPlotter\n",
    "import pandas as pd\n",
    "import numpy as np\n",
    "\n",
    "pf = make_risso_uniform(random_state=3)\n",
    "\n",
    "pf.plot.wkde(warn_singular=False)"
   ]
  },
  {
   "cell_type": "code",
   "execution_count": 25,
   "metadata": {},
   "outputs": [
    {
     "ename": "SyntaxError",
     "evalue": "invalid syntax (14757903.py, line 1)",
     "output_type": "error",
     "traceback": [
      "\u001b[0;36m  Cell \u001b[0;32mIn[25], line 1\u001b[0;36m\u001b[0m\n\u001b[0;31m    print(plotter.__call__??)\u001b[0m\n\u001b[0m                          ^\u001b[0m\n\u001b[0;31mSyntaxError\u001b[0m\u001b[0;31m:\u001b[0m invalid syntax\n"
     ]
    }
   ],
   "source": [
    "df = pf.as_prices()\n",
    "df.head(5)"
   ]
  },
  {
   "cell_type": "code",
   "execution_count": null,
   "metadata": {},
   "outputs": [],
   "source": [
    "np.log2"
   ]
  },
  {
   "cell_type": "code",
   "execution_count": 84,
   "metadata": {},
   "outputs": [
    {
     "data": {
      "text/html": [
       "<div>\n",
       "<style scoped>\n",
       "    .dataframe tbody tr th:only-of-type {\n",
       "        vertical-align: middle;\n",
       "    }\n",
       "\n",
       "    .dataframe tbody tr th {\n",
       "        vertical-align: top;\n",
       "    }\n",
       "\n",
       "    .dataframe thead th {\n",
       "        text-align: right;\n",
       "    }\n",
       "</style>\n",
       "<table border=\"1\" class=\"dataframe\">\n",
       "  <thead>\n",
       "    <tr style=\"text-align: right;\">\n",
       "      <th>Stocks</th>\n",
       "      <th>ALUA</th>\n",
       "      <th>BBAR</th>\n",
       "      <th>BYMA</th>\n",
       "      <th>CEPU</th>\n",
       "      <th>COME</th>\n",
       "      <th>CRES</th>\n",
       "      <th>CVH</th>\n",
       "      <th>EDN</th>\n",
       "      <th>GGAL</th>\n",
       "      <th>HARG</th>\n",
       "      <th>...</th>\n",
       "      <th>MOLA</th>\n",
       "      <th>MOLI</th>\n",
       "      <th>MORI</th>\n",
       "      <th>OEST</th>\n",
       "      <th>PATA</th>\n",
       "      <th>POLL</th>\n",
       "      <th>RIGO</th>\n",
       "      <th>SAMI</th>\n",
       "      <th>SEMI</th>\n",
       "      <th>TGLT</th>\n",
       "    </tr>\n",
       "  </thead>\n",
       "  <tbody>\n",
       "    <tr>\n",
       "      <th>Total</th>\n",
       "      <td>0.989612</td>\n",
       "      <td>0.997894</td>\n",
       "      <td>0.785628</td>\n",
       "      <td>0.985178</td>\n",
       "      <td>0.988648</td>\n",
       "      <td>0.995603</td>\n",
       "      <td>0.788263</td>\n",
       "      <td>0.995427</td>\n",
       "      <td>0.998241</td>\n",
       "      <td>0.973487</td>\n",
       "      <td>...</td>\n",
       "      <td>0.751748</td>\n",
       "      <td>0.999642</td>\n",
       "      <td>0.940652</td>\n",
       "      <td>0.924216</td>\n",
       "      <td>0.885351</td>\n",
       "      <td>0.881129</td>\n",
       "      <td>0.782973</td>\n",
       "      <td>0.99497</td>\n",
       "      <td>0.982488</td>\n",
       "      <td>0.908139</td>\n",
       "    </tr>\n",
       "  </tbody>\n",
       "</table>\n",
       "<p>1 rows × 52 columns</p>\n",
       "</div>"
      ],
      "text/plain": [
       "Stocks      ALUA      BBAR      BYMA      CEPU      COME      CRES       CVH   \n",
       "Total   0.989612  0.997894  0.785628  0.985178  0.988648  0.995603  0.788263  \\\n",
       "\n",
       "Stocks       EDN      GGAL      HARG  ...      MOLA      MOLI      MORI   \n",
       "Total   0.995427  0.998241  0.973487  ...  0.751748  0.999642  0.940652  \\\n",
       "\n",
       "Stocks      OEST      PATA      POLL      RIGO     SAMI      SEMI      TGLT  \n",
       "Total   0.924216  0.885351  0.881129  0.782973  0.99497  0.982488  0.908139  \n",
       "\n",
       "[1 rows x 52 columns]"
      ]
     },
     "execution_count": 84,
     "metadata": {},
     "output_type": "execute_result"
    }
   ],
   "source": [
    "last = None\n",
    "result = []\n",
    "for idx, row in df.iterrows():\n",
    "    if last is None:\n",
    "        last = row\n",
    "        continue\n",
    "\n",
    "    diff = row - last\n",
    "    loss = diff < 0\n",
    "    result.append(loss)\n",
    "    last = row\n",
    "\n",
    "mm = eps + pd.DataFrame(result).mean()\n",
    "coso = (mm * np.log2(mm)) + ((1 - mm) * np.log2(1 - mm))\n",
    "\n",
    "c = -1 / np.log2(2)\n",
    "\n",
    "total_df = (coso * c).to_frame().T\n",
    "total_df.index = [\"Total\"]\n",
    "total_df"
   ]
  },
  {
   "cell_type": "code",
   "execution_count": 107,
   "metadata": {},
   "outputs": [],
   "source": [
    "import pypfopt\n",
    "\n",
    "w_size = 1800\n",
    "\n",
    "returns = pypfopt.expected_returns.returns_from_prices(prices=df)\n",
    "rolling = returns.rolling(w_size, min_periods=w_size)"
   ]
  },
  {
   "cell_type": "code",
   "execution_count": 108,
   "metadata": {},
   "outputs": [
    {
     "data": {
      "text/plain": [
       "0.0001"
      ]
     },
     "execution_count": 108,
     "metadata": {},
     "output_type": "execute_result"
    }
   ],
   "source": [
    "eps = 1e-4\n",
    "eps"
   ]
  },
  {
   "cell_type": "code",
   "execution_count": 109,
   "metadata": {},
   "outputs": [],
   "source": [
    "def agg(s):\n",
    "    mm = eps + (np.sum(s < 0) / w_size)\n",
    "    coso = (mm * np.log2(mm)) + ((1 - mm) * np.log2(1 - mm))\n",
    "\n",
    "    c = -1 / np.log2(2)\n",
    "\n",
    "    return coso * c\n",
    "\n",
    "\n",
    "res = rolling.agg(agg)"
   ]
  },
  {
   "cell_type": "code",
   "execution_count": 110,
   "metadata": {},
   "outputs": [
    {
     "data": {
      "text/html": [
       "<div>\n",
       "<style scoped>\n",
       "    .dataframe tbody tr th:only-of-type {\n",
       "        vertical-align: middle;\n",
       "    }\n",
       "\n",
       "    .dataframe tbody tr th {\n",
       "        vertical-align: top;\n",
       "    }\n",
       "\n",
       "    .dataframe thead th {\n",
       "        text-align: right;\n",
       "    }\n",
       "</style>\n",
       "<table border=\"1\" class=\"dataframe\">\n",
       "  <thead>\n",
       "    <tr style=\"text-align: right;\">\n",
       "      <th>Stocks</th>\n",
       "      <th>ALUA</th>\n",
       "      <th>BBAR</th>\n",
       "      <th>BYMA</th>\n",
       "      <th>CEPU</th>\n",
       "      <th>COME</th>\n",
       "      <th>CRES</th>\n",
       "      <th>CVH</th>\n",
       "      <th>EDN</th>\n",
       "      <th>GGAL</th>\n",
       "      <th>HARG</th>\n",
       "      <th>...</th>\n",
       "      <th>MOLA</th>\n",
       "      <th>MOLI</th>\n",
       "      <th>MORI</th>\n",
       "      <th>OEST</th>\n",
       "      <th>PATA</th>\n",
       "      <th>POLL</th>\n",
       "      <th>RIGO</th>\n",
       "      <th>SAMI</th>\n",
       "      <th>SEMI</th>\n",
       "      <th>TGLT</th>\n",
       "    </tr>\n",
       "  </thead>\n",
       "  <tbody>\n",
       "    <tr>\n",
       "      <th>TOT</th>\n",
       "      <td>0.989612</td>\n",
       "      <td>0.997894</td>\n",
       "      <td>0.785628</td>\n",
       "      <td>0.985178</td>\n",
       "      <td>0.988648</td>\n",
       "      <td>0.995603</td>\n",
       "      <td>0.788263</td>\n",
       "      <td>0.995427</td>\n",
       "      <td>0.998241</td>\n",
       "      <td>0.973487</td>\n",
       "      <td>...</td>\n",
       "      <td>0.751748</td>\n",
       "      <td>0.999642</td>\n",
       "      <td>0.940652</td>\n",
       "      <td>0.924216</td>\n",
       "      <td>0.885351</td>\n",
       "      <td>0.881129</td>\n",
       "      <td>0.782973</td>\n",
       "      <td>0.994970</td>\n",
       "      <td>0.982488</td>\n",
       "      <td>0.908139</td>\n",
       "    </tr>\n",
       "    <tr>\n",
       "      <th>WIN</th>\n",
       "      <td>0.990486</td>\n",
       "      <td>0.997448</td>\n",
       "      <td>NaN</td>\n",
       "      <td>0.986718</td>\n",
       "      <td>0.993901</td>\n",
       "      <td>0.995647</td>\n",
       "      <td>NaN</td>\n",
       "      <td>0.995320</td>\n",
       "      <td>0.997161</td>\n",
       "      <td>0.979236</td>\n",
       "      <td>...</td>\n",
       "      <td>NaN</td>\n",
       "      <td>0.999885</td>\n",
       "      <td>0.935560</td>\n",
       "      <td>0.939457</td>\n",
       "      <td>0.882761</td>\n",
       "      <td>0.908906</td>\n",
       "      <td>0.784200</td>\n",
       "      <td>0.995939</td>\n",
       "      <td>0.988087</td>\n",
       "      <td>0.919816</td>\n",
       "    </tr>\n",
       "  </tbody>\n",
       "</table>\n",
       "<p>2 rows × 52 columns</p>\n",
       "</div>"
      ],
      "text/plain": [
       "Stocks      ALUA      BBAR      BYMA      CEPU      COME      CRES       CVH   \n",
       "TOT     0.989612  0.997894  0.785628  0.985178  0.988648  0.995603  0.788263  \\\n",
       "WIN     0.990486  0.997448       NaN  0.986718  0.993901  0.995647       NaN   \n",
       "\n",
       "Stocks       EDN      GGAL      HARG  ...      MOLA      MOLI      MORI   \n",
       "TOT     0.995427  0.998241  0.973487  ...  0.751748  0.999642  0.940652  \\\n",
       "WIN     0.995320  0.997161  0.979236  ...       NaN  0.999885  0.935560   \n",
       "\n",
       "Stocks      OEST      PATA      POLL      RIGO      SAMI      SEMI      TGLT  \n",
       "TOT     0.924216  0.885351  0.881129  0.782973  0.994970  0.982488  0.908139  \n",
       "WIN     0.939457  0.882761  0.908906  0.784200  0.995939  0.988087  0.919816  \n",
       "\n",
       "[2 rows x 52 columns]"
      ]
     },
     "execution_count": 110,
     "metadata": {},
     "output_type": "execute_result"
    }
   ],
   "source": [
    "full = pd.concat([total_df, res.mean().to_frame().T])\n",
    "full.index = [\"TOT\", \"WIN\"]\n",
    "full"
   ]
  },
  {
   "cell_type": "code",
   "execution_count": 98,
   "metadata": {},
   "outputs": [
    {
     "data": {
      "text/plain": [
       "2583"
      ]
     },
     "execution_count": 98,
     "metadata": {},
     "output_type": "execute_result"
    }
   ],
   "source": [
    "len(df)"
   ]
  },
  {
   "cell_type": "code",
   "execution_count": 113,
   "metadata": {},
   "outputs": [],
   "source": [
    "mk_pf = MultiSector(\n",
    "    {\"foo\": RissoLevyStable(), \"zaz\": RissoNormal()},\n",
    ")"
   ]
  },
  {
   "cell_type": "code",
   "execution_count": 121,
   "metadata": {},
   "outputs": [
    {
     "data": {
      "text/html": [
       "<div class='portfolio'>\n",
       "<div>\n",
       "<style scoped>\n",
       "    .dataframe tbody tr th:only-of-type {\n",
       "        vertical-align: middle;\n",
       "    }\n",
       "\n",
       "    .dataframe tbody tr th {\n",
       "        vertical-align: top;\n",
       "    }\n",
       "\n",
       "    .dataframe thead th {\n",
       "        text-align: right;\n",
       "    }\n",
       "</style>\n",
       "<table border=\"1\" class=\"dataframe\">\n",
       "  <thead>\n",
       "    <tr style=\"text-align: right;\">\n",
       "      <th>Stocks</th>\n",
       "      <th>foo_S0[W 1.0, H 0.5]</th>\n",
       "      <th>foo_S1[W 1.0, H 0.5]</th>\n",
       "      <th>zaz_S0[W 1.0, H 0.5]</th>\n",
       "    </tr>\n",
       "    <tr>\n",
       "      <th>Days</th>\n",
       "      <th></th>\n",
       "      <th></th>\n",
       "      <th></th>\n",
       "    </tr>\n",
       "  </thead>\n",
       "  <tbody>\n",
       "    <tr>\n",
       "      <th>0</th>\n",
       "      <td>25.000000</td>\n",
       "      <td>27.000000</td>\n",
       "      <td>100.000000</td>\n",
       "    </tr>\n",
       "    <tr>\n",
       "      <th>1</th>\n",
       "      <td>25.002301</td>\n",
       "      <td>27.010590</td>\n",
       "      <td>99.905064</td>\n",
       "    </tr>\n",
       "    <tr>\n",
       "      <th>2</th>\n",
       "      <td>24.998830</td>\n",
       "      <td>27.015983</td>\n",
       "      <td>99.799582</td>\n",
       "    </tr>\n",
       "    <tr>\n",
       "      <th>3</th>\n",
       "      <td>25.004625</td>\n",
       "      <td>27.014306</td>\n",
       "      <td>100.214238</td>\n",
       "    </tr>\n",
       "    <tr>\n",
       "      <th>4</th>\n",
       "      <td>25.005294</td>\n",
       "      <td>27.011890</td>\n",
       "      <td>99.898029</td>\n",
       "    </tr>\n",
       "    <tr>\n",
       "      <th>...</th>\n",
       "      <td>...</td>\n",
       "      <td>...</td>\n",
       "      <td>...</td>\n",
       "    </tr>\n",
       "    <tr>\n",
       "      <th>361</th>\n",
       "      <td>24.739957</td>\n",
       "      <td>27.282303</td>\n",
       "      <td>95.998911</td>\n",
       "    </tr>\n",
       "    <tr>\n",
       "      <th>362</th>\n",
       "      <td>24.743169</td>\n",
       "      <td>27.288368</td>\n",
       "      <td>95.987564</td>\n",
       "    </tr>\n",
       "    <tr>\n",
       "      <th>363</th>\n",
       "      <td>24.734572</td>\n",
       "      <td>27.291266</td>\n",
       "      <td>95.871586</td>\n",
       "    </tr>\n",
       "    <tr>\n",
       "      <th>364</th>\n",
       "      <td>24.736621</td>\n",
       "      <td>27.290003</td>\n",
       "      <td>95.480640</td>\n",
       "    </tr>\n",
       "    <tr>\n",
       "      <th>365</th>\n",
       "      <td>24.740512</td>\n",
       "      <td>27.288230</td>\n",
       "      <td>95.506557</td>\n",
       "    </tr>\n",
       "  </tbody>\n",
       "</table>\n",
       "</div><em class='portfolio-dim'>366 days x 3 stocks - W.Size 5</em>\n",
       "</div>"
      ],
      "text/plain": [
       "Stocks  foo_S0[W 1.0, H 0.5]  foo_S1[W 1.0, H 0.5]  zaz_S0[W 1.0, H 0.5]\n",
       "Days                                                                    \n",
       "0                  25.000000             27.000000            100.000000\n",
       "1                  25.002301             27.010590             99.905064\n",
       "2                  24.998830             27.015983             99.799582\n",
       "3                  25.004625             27.014306            100.214238\n",
       "4                  25.005294             27.011890             99.898029\n",
       "...                      ...                   ...                   ...\n",
       "361                24.739957             27.282303             95.998911\n",
       "362                24.743169             27.288368             95.987564\n",
       "363                24.734572             27.291266             95.871586\n",
       "364                24.736621             27.290003             95.480640\n",
       "365                24.740512             27.288230             95.506557\n",
       "StocksSet [366 days x 3 stocks - W.Size 5]"
      ]
     },
     "execution_count": 121,
     "metadata": {},
     "output_type": "execute_result"
    }
   ],
   "source": [
    "pf = mk_pf.make_portfolio(stocks=3, price=[25, 27, 100])\n",
    "pf"
   ]
  },
  {
   "cell_type": "code",
   "execution_count": 126,
   "metadata": {},
   "outputs": [
    {
     "ename": "ValueError",
     "evalue": "cannot convert float NaN to integer",
     "output_type": "error",
     "traceback": [
      "\u001b[0;31m---------------------------------------------------------------------------\u001b[0m",
      "\u001b[0;31mValueError\u001b[0m                                Traceback (most recent call last)",
      "File \u001b[0;32m~/proyectos/garpar/lib/python3.10/site-packages/IPython/core/formatters.py:708\u001b[0m, in \u001b[0;36mPlainTextFormatter.__call__\u001b[0;34m(self, obj)\u001b[0m\n\u001b[1;32m    701\u001b[0m stream \u001b[39m=\u001b[39m StringIO()\n\u001b[1;32m    702\u001b[0m printer \u001b[39m=\u001b[39m pretty\u001b[39m.\u001b[39mRepresentationPrinter(stream, \u001b[39mself\u001b[39m\u001b[39m.\u001b[39mverbose,\n\u001b[1;32m    703\u001b[0m     \u001b[39mself\u001b[39m\u001b[39m.\u001b[39mmax_width, \u001b[39mself\u001b[39m\u001b[39m.\u001b[39mnewline,\n\u001b[1;32m    704\u001b[0m     max_seq_length\u001b[39m=\u001b[39m\u001b[39mself\u001b[39m\u001b[39m.\u001b[39mmax_seq_length,\n\u001b[1;32m    705\u001b[0m     singleton_pprinters\u001b[39m=\u001b[39m\u001b[39mself\u001b[39m\u001b[39m.\u001b[39msingleton_printers,\n\u001b[1;32m    706\u001b[0m     type_pprinters\u001b[39m=\u001b[39m\u001b[39mself\u001b[39m\u001b[39m.\u001b[39mtype_printers,\n\u001b[1;32m    707\u001b[0m     deferred_pprinters\u001b[39m=\u001b[39m\u001b[39mself\u001b[39m\u001b[39m.\u001b[39mdeferred_printers)\n\u001b[0;32m--> 708\u001b[0m printer\u001b[39m.\u001b[39;49mpretty(obj)\n\u001b[1;32m    709\u001b[0m printer\u001b[39m.\u001b[39mflush()\n\u001b[1;32m    710\u001b[0m \u001b[39mreturn\u001b[39;00m stream\u001b[39m.\u001b[39mgetvalue()\n",
      "File \u001b[0;32m~/proyectos/garpar/lib/python3.10/site-packages/IPython/lib/pretty.py:410\u001b[0m, in \u001b[0;36mRepresentationPrinter.pretty\u001b[0;34m(self, obj)\u001b[0m\n\u001b[1;32m    407\u001b[0m                         \u001b[39mreturn\u001b[39;00m meth(obj, \u001b[39mself\u001b[39m, cycle)\n\u001b[1;32m    408\u001b[0m                 \u001b[39mif\u001b[39;00m \u001b[39mcls\u001b[39m \u001b[39mis\u001b[39;00m \u001b[39mnot\u001b[39;00m \u001b[39mobject\u001b[39m \\\n\u001b[1;32m    409\u001b[0m                         \u001b[39mand\u001b[39;00m \u001b[39mcallable\u001b[39m(\u001b[39mcls\u001b[39m\u001b[39m.\u001b[39m\u001b[39m__dict__\u001b[39m\u001b[39m.\u001b[39mget(\u001b[39m'\u001b[39m\u001b[39m__repr__\u001b[39m\u001b[39m'\u001b[39m)):\n\u001b[0;32m--> 410\u001b[0m                     \u001b[39mreturn\u001b[39;00m _repr_pprint(obj, \u001b[39mself\u001b[39;49m, cycle)\n\u001b[1;32m    412\u001b[0m     \u001b[39mreturn\u001b[39;00m _default_pprint(obj, \u001b[39mself\u001b[39m, cycle)\n\u001b[1;32m    413\u001b[0m \u001b[39mfinally\u001b[39;00m:\n",
      "File \u001b[0;32m~/proyectos/garpar/lib/python3.10/site-packages/IPython/lib/pretty.py:778\u001b[0m, in \u001b[0;36m_repr_pprint\u001b[0;34m(obj, p, cycle)\u001b[0m\n\u001b[1;32m    776\u001b[0m \u001b[39m\u001b[39m\u001b[39m\"\"\"A pprint that just redirects to the normal repr function.\"\"\"\u001b[39;00m\n\u001b[1;32m    777\u001b[0m \u001b[39m# Find newlines and replace them with p.break_()\u001b[39;00m\n\u001b[0;32m--> 778\u001b[0m output \u001b[39m=\u001b[39m \u001b[39mrepr\u001b[39;49m(obj)\n\u001b[1;32m    779\u001b[0m lines \u001b[39m=\u001b[39m output\u001b[39m.\u001b[39msplitlines()\n\u001b[1;32m    780\u001b[0m \u001b[39mwith\u001b[39;00m p\u001b[39m.\u001b[39mgroup():\n",
      "File \u001b[0;32m~/proyectos/garpar/src/garpar/core/portfolio.py:406\u001b[0m, in \u001b[0;36mStocksSet.__repr__\u001b[0;34m(self)\u001b[0m\n\u001b[1;32m    405\u001b[0m \u001b[39mdef\u001b[39;00m \u001b[39m__repr__\u001b[39m(\u001b[39mself\u001b[39m):\n\u001b[0;32m--> 406\u001b[0m     header \u001b[39m=\u001b[39m \u001b[39mself\u001b[39;49m\u001b[39m.\u001b[39;49m_get_sw_headers()\n\u001b[1;32m    407\u001b[0m     dimensions \u001b[39m=\u001b[39m \u001b[39mself\u001b[39m\u001b[39m.\u001b[39m_get_dxs_dimensions()\n\u001b[1;32m    409\u001b[0m     \u001b[39mwith\u001b[39;00m (\n\u001b[1;32m    410\u001b[0m         df_temporal_header(\u001b[39mself\u001b[39m\u001b[39m.\u001b[39m_df, header) \u001b[39mas\u001b[39;00m df,\n\u001b[1;32m    411\u001b[0m         pd\u001b[39m.\u001b[39moption_context(\u001b[39m\"\u001b[39m\u001b[39mdisplay.show_dimensions\u001b[39m\u001b[39m\"\u001b[39m, \u001b[39mFalse\u001b[39;00m),\n\u001b[1;32m    412\u001b[0m     ):\n",
      "File \u001b[0;32m~/proyectos/garpar/src/garpar/core/portfolio.py:391\u001b[0m, in \u001b[0;36mStocksSet._get_sw_headers\u001b[0;34m(self)\u001b[0m\n\u001b[1;32m    389\u001b[0m \u001b[39m\u001b[39m\u001b[39m\"\"\"Columns names with weights and entropy.\"\"\"\u001b[39;00m\n\u001b[1;32m    390\u001b[0m headers \u001b[39m=\u001b[39m []\n\u001b[0;32m--> 391\u001b[0m fmt_weights \u001b[39m=\u001b[39m \u001b[39mself\u001b[39;49m\u001b[39m.\u001b[39;49m_pd_fmt_serie(\u001b[39mself\u001b[39;49m\u001b[39m.\u001b[39;49mweights)\n\u001b[1;32m    392\u001b[0m fmt_entropy \u001b[39m=\u001b[39m \u001b[39mself\u001b[39m\u001b[39m.\u001b[39m_pd_fmt_serie(\u001b[39mself\u001b[39m\u001b[39m.\u001b[39mentropy)\n\u001b[1;32m    393\u001b[0m \u001b[39mfor\u001b[39;00m c, w, h \u001b[39min\u001b[39;00m \u001b[39mzip\u001b[39m(\u001b[39mself\u001b[39m\u001b[39m.\u001b[39m_df\u001b[39m.\u001b[39mcolumns, fmt_weights, fmt_entropy):\n",
      "File \u001b[0;32m~/proyectos/garpar/src/garpar/core/portfolio.py:385\u001b[0m, in \u001b[0;36mStocksSet._pd_fmt_serie\u001b[0;34m(self, serie)\u001b[0m\n\u001b[1;32m    384\u001b[0m \u001b[39mdef\u001b[39;00m \u001b[39m_pd_fmt_serie\u001b[39m(\u001b[39mself\u001b[39m, serie):\n\u001b[0;32m--> 385\u001b[0m     arr \u001b[39m=\u001b[39m serie\u001b[39m.\u001b[39;49mto_numpy(na_value\u001b[39m=\u001b[39;49mnp\u001b[39m.\u001b[39;49mnan)\n\u001b[1;32m    386\u001b[0m     \u001b[39mreturn\u001b[39;00m pd_fmt\u001b[39m.\u001b[39mformat_array(arr, \u001b[39mNone\u001b[39;00m, na_rep\u001b[39m=\u001b[39m\u001b[39m\"\u001b[39m\u001b[39m?\u001b[39m\u001b[39m\"\u001b[39m)\n",
      "File \u001b[0;32m~/proyectos/garpar/lib/python3.10/site-packages/pandas/core/base.py:544\u001b[0m, in \u001b[0;36mIndexOpsMixin.to_numpy\u001b[0;34m(self, dtype, copy, na_value, **kwargs)\u001b[0m\n\u001b[1;32m    541\u001b[0m     \u001b[39melse\u001b[39;00m:\n\u001b[1;32m    542\u001b[0m         values \u001b[39m=\u001b[39m values\u001b[39m.\u001b[39mcopy()\n\u001b[0;32m--> 544\u001b[0m     values[np\u001b[39m.\u001b[39;49masanyarray(\u001b[39mself\u001b[39;49m\u001b[39m.\u001b[39;49misna())] \u001b[39m=\u001b[39m na_value\n\u001b[1;32m    545\u001b[0m \u001b[39melse\u001b[39;00m:\n\u001b[1;32m    546\u001b[0m     values \u001b[39m=\u001b[39m \u001b[39mself\u001b[39m\u001b[39m.\u001b[39m_values\n",
      "\u001b[0;31mValueError\u001b[0m: cannot convert float NaN to integer"
     ]
    },
    {
     "ename": "ValueError",
     "evalue": "cannot convert float NaN to integer",
     "output_type": "error",
     "traceback": [
      "\u001b[0;31m---------------------------------------------------------------------------\u001b[0m",
      "\u001b[0;31mValueError\u001b[0m                                Traceback (most recent call last)",
      "File \u001b[0;32m~/proyectos/garpar/lib/python3.10/site-packages/IPython/core/formatters.py:344\u001b[0m, in \u001b[0;36mBaseFormatter.__call__\u001b[0;34m(self, obj)\u001b[0m\n\u001b[1;32m    342\u001b[0m     method \u001b[39m=\u001b[39m get_real_method(obj, \u001b[39mself\u001b[39m\u001b[39m.\u001b[39mprint_method)\n\u001b[1;32m    343\u001b[0m     \u001b[39mif\u001b[39;00m method \u001b[39mis\u001b[39;00m \u001b[39mnot\u001b[39;00m \u001b[39mNone\u001b[39;00m:\n\u001b[0;32m--> 344\u001b[0m         \u001b[39mreturn\u001b[39;00m method()\n\u001b[1;32m    345\u001b[0m     \u001b[39mreturn\u001b[39;00m \u001b[39mNone\u001b[39;00m\n\u001b[1;32m    346\u001b[0m \u001b[39melse\u001b[39;00m:\n",
      "File \u001b[0;32m~/proyectos/garpar/src/garpar/core/portfolio.py:425\u001b[0m, in \u001b[0;36mStocksSet._repr_html_\u001b[0;34m(self)\u001b[0m\n\u001b[1;32m    420\u001b[0m \u001b[39mdef\u001b[39;00m \u001b[39m_repr_html_\u001b[39m(\u001b[39mself\u001b[39m):\n\u001b[1;32m    421\u001b[0m \u001b[39m    \u001b[39m\u001b[39m\"\"\"Return a html representation for a the StocksSet.\u001b[39;00m\n\u001b[1;32m    422\u001b[0m \n\u001b[1;32m    423\u001b[0m \u001b[39m    Mainly for IPython notebook.\u001b[39;00m\n\u001b[1;32m    424\u001b[0m \u001b[39m    \"\"\"\u001b[39;00m\n\u001b[0;32m--> 425\u001b[0m     header \u001b[39m=\u001b[39m \u001b[39mself\u001b[39;49m\u001b[39m.\u001b[39;49m_get_sw_headers()\n\u001b[1;32m    426\u001b[0m     dimensions \u001b[39m=\u001b[39m \u001b[39mself\u001b[39m\u001b[39m.\u001b[39m_get_dxs_dimensions()\n\u001b[1;32m    428\u001b[0m     \u001b[39m# retrieve the original string\u001b[39;00m\n",
      "File \u001b[0;32m~/proyectos/garpar/src/garpar/core/portfolio.py:391\u001b[0m, in \u001b[0;36mStocksSet._get_sw_headers\u001b[0;34m(self)\u001b[0m\n\u001b[1;32m    389\u001b[0m \u001b[39m\u001b[39m\u001b[39m\"\"\"Columns names with weights and entropy.\"\"\"\u001b[39;00m\n\u001b[1;32m    390\u001b[0m headers \u001b[39m=\u001b[39m []\n\u001b[0;32m--> 391\u001b[0m fmt_weights \u001b[39m=\u001b[39m \u001b[39mself\u001b[39;49m\u001b[39m.\u001b[39;49m_pd_fmt_serie(\u001b[39mself\u001b[39;49m\u001b[39m.\u001b[39;49mweights)\n\u001b[1;32m    392\u001b[0m fmt_entropy \u001b[39m=\u001b[39m \u001b[39mself\u001b[39m\u001b[39m.\u001b[39m_pd_fmt_serie(\u001b[39mself\u001b[39m\u001b[39m.\u001b[39mentropy)\n\u001b[1;32m    393\u001b[0m \u001b[39mfor\u001b[39;00m c, w, h \u001b[39min\u001b[39;00m \u001b[39mzip\u001b[39m(\u001b[39mself\u001b[39m\u001b[39m.\u001b[39m_df\u001b[39m.\u001b[39mcolumns, fmt_weights, fmt_entropy):\n",
      "File \u001b[0;32m~/proyectos/garpar/src/garpar/core/portfolio.py:385\u001b[0m, in \u001b[0;36mStocksSet._pd_fmt_serie\u001b[0;34m(self, serie)\u001b[0m\n\u001b[1;32m    384\u001b[0m \u001b[39mdef\u001b[39;00m \u001b[39m_pd_fmt_serie\u001b[39m(\u001b[39mself\u001b[39m, serie):\n\u001b[0;32m--> 385\u001b[0m     arr \u001b[39m=\u001b[39m serie\u001b[39m.\u001b[39;49mto_numpy(na_value\u001b[39m=\u001b[39;49mnp\u001b[39m.\u001b[39;49mnan)\n\u001b[1;32m    386\u001b[0m     \u001b[39mreturn\u001b[39;00m pd_fmt\u001b[39m.\u001b[39mformat_array(arr, \u001b[39mNone\u001b[39;00m, na_rep\u001b[39m=\u001b[39m\u001b[39m\"\u001b[39m\u001b[39m?\u001b[39m\u001b[39m\"\u001b[39m)\n",
      "File \u001b[0;32m~/proyectos/garpar/lib/python3.10/site-packages/pandas/core/base.py:544\u001b[0m, in \u001b[0;36mIndexOpsMixin.to_numpy\u001b[0;34m(self, dtype, copy, na_value, **kwargs)\u001b[0m\n\u001b[1;32m    541\u001b[0m     \u001b[39melse\u001b[39;00m:\n\u001b[1;32m    542\u001b[0m         values \u001b[39m=\u001b[39m values\u001b[39m.\u001b[39mcopy()\n\u001b[0;32m--> 544\u001b[0m     values[np\u001b[39m.\u001b[39;49masanyarray(\u001b[39mself\u001b[39;49m\u001b[39m.\u001b[39;49misna())] \u001b[39m=\u001b[39m na_value\n\u001b[1;32m    545\u001b[0m \u001b[39melse\u001b[39;00m:\n\u001b[1;32m    546\u001b[0m     values \u001b[39m=\u001b[39m \u001b[39mself\u001b[39m\u001b[39m.\u001b[39m_values\n",
      "\u001b[0;31mValueError\u001b[0m: cannot convert float NaN to integer"
     ]
    }
   ],
   "source": [
    "pf.copy(weights=[1, 2, 3])"
   ]
  },
  {
   "cell_type": "code",
   "execution_count": null,
   "metadata": {},
   "outputs": [],
   "source": []
  }
 ],
 "metadata": {
  "kernelspec": {
   "display_name": "Python 3 (ipykernel)",
   "language": "python",
   "name": "python3"
  },
  "language_info": {
   "codemirror_mode": {
    "name": "ipython",
    "version": 3
   },
   "file_extension": ".py",
   "mimetype": "text/x-python",
   "name": "python",
   "nbconvert_exporter": "python",
   "pygments_lexer": "ipython3",
   "version": "3.12.3"
  }
 },
 "nbformat": 4,
 "nbformat_minor": 4
}
