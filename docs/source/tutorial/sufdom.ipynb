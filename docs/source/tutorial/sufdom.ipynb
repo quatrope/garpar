{
 "cells": [
  {
   "cell_type": "markdown",
   "metadata": {},
   "source": [
    "# Dominance and satisfaction analysis (AKA filters)\n",
    "\n",
    "This tutorial provides a practical overview of how to use scikit-criteria for \n",
    "satisfaction and dominance analysis, as well as the creation of filters for \n",
    "data cleaning.\n",
    "\n",
    "\n",
    "## Case\n",
    "\n",
    "In order to decide to purchase a series of bonds, a company studied five \n",
    "candidate investments: *PE*, *JN*, *AA*, *FX*, *MM* and *GN*. \n",
    "\n",
    "The finance department decides to consider the following criteria for selection. \n",
    "selection:\n",
    "\n",
    "1. **ROE:** Return percentage. Sense of optimality, \n",
    "   $Maximize$.\n",
    "2. **CAP:** Market capitalization. Sense of optimality, $Maximize$.  \n",
    "3. **RI:** Risk. Sense of optimality, $Minimize$. \n",
    "\n",
    "The full decision matrix"
   ]
  },
  {
   "cell_type": "code",
   "execution_count": 1,
   "metadata": {},
   "outputs": [
    {
     "data": {
      "text/html": [
       "<div class='decisionmatrix'>\n",
       "<div>\n",
       "<style scoped>\n",
       "    .dataframe tbody tr th:only-of-type {\n",
       "        vertical-align: middle;\n",
       "    }\n",
       "\n",
       "    .dataframe tbody tr th {\n",
       "        vertical-align: top;\n",
       "    }\n",
       "\n",
       "    .dataframe thead th {\n",
       "        text-align: right;\n",
       "    }\n",
       "</style>\n",
       "<table border=\"1\" class=\"dataframe\">\n",
       "  <thead>\n",
       "    <tr style=\"text-align: right;\">\n",
       "      <th></th>\n",
       "      <th>ROE[▲ 1.0]</th>\n",
       "      <th>CAP[▲ 1.0]</th>\n",
       "      <th>RI[▼ 1.0]</th>\n",
       "    </tr>\n",
       "  </thead>\n",
       "  <tbody>\n",
       "    <tr>\n",
       "      <th>PE</th>\n",
       "      <td>7</td>\n",
       "      <td>5</td>\n",
       "      <td>35</td>\n",
       "    </tr>\n",
       "    <tr>\n",
       "      <th>JN</th>\n",
       "      <td>5</td>\n",
       "      <td>4</td>\n",
       "      <td>26</td>\n",
       "    </tr>\n",
       "    <tr>\n",
       "      <th>AA</th>\n",
       "      <td>5</td>\n",
       "      <td>6</td>\n",
       "      <td>28</td>\n",
       "    </tr>\n",
       "    <tr>\n",
       "      <th>FX</th>\n",
       "      <td>3</td>\n",
       "      <td>4</td>\n",
       "      <td>36</td>\n",
       "    </tr>\n",
       "    <tr>\n",
       "      <th>MM</th>\n",
       "      <td>1</td>\n",
       "      <td>7</td>\n",
       "      <td>30</td>\n",
       "    </tr>\n",
       "    <tr>\n",
       "      <th>FN</th>\n",
       "      <td>5</td>\n",
       "      <td>8</td>\n",
       "      <td>30</td>\n",
       "    </tr>\n",
       "  </tbody>\n",
       "</table>\n",
       "</div><em class='decisionmatrix-dim'>6 Alternatives x 3 Criteria</em>\n",
       "</div>"
      ],
      "text/plain": [
       "    ROE[▲ 1.0]  CAP[▲ 1.0]  RI[▼ 1.0]\n",
       "PE           7           5         35\n",
       "JN           5           4         26\n",
       "AA           5           6         28\n",
       "FX           3           4         36\n",
       "MM           1           7         30\n",
       "FN           5           8         30\n",
       "[6 Alternatives x 3 Criteria]"
      ]
     },
     "execution_count": 1,
     "metadata": {},
     "output_type": "execute_result"
    }
   ],
   "source": [
    "import skcriteria as skc\n",
    "\n",
    "dm = skc.mkdm(\n",
    "    matrix=[\n",
    "        [7, 5, 35],\n",
    "        [5, 4, 26],\n",
    "        [5, 6, 28],\n",
    "        [3, 4, 36],\n",
    "        [1, 7, 30],\n",
    "        [5, 8, 30],\n",
    "    ],\n",
    "    objectives=[max, max, min],\n",
    "    alternatives=[\"PE\", \"JN\", \"AA\", \"FX\", \"MM\", \"FN\"],\n",
    "    criteria=[\"ROE\", \"CAP\", \"RI\"],\n",
    ")\n",
    "\n",
    "dm"
   ]
  },
  {
   "cell_type": "markdown",
   "metadata": {},
   "source": [
    "## Satisfaction analysis\n",
    "\n",
    "It is reasonable to think that any decision-maker would want to set \n",
    "\"satisfaction thresholds\" for each criterion, in such a way that alternatives \n",
    "that do not  exceed the thresholds in any criterion are eliminated.\n",
    "\n",
    "The basic idea was proposed in the work of \n",
    "\"_A Behavioral Model of Rational Choice_\"  \n",
    "<cite data-cite=\"simon1955behavioral\">[simon1955behavioral]</cite> and presents \n",
    "the definition of \"*aspiration levels*\" and are set a priori by the decision maker.\n",
    "\n",
    "\n",
    "> For our example we will assume that the decision-maker only accepts alternatives \n",
    "> with $ROE >= 2%$.\n",
    "\n",
    "For this analysis we will need the `skcriteria.preprocessing.filters` module ."
   ]
  },
  {
   "cell_type": "code",
   "execution_count": null,
   "metadata": {},
   "outputs": [],
   "source": [
    "from skcriteria.preprocessing import filters"
   ]
  },
  {
   "cell_type": "markdown",
   "metadata": {},
   "source": [
    "The filters are *transformers* and  works as follows:\n",
    "\n",
    "- At the moment of construction they are provided with a dict that as a key has \n",
    "  the name of a criterion, and as a value the condition to be satisfied.\n",
    "- Optionally it receives a parameter `ignore_missing_criteria` which if it is \n",
    "  set to False (default value) fails any attempt to transform an decision \n",
    "  matrix that does not have any of the criteria.\n",
    "- For an alternative not to be eliminated the alternative has to pass all \n",
    "  filter conditions. \n",
    "\n",
    "The simplest filter consists of instances of the class ``filters.Filters``,\n",
    "which as a value of the configuration dict, accepts functions that are applied \n",
    "to the corresponding criteria and returns a mask where the `True` values denote \n",
    "the alternatives that we want to keep.\n",
    "\n",
    "To write the function that filters the alternatives where $ROE >= 2."
   ]
  },
  {
   "cell_type": "code",
   "execution_count": null,
   "metadata": {},
   "outputs": [
    {
     "data": {
      "text/plain": [
       "<Filter [criteria_filters={'ROE': <function roe_filter at 0x7fb3f922aa70>}, ignore_missing_criteria=False]>"
      ]
     },
     "execution_count": 3,
     "metadata": {},
     "output_type": "execute_result"
    }
   ],
   "source": [
    "def roe_filter(v):\n",
    "    return v >= 2  # criteria are numpy.ndarray\n",
    "\n",
    "flt =  filters.Filter({\"ROE\": roe_filter})\n",
    "flt"
   ]
  },
  {
   "cell_type": "markdown",
   "metadata": {},
   "source": [
    "However, `scikit-criteria` offers a simpler collection of filters\n",
    "that implements the most common operations of equality, inequality and \n",
    "inclusion a set.\n",
    "\n",
    "In our case we are interested in the `FilterGE` class, where GE stands for\n",
    "*Greater or Equal*.\n",
    "\n",
    "So the filter would be defined as"
   ]
  },
  {
   "cell_type": "code",
   "execution_count": null,
   "metadata": {},
   "outputs": [
    {
     "data": {
      "text/plain": [
       "<FilterGE [criteria_filters={'ROE': 2}, ignore_missing_criteria=False]>"
      ]
     },
     "execution_count": 4,
     "metadata": {},
     "output_type": "execute_result"
    }
   ],
   "source": [
    "flt = filters.FilterGE({\"ROE\": 2})\n",
    "flt"
   ]
  },
  {
   "cell_type": "markdown",
   "metadata": {},
   "source": [
    "The way to apply the filter to a `DecisionMatrix`, is like any other \n",
    "transformer: "
   ]
  },
  {
   "cell_type": "code",
   "execution_count": null,
   "metadata": {},
   "outputs": [
    {
     "data": {
      "text/html": [
       "<div class='decisionmatrix'>\n",
       "<div>\n",
       "<style scoped>\n",
       "    .dataframe tbody tr th:only-of-type {\n",
       "        vertical-align: middle;\n",
       "    }\n",
       "\n",
       "    .dataframe tbody tr th {\n",
       "        vertical-align: top;\n",
       "    }\n",
       "\n",
       "    .dataframe thead th {\n",
       "        text-align: right;\n",
       "    }\n",
       "</style>\n",
       "<table border=\"1\" class=\"dataframe\">\n",
       "  <thead>\n",
       "    <tr style=\"text-align: right;\">\n",
       "      <th></th>\n",
       "      <th>ROE[▲ 1.0]</th>\n",
       "      <th>CAP[▲ 1.0]</th>\n",
       "      <th>RI[▼ 1.0]</th>\n",
       "    </tr>\n",
       "  </thead>\n",
       "  <tbody>\n",
       "    <tr>\n",
       "      <th>PE</th>\n",
       "      <td>7</td>\n",
       "      <td>5</td>\n",
       "      <td>35</td>\n",
       "    </tr>\n",
       "    <tr>\n",
       "      <th>JN</th>\n",
       "      <td>5</td>\n",
       "      <td>4</td>\n",
       "      <td>26</td>\n",
       "    </tr>\n",
       "    <tr>\n",
       "      <th>AA</th>\n",
       "      <td>5</td>\n",
       "      <td>6</td>\n",
       "      <td>28</td>\n",
       "    </tr>\n",
       "    <tr>\n",
       "      <th>FX</th>\n",
       "      <td>3</td>\n",
       "      <td>4</td>\n",
       "      <td>36</td>\n",
       "    </tr>\n",
       "    <tr>\n",
       "      <th>FN</th>\n",
       "      <td>5</td>\n",
       "      <td>8</td>\n",
       "      <td>30</td>\n",
       "    </tr>\n",
       "  </tbody>\n",
       "</table>\n",
       "</div><em class='decisionmatrix-dim'>5 Alternatives x 3 Criteria</em>\n",
       "</div>"
      ],
      "text/plain": [
       "    ROE[▲ 1.0]  CAP[▲ 1.0]  RI[▼ 1.0]\n",
       "PE           7           5         35\n",
       "JN           5           4         26\n",
       "AA           5           6         28\n",
       "FX           3           4         36\n",
       "FN           5           8         30\n",
       "[5 Alternatives x 3 Criteria]"
      ]
     },
     "execution_count": 5,
     "metadata": {},
     "output_type": "execute_result"
    }
   ],
   "source": [
    "dmf = flt.transform(dm)\n",
    "dmf"
   ]
  },
  {
   "cell_type": "markdown",
   "metadata": {},
   "source": [
    "As can be seen, we eliminated the alternative `MM` which did not comply with an\n",
    "$ROE >= 2$.\n",
    "\n",
    "If on the other hand (to give an example) we would like to filter out the alternatives\n",
    "$ROE > 3$ and $CAP > 4$ (using the original matrix), we can use the \n",
    "filter `FilterGT` where GT is *Greater Than*."
   ]
  },
  {
   "cell_type": "code",
   "execution_count": null,
   "metadata": {},
   "outputs": [
    {
     "data": {
      "text/html": [
       "<div class='decisionmatrix'>\n",
       "<div>\n",
       "<style scoped>\n",
       "    .dataframe tbody tr th:only-of-type {\n",
       "        vertical-align: middle;\n",
       "    }\n",
       "\n",
       "    .dataframe tbody tr th {\n",
       "        vertical-align: top;\n",
       "    }\n",
       "\n",
       "    .dataframe thead th {\n",
       "        text-align: right;\n",
       "    }\n",
       "</style>\n",
       "<table border=\"1\" class=\"dataframe\">\n",
       "  <thead>\n",
       "    <tr style=\"text-align: right;\">\n",
       "      <th></th>\n",
       "      <th>ROE[▲ 1.0]</th>\n",
       "      <th>CAP[▲ 1.0]</th>\n",
       "      <th>RI[▼ 1.0]</th>\n",
       "    </tr>\n",
       "  </thead>\n",
       "  <tbody>\n",
       "    <tr>\n",
       "      <th>PE</th>\n",
       "      <td>7</td>\n",
       "      <td>5</td>\n",
       "      <td>35</td>\n",
       "    </tr>\n",
       "    <tr>\n",
       "      <th>AA</th>\n",
       "      <td>5</td>\n",
       "      <td>6</td>\n",
       "      <td>28</td>\n",
       "    </tr>\n",
       "    <tr>\n",
       "      <th>FN</th>\n",
       "      <td>5</td>\n",
       "      <td>8</td>\n",
       "      <td>30</td>\n",
       "    </tr>\n",
       "  </tbody>\n",
       "</table>\n",
       "</div><em class='decisionmatrix-dim'>3 Alternatives x 3 Criteria</em>\n",
       "</div>"
      ],
      "text/plain": [
       "    ROE[▲ 1.0]  CAP[▲ 1.0]  RI[▼ 1.0]\n",
       "PE           7           5         35\n",
       "AA           5           6         28\n",
       "FN           5           8         30\n",
       "[3 Alternatives x 3 Criteria]"
      ]
     },
     "execution_count": 6,
     "metadata": {},
     "output_type": "execute_result"
    }
   ],
   "source": [
    "filters.FilterGT({\"ROE\": 3, \"CAP\": 4}).transform(dm)"
   ]
  },
  {
   "cell_type": "markdown",
   "metadata": {},
   "source": [
    "<div class=\"alert alert-info\">\n",
    "**Note:** \n",
    "\n",
    "If it is necessary to filter the alternatives by two separate conditions, \n",
    "a pipeline can be used. An example of this can be seen below, where we combine \n",
    "a satisficing and a dominance filter\n",
    "</div>\n",
    "\n",
    "The complete list of filters implemented by Scikit-Criteria is:\n",
    "\n",
    "- ``filters.Filter``: Filter alternatives according to the value of a criterion \n",
    "  using arbitrary functions.\n",
    "\n",
    "  ```python\n",
    "  filters.Filter({\"criterion\": lambda v: v > 1})\n",
    "  ```\n",
    "\n",
    "- ``filters.FilterGT``: Filter Greater Than ($>$).\n",
    "  \n",
    "  ```python\n",
    "  filters.FilterGT({\"criterion\":  1})\n",
    "  ```\n",
    "\n",
    "- ``filters.FilterGE``: Filter Greater or Equal than ($>=$).\n",
    "\n",
    "  ```python\n",
    "  filters.FilterGE({\"criterion\":  2})\n",
    "  ```\n",
    "\n",
    "- ``filters.FilterLT``: Filter Less Than ($<$).\n",
    "  \n",
    "  ```python\n",
    "  filters.FilterLT({\"criterion\":  1})\n",
    "  ```\n",
    "\n",
    "- ``filters.FilterLE``: Filter Less or Equal than ($<=$).\n",
    "\n",
    "  ```python\n",
    "  filters.FilterLE({\"criterion\":  2})\n",
    "  ```\n",
    "\n",
    "- ``filters.FilterEQ``: Filter Equal ($==$).\n",
    "  \n",
    "  ```python\n",
    "  filters.FilterEQ({\"criterion\":  1})\n",
    "  ```\n",
    "\n",
    "- ``filters.FilterNE``: Filter Not-Equal than ($!=$).\n",
    "\n",
    "  ```python\n",
    "  filters.FilterNE({\"criterion\":  2})\n",
    "  ```\n",
    "\n",
    "- ``filters.FilterIn``: Filter if the values is in a set ($\\in$).\n",
    "  \n",
    "  ```python\n",
    "  filters.FilterIn({\"criterion\":  [1, 2, 3]})\n",
    "  ```\n",
    "\n",
    "- ``filters.FilterNotIn``: Filter if the values is not in a set ($\\notin$).\n",
    "\n",
    "  ```python\n",
    "  filters.FilterNotIn({\"criterion\":  [1, 2, 3]})\n",
    "  ```\n"
   ]
  },
  {
   "cell_type": "markdown",
   "metadata": {},
   "source": [
    "## Dominance\n",
    "\n",
    "An alternative $A_0$ is said to dominate an alternative $A_1$ \n",
    "($A_0 \\succeq A_1$), if $A_0$ is equal in all criteria and better in at least \n",
    "one criterion. On the other hand, $A_0$ strictly dominate $A_1$ \n",
    "($A_0$ \\succeq A_1$).  $A_1$ ($A_0 \\succ A_1$), if $A_0$ is better on all \n",
    "criteria than $A_1$.\n",
    "\n",
    "\n",
    "Under this same train of thought, an alternative that dominates all others is \n",
    "called a \"_dominant alternative_\".  If there is a dominant alternative, it is \n",
    "undoubtedly the best choice, as long as a full ranking is not required.\n",
    "\n",
    "On the other hand, an *alternative is dominated* if there exists at least one \n",
    "other alternative that dominates it. If a dominated alternative exists and a \n",
    "consigned ordering is not desired, it must be removed from the set of decision \n",
    "alternatives. \n",
    "\n",
    "Generally only the non-dominated or efficient alternatives are the interested\n",
    " ones.\n",
    "\n",
    "### Scikit-Criteria dominance analysis\n",
    "\n",
    "Scikit-criteria, contains a number of tools within the attribute,\n",
    "`DecisionMatrix.dominance`, useful for the evaluation of dominant and dominated \n",
    "alternatives.\n",
    "\n",
    "For example, we can access all the dominated alternatives by using\n",
    "the `dominated` method"
   ]
  },
  {
   "cell_type": "code",
   "execution_count": null,
   "metadata": {},
   "outputs": [
    {
     "data": {
      "text/plain": [
       "Alternatives\n",
       "PE    False\n",
       "JN    False\n",
       "AA    False\n",
       "FX     True\n",
       "FN    False\n",
       "Name: Dominated, dtype: bool"
      ]
     },
     "execution_count": 7,
     "metadata": {},
     "output_type": "execute_result"
    }
   ],
   "source": [
    "dmf.dominance.dominated()"
   ]
  },
  {
   "cell_type": "markdown",
   "metadata": {},
   "source": [
    "It can be seen with this, that `FX` is an  dominated alternative. In addition \n",
    "if  we want to know which are the *strictly dominated* alternatives we need to \n",
    "provide the `strict` parameter to the method:"
   ]
  },
  {
   "cell_type": "code",
   "execution_count": null,
   "metadata": {},
   "outputs": [
    {
     "data": {
      "text/plain": [
       "Alternatives\n",
       "PE    False\n",
       "JN    False\n",
       "AA    False\n",
       "FX     True\n",
       "FN    False\n",
       "Name: Strictly dominated, dtype: bool"
      ]
     },
     "execution_count": 8,
     "metadata": {},
     "output_type": "execute_result"
    }
   ],
   "source": [
    "dmf.dominance.dominated(strict=True)"
   ]
  },
  {
   "cell_type": "markdown",
   "metadata": {},
   "source": [
    "It can be seen that *FX* is strictly dominated by at least one other alternative.\n",
    "\n",
    "If we wanted to find out which are the dominant alternatives of *FX*, \n",
    "we can opt for two paths: \n",
    "\n",
    "1. List all the dominant/strictly dominated alternatives of \n",
    "   *FX* using `dominator_of()`."
   ]
  },
  {
   "cell_type": "code",
   "execution_count": null,
   "metadata": {},
   "outputs": [
    {
     "data": {
      "text/plain": [
       "array(['PE', 'AA', 'FN'], dtype=object)"
      ]
     },
     "execution_count": 9,
     "metadata": {},
     "output_type": "execute_result"
    }
   ],
   "source": [
    "dmf.dominance.dominators_of(\"FX\", strict=True)"
   ]
  },
  {
   "cell_type": "markdown",
   "metadata": {},
   "source": [
    "2. Use `dominance()`/`dominance.dominance()` to see the full relationship \n",
    "   between all alternatives."
   ]
  },
  {
   "cell_type": "code",
   "execution_count": null,
   "metadata": {},
   "outputs": [
    {
     "data": {
      "text/html": [
       "<div>\n",
       "<style scoped>\n",
       "    .dataframe tbody tr th:only-of-type {\n",
       "        vertical-align: middle;\n",
       "    }\n",
       "\n",
       "    .dataframe tbody tr th {\n",
       "        vertical-align: top;\n",
       "    }\n",
       "\n",
       "    .dataframe thead th {\n",
       "        text-align: right;\n",
       "    }\n",
       "</style>\n",
       "<table border=\"1\" class=\"dataframe\">\n",
       "  <thead>\n",
       "    <tr style=\"text-align: right;\">\n",
       "      <th>Strictly dominated</th>\n",
       "      <th>PE</th>\n",
       "      <th>JN</th>\n",
       "      <th>AA</th>\n",
       "      <th>FX</th>\n",
       "      <th>FN</th>\n",
       "    </tr>\n",
       "    <tr>\n",
       "      <th>Strict dominators</th>\n",
       "      <th></th>\n",
       "      <th></th>\n",
       "      <th></th>\n",
       "      <th></th>\n",
       "      <th></th>\n",
       "    </tr>\n",
       "  </thead>\n",
       "  <tbody>\n",
       "    <tr>\n",
       "      <th>PE</th>\n",
       "      <td>False</td>\n",
       "      <td>False</td>\n",
       "      <td>False</td>\n",
       "      <td>True</td>\n",
       "      <td>False</td>\n",
       "    </tr>\n",
       "    <tr>\n",
       "      <th>JN</th>\n",
       "      <td>False</td>\n",
       "      <td>False</td>\n",
       "      <td>False</td>\n",
       "      <td>False</td>\n",
       "      <td>False</td>\n",
       "    </tr>\n",
       "    <tr>\n",
       "      <th>AA</th>\n",
       "      <td>False</td>\n",
       "      <td>False</td>\n",
       "      <td>False</td>\n",
       "      <td>True</td>\n",
       "      <td>False</td>\n",
       "    </tr>\n",
       "    <tr>\n",
       "      <th>FX</th>\n",
       "      <td>False</td>\n",
       "      <td>False</td>\n",
       "      <td>False</td>\n",
       "      <td>False</td>\n",
       "      <td>False</td>\n",
       "    </tr>\n",
       "    <tr>\n",
       "      <th>FN</th>\n",
       "      <td>False</td>\n",
       "      <td>False</td>\n",
       "      <td>False</td>\n",
       "      <td>True</td>\n",
       "      <td>False</td>\n",
       "    </tr>\n",
       "  </tbody>\n",
       "</table>\n",
       "</div>"
      ],
      "text/plain": [
       "Strictly dominated     PE     JN     AA     FX     FN\n",
       "Strict dominators                                    \n",
       "PE                  False  False  False   True  False\n",
       "JN                  False  False  False  False  False\n",
       "AA                  False  False  False   True  False\n",
       "FX                  False  False  False  False  False\n",
       "FN                  False  False  False   True  False"
      ]
     },
     "execution_count": 10,
     "metadata": {},
     "output_type": "execute_result"
    }
   ],
   "source": [
    "dmf.dominance(strict=True)  # equivalent to dmf.dominance.dominance()"
   ]
  },
  {
   "cell_type": "markdown",
   "metadata": {},
   "source": [
    "the result of the method is a \n",
    "[DataFrame](https://pandas.pydata.org/docs/reference/api/pandas.DataFrame.html) \n",
    "that in each cell has a `True` value if the _row alternative_ dominates the \n",
    "_column alternative_.\n",
    "\n",
    "If this matrix is very large: we can, for example, visualize it "
   ]
  },
  {
   "cell_type": "code",
   "execution_count": null,
   "metadata": {},
   "outputs": [
    {
     "data": {
      "image/png": "[encoded data removed]",
      "text/plain": [
       "<Figure size 640x480 with 1 Axes>"
      ]
     },
     "metadata": {},
     "output_type": "display_data"
    }
   ],
   "source": [
    "dmf.plot.dominance(strict=True);"
   ]
  },
  {
   "cell_type": "markdown",
   "metadata": {},
   "source": [
    "Finally we can see how each of the alternatives relate to each other \n",
    "dominatnes with *FX* using `compare()`."
   ]
  },
  {
   "cell_type": "code",
   "execution_count": null,
   "metadata": {},
   "outputs": [
    {
     "data": {
      "text/html": [
       "<div>\n",
       "<style scoped>\n",
       "    .dataframe tbody tr th:only-of-type {\n",
       "        vertical-align: middle;\n",
       "    }\n",
       "\n",
       "    .dataframe tbody tr th {\n",
       "        vertical-align: top;\n",
       "    }\n",
       "\n",
       "    .dataframe thead tr th {\n",
       "        text-align: left;\n",
       "    }\n",
       "</style>\n",
       "<table border=\"1\" class=\"dataframe\">\n",
       "  <thead>\n",
       "    <tr>\n",
       "      <th></th>\n",
       "      <th></th>\n",
       "      <th colspan=\"3\" halign=\"left\">Criteria</th>\n",
       "      <th>Performance</th>\n",
       "    </tr>\n",
       "    <tr>\n",
       "      <th></th>\n",
       "      <th></th>\n",
       "      <th>ROE</th>\n",
       "      <th>CAP</th>\n",
       "      <th>RI</th>\n",
       "      <th></th>\n",
       "    </tr>\n",
       "  </thead>\n",
       "  <tbody>\n",
       "    <tr>\n",
       "      <th rowspan=\"2\" valign=\"top\">Alternatives</th>\n",
       "      <th>PE</th>\n",
       "      <td>True</td>\n",
       "      <td>True</td>\n",
       "      <td>True</td>\n",
       "      <td>3</td>\n",
       "    </tr>\n",
       "    <tr>\n",
       "      <th>FX</th>\n",
       "      <td>False</td>\n",
       "      <td>False</td>\n",
       "      <td>False</td>\n",
       "      <td>0</td>\n",
       "    </tr>\n",
       "    <tr>\n",
       "      <th>Equals</th>\n",
       "      <th></th>\n",
       "      <td>False</td>\n",
       "      <td>False</td>\n",
       "      <td>False</td>\n",
       "      <td>0</td>\n",
       "    </tr>\n",
       "  </tbody>\n",
       "</table>\n",
       "</div>"
      ],
      "text/plain": [
       "                Criteria               Performance\n",
       "                     ROE    CAP     RI            \n",
       "Alternatives PE     True   True   True           3\n",
       "             FX    False  False  False           0\n",
       "Equals             False  False  False           0"
      ]
     },
     "metadata": {},
     "output_type": "display_data"
    },
    {
     "data": {
      "text/html": [
       "<div>\n",
       "<style scoped>\n",
       "    .dataframe tbody tr th:only-of-type {\n",
       "        vertical-align: middle;\n",
       "    }\n",
       "\n",
       "    .dataframe tbody tr th {\n",
       "        vertical-align: top;\n",
       "    }\n",
       "\n",
       "    .dataframe thead tr th {\n",
       "        text-align: left;\n",
       "    }\n",
       "</style>\n",
       "<table border=\"1\" class=\"dataframe\">\n",
       "  <thead>\n",
       "    <tr>\n",
       "      <th></th>\n",
       "      <th></th>\n",
       "      <th colspan=\"3\" halign=\"left\">Criteria</th>\n",
       "      <th>Performance</th>\n",
       "    </tr>\n",
       "    <tr>\n",
       "      <th></th>\n",
       "      <th></th>\n",
       "      <th>ROE</th>\n",
       "      <th>CAP</th>\n",
       "      <th>RI</th>\n",
       "      <th></th>\n",
       "    </tr>\n",
       "  </thead>\n",
       "  <tbody>\n",
       "    <tr>\n",
       "      <th rowspan=\"2\" valign=\"top\">Alternatives</th>\n",
       "      <th>JN</th>\n",
       "      <td>True</td>\n",
       "      <td>False</td>\n",
       "      <td>True</td>\n",
       "      <td>2</td>\n",
       "    </tr>\n",
       "    <tr>\n",
       "      <th>FX</th>\n",
       "      <td>False</td>\n",
       "      <td>False</td>\n",
       "      <td>False</td>\n",
       "      <td>0</td>\n",
       "    </tr>\n",
       "    <tr>\n",
       "      <th>Equals</th>\n",
       "      <th></th>\n",
       "      <td>False</td>\n",
       "      <td>True</td>\n",
       "      <td>False</td>\n",
       "      <td>1</td>\n",
       "    </tr>\n",
       "  </tbody>\n",
       "</table>\n",
       "</div>"
      ],
      "text/plain": [
       "                Criteria               Performance\n",
       "                     ROE    CAP     RI            \n",
       "Alternatives JN     True  False   True           2\n",
       "             FX    False  False  False           0\n",
       "Equals             False   True  False           1"
      ]
     },
     "metadata": {},
     "output_type": "display_data"
    },
    {
     "data": {
      "text/html": [
       "<div>\n",
       "<style scoped>\n",
       "    .dataframe tbody tr th:only-of-type {\n",
       "        vertical-align: middle;\n",
       "    }\n",
       "\n",
       "    .dataframe tbody tr th {\n",
       "        vertical-align: top;\n",
       "    }\n",
       "\n",
       "    .dataframe thead tr th {\n",
       "        text-align: left;\n",
       "    }\n",
       "</style>\n",
       "<table border=\"1\" class=\"dataframe\">\n",
       "  <thead>\n",
       "    <tr>\n",
       "      <th></th>\n",
       "      <th></th>\n",
       "      <th colspan=\"3\" halign=\"left\">Criteria</th>\n",
       "      <th>Performance</th>\n",
       "    </tr>\n",
       "    <tr>\n",
       "      <th></th>\n",
       "      <th></th>\n",
       "      <th>ROE</th>\n",
       "      <th>CAP</th>\n",
       "      <th>RI</th>\n",
       "      <th></th>\n",
       "    </tr>\n",
       "  </thead>\n",
       "  <tbody>\n",
       "    <tr>\n",
       "      <th rowspan=\"2\" valign=\"top\">Alternatives</th>\n",
       "      <th>AA</th>\n",
       "      <td>True</td>\n",
       "      <td>True</td>\n",
       "      <td>True</td>\n",
       "      <td>3</td>\n",
       "    </tr>\n",
       "    <tr>\n",
       "      <th>FX</th>\n",
       "      <td>False</td>\n",
       "      <td>False</td>\n",
       "      <td>False</td>\n",
       "      <td>0</td>\n",
       "    </tr>\n",
       "    <tr>\n",
       "      <th>Equals</th>\n",
       "      <th></th>\n",
       "      <td>False</td>\n",
       "      <td>False</td>\n",
       "      <td>False</td>\n",
       "      <td>0</td>\n",
       "    </tr>\n",
       "  </tbody>\n",
       "</table>\n",
       "</div>"
      ],
      "text/plain": [
       "                Criteria               Performance\n",
       "                     ROE    CAP     RI            \n",
       "Alternatives AA     True   True   True           3\n",
       "             FX    False  False  False           0\n",
       "Equals             False  False  False           0"
      ]
     },
     "metadata": {},
     "output_type": "display_data"
    },
    {
     "data": {
      "text/html": [
       "<div>\n",
       "<style scoped>\n",
       "    .dataframe tbody tr th:only-of-type {\n",
       "        vertical-align: middle;\n",
       "    }\n",
       "\n",
       "    .dataframe tbody tr th {\n",
       "        vertical-align: top;\n",
       "    }\n",
       "\n",
       "    .dataframe thead tr th {\n",
       "        text-align: left;\n",
       "    }\n",
       "</style>\n",
       "<table border=\"1\" class=\"dataframe\">\n",
       "  <thead>\n",
       "    <tr>\n",
       "      <th></th>\n",
       "      <th></th>\n",
       "      <th colspan=\"3\" halign=\"left\">Criteria</th>\n",
       "      <th>Performance</th>\n",
       "    </tr>\n",
       "    <tr>\n",
       "      <th></th>\n",
       "      <th></th>\n",
       "      <th>ROE</th>\n",
       "      <th>CAP</th>\n",
       "      <th>RI</th>\n",
       "      <th></th>\n",
       "    </tr>\n",
       "  </thead>\n",
       "  <tbody>\n",
       "    <tr>\n",
       "      <th rowspan=\"2\" valign=\"top\">Alternatives</th>\n",
       "      <th>FN</th>\n",
       "      <td>True</td>\n",
       "      <td>True</td>\n",
       "      <td>True</td>\n",
       "      <td>3</td>\n",
       "    </tr>\n",
       "    <tr>\n",
       "      <th>FX</th>\n",
       "      <td>False</td>\n",
       "      <td>False</td>\n",
       "      <td>False</td>\n",
       "      <td>0</td>\n",
       "    </tr>\n",
       "    <tr>\n",
       "      <th>Equals</th>\n",
       "      <th></th>\n",
       "      <td>False</td>\n",
       "      <td>False</td>\n",
       "      <td>False</td>\n",
       "      <td>0</td>\n",
       "    </tr>\n",
       "  </tbody>\n",
       "</table>\n",
       "</div>"
      ],
      "text/plain": [
       "                Criteria               Performance\n",
       "                     ROE    CAP     RI            \n",
       "Alternatives FN     True   True   True           3\n",
       "             FX    False  False  False           0\n",
       "Equals             False  False  False           0"
      ]
     },
     "metadata": {},
     "output_type": "display_data"
    }
   ],
   "source": [
    "for dominant in dmf.dominance.dominators_of(\"FX\"):\n",
    "    display(dmf.dominance.compare(dominant, 'FX'))"
   ]
  },
  {
   "cell_type": "markdown",
   "metadata": {},
   "source": [
    "### Filter non-dominated alternatives\n",
    "\n",
    "Finally skcriteria offers a way to filter non-dominated alternatives,\n",
    "which it accepts as a parameter if you want to evaluate strict dominance."
   ]
  },
  {
   "cell_type": "code",
   "execution_count": null,
   "metadata": {},
   "outputs": [
    {
     "data": {
      "text/plain": [
       "<FilterNonDominated [strict=True]>"
      ]
     },
     "execution_count": 13,
     "metadata": {},
     "output_type": "execute_result"
    }
   ],
   "source": [
    "flt = filters.FilterNonDominated(strict=True)\n",
    "flt"
   ]
  },
  {
   "cell_type": "code",
   "execution_count": null,
   "metadata": {},
   "outputs": [
    {
     "data": {
      "text/html": [
       "<div class='decisionmatrix'>\n",
       "<div>\n",
       "<style scoped>\n",
       "    .dataframe tbody tr th:only-of-type {\n",
       "        vertical-align: middle;\n",
       "    }\n",
       "\n",
       "    .dataframe tbody tr th {\n",
       "        vertical-align: top;\n",
       "    }\n",
       "\n",
       "    .dataframe thead th {\n",
       "        text-align: right;\n",
       "    }\n",
       "</style>\n",
       "<table border=\"1\" class=\"dataframe\">\n",
       "  <thead>\n",
       "    <tr style=\"text-align: right;\">\n",
       "      <th></th>\n",
       "      <th>ROE[▲ 1.0]</th>\n",
       "      <th>CAP[▲ 1.0]</th>\n",
       "      <th>RI[▼ 1.0]</th>\n",
       "    </tr>\n",
       "  </thead>\n",
       "  <tbody>\n",
       "    <tr>\n",
       "      <th>PE</th>\n",
       "      <td>7</td>\n",
       "      <td>5</td>\n",
       "      <td>35</td>\n",
       "    </tr>\n",
       "    <tr>\n",
       "      <th>JN</th>\n",
       "      <td>5</td>\n",
       "      <td>4</td>\n",
       "      <td>26</td>\n",
       "    </tr>\n",
       "    <tr>\n",
       "      <th>AA</th>\n",
       "      <td>5</td>\n",
       "      <td>6</td>\n",
       "      <td>28</td>\n",
       "    </tr>\n",
       "    <tr>\n",
       "      <th>FN</th>\n",
       "      <td>5</td>\n",
       "      <td>8</td>\n",
       "      <td>30</td>\n",
       "    </tr>\n",
       "  </tbody>\n",
       "</table>\n",
       "</div><em class='decisionmatrix-dim'>4 Alternatives x 3 Criteria</em>\n",
       "</div>"
      ],
      "text/plain": [
       "    ROE[▲ 1.0]  CAP[▲ 1.0]  RI[▼ 1.0]\n",
       "PE           7           5         35\n",
       "JN           5           4         26\n",
       "AA           5           6         28\n",
       "FN           5           8         30\n",
       "[4 Alternatives x 3 Criteria]"
      ]
     },
     "execution_count": 14,
     "metadata": {},
     "output_type": "execute_result"
    }
   ],
   "source": [
    "flt.transform(dmf)"
   ]
  },
  {
   "cell_type": "markdown",
   "metadata": {},
   "source": [
    "## Full expermient\n",
    "\n",
    "We can finally create a complete MCDA experiment that takes into account\n",
    "the in satisfaction and dominance analysis.\n",
    "\n",
    "The complete experiment would have the following steps\n",
    "\n",
    "1. Eliminate alternatives that do not yield at least 2% ($ROE >= $2).\n",
    "2. Eliminate dominated alternatives.\n",
    "3. Convert all criteria to maximize.\n",
    "4. The weights are scaled by the total sum.\n",
    "5. The matrix is scaled by the vector modulus.\n",
    "6. Apply [TOPSIS](https://en.wikipedia.org/wiki/TOPSIS).\n",
    "\n",
    "The most convenient way to do this is to use a pipeline."
   ]
  },
  {
   "cell_type": "code",
   "execution_count": null,
   "metadata": {},
   "outputs": [
    {
     "data": {
      "text/plain": [
       "<SKCPipeline [steps=[('filterge', <FilterGE [criteria_filters={'ROE': 2}, ignore_missing_criteria=False]>), ('filternondominated', <FilterNonDominated [strict=True]>), ('negateminimize', <NegateMinimize []>), ('sumscaler', <SumScaler [target='weights']>), ('vectorscaler', <VectorScaler [target='matrix']>), ('topsis', <TOPSIS [metric='euclidean']>)]]>"
      ]
     },
     "execution_count": 15,
     "metadata": {},
     "output_type": "execute_result"
    }
   ],
   "source": [
    "from skcriteria.preprocessing import scalers, invert_objectives\n",
    "from skcriteria.agg.similarity import TOPSIS\n",
    "from skcriteria.pipeline import mkpipe\n",
    "\n",
    "pipe = mkpipe(\n",
    "    filters.FilterGE({\"ROE\": 2}),\n",
    "    filters.FilterNonDominated(strict=True),\n",
    "    invert_objectives.NegateMinimize(),\n",
    "    scalers.SumScaler(target=\"weights\"),\n",
    "    scalers.VectorScaler(target=\"matrix\"),\n",
    "    TOPSIS(),\n",
    ")\n",
    "\n",
    "pipe"
   ]
  },
  {
   "cell_type": "markdown",
   "metadata": {},
   "source": [
    "We now apply the pipeline to the original data"
   ]
  },
  {
   "cell_type": "code",
   "execution_count": null,
   "metadata": {},
   "outputs": [
    {
     "data": {
      "text/html": [
       "<div class='skcresult-rank skcresult'>\n",
       "<style type=\"text/css\">\n",
       "</style>\n",
       "<table id=\"T_27194\">\n",
       "  <thead>\n",
       "    <tr>\n",
       "      <th class=\"index_name level0\" >Alternatives</th>\n",
       "      <th id=\"T_27194_level0_col0\" class=\"col_heading level0 col0\" >PE</th>\n",
       "      <th id=\"T_27194_level0_col1\" class=\"col_heading level0 col1\" >JN</th>\n",
       "      <th id=\"T_27194_level0_col2\" class=\"col_heading level0 col2\" >AA</th>\n",
       "      <th id=\"T_27194_level0_col3\" class=\"col_heading level0 col3\" >FN</th>\n",
       "    </tr>\n",
       "  </thead>\n",
       "  <tbody>\n",
       "    <tr>\n",
       "      <th id=\"T_27194_level0_row0\" class=\"row_heading level0 row0\" >Rank</th>\n",
       "      <td id=\"T_27194_row0_col0\" class=\"data row0 col0\" >3</td>\n",
       "      <td id=\"T_27194_row0_col1\" class=\"data row0 col1\" >4</td>\n",
       "      <td id=\"T_27194_row0_col2\" class=\"data row0 col2\" >2</td>\n",
       "      <td id=\"T_27194_row0_col3\" class=\"data row0 col3\" >1</td>\n",
       "    </tr>\n",
       "  </tbody>\n",
       "</table>\n",
       "<em class='skcresult-method'>Method: TOPSIS</em>\n",
       "</div>"
      ],
      "text/plain": [
       "Alternatives  PE  JN  AA  FN\n",
       "Rank           3   4   2   1\n",
       "[Method: TOPSIS]"
      ]
     },
     "execution_count": 16,
     "metadata": {},
     "output_type": "execute_result"
    }
   ],
   "source": [
    "pipe.evaluate(dm)"
   ]
  }
 ],
 "metadata": {
  "celltoolbar": "Edit Metadata",
  "kernelspec": {
   "display_name": "skcriteria",
   "language": "python",
   "name": "python3"
  },
  "language_info": {
   "codemirror_mode": {
    "name": "ipython",
    "version": 3
   },
   "file_extension": ".py",
   "mimetype": "text/x-python",
   "name": "python",
   "nbconvert_exporter": "python",
   "pygments_lexer": "ipython3",
   "version": "3.10.6"
  },
  "vscode": {
   "interpreter": {
    "hash": "fe6a36dc40d389c224ef9449f75590504421cf6f9ca64f7a6ea7fe0c2b9a2828"
   }
  }
 },
 "nbformat": 4,
 "nbformat_minor": 4
}
