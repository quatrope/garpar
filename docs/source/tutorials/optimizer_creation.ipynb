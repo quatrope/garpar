{
 "cells": [
  {
   "cell_type": "markdown",
   "metadata": {},
   "source": [
    "## Optimizer creation\n",
    "\n",
    "Suppose we want to create a custom optimizer for a `StocksSet`. How can we do it? In this tutorial the structure of the optimizers will be shown, naming every definition needed for an optimizer to work. The tutorial then will finish with a creation of a dummy optimizer.\n",
    "\n",
    "Lets see then how does an optimizer works."
   ]
  },
  {
   "cell_type": "markdown",
   "metadata": {},
   "source": [
    "The first thing to consider its the base class of every optimizer. There is a class named `OptimizerABC` that has the following method:"
   ]
  },
  {
   "cell_type": "code",
   "execution_count": null,
   "metadata": {},
   "outputs": [],
   "source": [
    "def optimize(self, ss):\n",
    "    weights, metadata = self._calculate_weights(ss)\n",
    "    return ss.copy(weights=weights, optimizer=metadata)"
   ]
  },
  {
   "cell_type": "markdown",
   "metadata": {},
   "source": [
    "Given this, we determine the need to implement a `_calculate_weights` function that provides the necessary data to create a new StocksSet instance with updated weights. That method is the core method of every optimizer. The weights definition.\n",
    "\n",
    "Say for example that we want to create a new optimizer that only returns a normalized vector of weights. We can do that by making something like this."
   ]
  },
  {
   "cell_type": "code",
   "execution_count": 7,
   "metadata": {},
   "outputs": [],
   "source": [
    "from garpar.optimize.opt_base import OptimizerABC\n",
    "import numpy as np\n",
    "\n",
    "class MyOptimizer(OptimizerABC):\n",
    "    family = \"MyFamily\"\n",
    "\n",
    "    def _calculate_weights(self, ss):\n",
    "        return np.ones(len(ss.weights))/len(ss.weights), {\"name\": \"my_model\"}"
   ]
  },
  {
   "cell_type": "markdown",
   "metadata": {},
   "source": [
    "Note that we have defined an attribute named `family`, which represents the set of models it belongs to. For example, in this context, mean-variance is a family.\n",
    "\n",
    "Now that we have defined an optimizer, let's examine its output for a `StocksSet` instance."
   ]
  },
  {
   "cell_type": "code",
   "execution_count": 9,
   "metadata": {},
   "outputs": [
    {
     "data": {
      "text/html": [
       "<div class='portfolio'>\n",
       "<div>\n",
       "<style scoped>\n",
       "    .dataframe tbody tr th:only-of-type {\n",
       "        vertical-align: middle;\n",
       "    }\n",
       "\n",
       "    .dataframe tbody tr th {\n",
       "        vertical-align: top;\n",
       "    }\n",
       "\n",
       "    .dataframe thead th {\n",
       "        text-align: right;\n",
       "    }\n",
       "</style>\n",
       "<table border=\"1\" class=\"dataframe\">\n",
       "  <thead>\n",
       "    <tr style=\"text-align: right;\">\n",
       "      <th>Stocks</th>\n",
       "      <th>S0[W 0.2, H 0.5]</th>\n",
       "      <th>S1[W 0.2, H 0.5]</th>\n",
       "      <th>S2[W 0.2, H 0.5]</th>\n",
       "      <th>S3[W 0.2, H 0.5]</th>\n",
       "      <th>S4[W 0.2, H 0.5]</th>\n",
       "    </tr>\n",
       "    <tr>\n",
       "      <th>Days</th>\n",
       "      <th></th>\n",
       "      <th></th>\n",
       "      <th></th>\n",
       "      <th></th>\n",
       "      <th></th>\n",
       "    </tr>\n",
       "  </thead>\n",
       "  <tbody>\n",
       "    <tr>\n",
       "      <th>0</th>\n",
       "      <td>100.000000</td>\n",
       "      <td>100.000000</td>\n",
       "      <td>100.000000</td>\n",
       "      <td>100.000000</td>\n",
       "      <td>100.000000</td>\n",
       "    </tr>\n",
       "    <tr>\n",
       "      <th>1</th>\n",
       "      <td>99.805864</td>\n",
       "      <td>100.064231</td>\n",
       "      <td>99.673520</td>\n",
       "      <td>100.099536</td>\n",
       "      <td>100.350197</td>\n",
       "    </tr>\n",
       "    <tr>\n",
       "      <th>2</th>\n",
       "      <td>99.877569</td>\n",
       "      <td>99.848907</td>\n",
       "      <td>99.640754</td>\n",
       "      <td>100.092772</td>\n",
       "      <td>100.502180</td>\n",
       "    </tr>\n",
       "    <tr>\n",
       "      <th>3</th>\n",
       "      <td>100.117469</td>\n",
       "      <td>99.714975</td>\n",
       "      <td>99.932985</td>\n",
       "      <td>100.085532</td>\n",
       "      <td>100.434143</td>\n",
       "    </tr>\n",
       "    <tr>\n",
       "      <th>4</th>\n",
       "      <td>99.724941</td>\n",
       "      <td>99.703926</td>\n",
       "      <td>100.038811</td>\n",
       "      <td>100.170518</td>\n",
       "      <td>100.248995</td>\n",
       "    </tr>\n",
       "    <tr>\n",
       "      <th>5</th>\n",
       "      <td>99.980227</td>\n",
       "      <td>99.673678</td>\n",
       "      <td>100.193293</td>\n",
       "      <td>100.022085</td>\n",
       "      <td>100.306951</td>\n",
       "    </tr>\n",
       "    <tr>\n",
       "      <th>6</th>\n",
       "      <td>100.107440</td>\n",
       "      <td>99.510781</td>\n",
       "      <td>99.973090</td>\n",
       "      <td>100.146914</td>\n",
       "      <td>100.683379</td>\n",
       "    </tr>\n",
       "    <tr>\n",
       "      <th>7</th>\n",
       "      <td>100.406530</td>\n",
       "      <td>99.477164</td>\n",
       "      <td>100.178258</td>\n",
       "      <td>100.441258</td>\n",
       "      <td>100.525237</td>\n",
       "    </tr>\n",
       "    <tr>\n",
       "      <th>8</th>\n",
       "      <td>100.554192</td>\n",
       "      <td>99.044405</td>\n",
       "      <td>100.252693</td>\n",
       "      <td>100.414589</td>\n",
       "      <td>100.581188</td>\n",
       "    </tr>\n",
       "    <tr>\n",
       "      <th>9</th>\n",
       "      <td>100.654005</td>\n",
       "      <td>98.845713</td>\n",
       "      <td>99.889291</td>\n",
       "      <td>100.663714</td>\n",
       "      <td>100.428761</td>\n",
       "    </tr>\n",
       "    <tr>\n",
       "      <th>10</th>\n",
       "      <td>100.775445</td>\n",
       "      <td>98.674937</td>\n",
       "      <td>99.919416</td>\n",
       "      <td>100.454345</td>\n",
       "      <td>100.328254</td>\n",
       "    </tr>\n",
       "  </tbody>\n",
       "</table>\n",
       "</div><em class='portfolio-dim'>11 days x 5 stocks - W.Size 5</em>\n",
       "</div>"
      ],
      "text/plain": [
       "Stocks  S0[W 0.2, H 0.5]  S1[W 0.2, H 0.5]  S2[W 0.2, H 0.5]  \\\n",
       "Days                                                           \n",
       "0             100.000000        100.000000        100.000000   \n",
       "1              99.805864        100.064231         99.673520   \n",
       "2              99.877569         99.848907         99.640754   \n",
       "3             100.117469         99.714975         99.932985   \n",
       "4              99.724941         99.703926        100.038811   \n",
       "5              99.980227         99.673678        100.193293   \n",
       "6             100.107440         99.510781         99.973090   \n",
       "7             100.406530         99.477164        100.178258   \n",
       "8             100.554192         99.044405        100.252693   \n",
       "9             100.654005         98.845713         99.889291   \n",
       "10            100.775445         98.674937         99.919416   \n",
       "\n",
       "Stocks  S3[W 0.2, H 0.5]  S4[W 0.2, H 0.5]  \n",
       "Days                                        \n",
       "0             100.000000        100.000000  \n",
       "1             100.099536        100.350197  \n",
       "2             100.092772        100.502180  \n",
       "3             100.085532        100.434143  \n",
       "4             100.170518        100.248995  \n",
       "5             100.022085        100.306951  \n",
       "6             100.146914        100.683379  \n",
       "7             100.441258        100.525237  \n",
       "8             100.414589        100.581188  \n",
       "9             100.663714        100.428761  \n",
       "10            100.454345        100.328254  \n",
       "StocksSet [11 days x 5 stocks - W.Size 5]"
      ]
     },
     "execution_count": 9,
     "metadata": {},
     "output_type": "execute_result"
    }
   ],
   "source": [
    "from garpar.datasets import make_risso_normal\n",
    "\n",
    "opt = MyOptimizer()\n",
    "ss = make_risso_normal(random_state=42, stocks=5, days=10)\n",
    "opt.optimize(ss)"
   ]
  },
  {
   "cell_type": "markdown",
   "metadata": {},
   "source": [
    "As expected, this optimizer assings weights with equal values.\n",
    "\n",
    "Thank you for visiting the tutorials for **Garpar**! We recommend to look in the [API section](../api/modules.html) for any documentation you might need."
   ]
  }
 ],
 "metadata": {
  "kernelspec": {
   "display_name": ".venv",
   "language": "python",
   "name": "python3"
  },
  "language_info": {
   "codemirror_mode": {
    "name": "ipython",
    "version": 3
   },
   "file_extension": ".py",
   "mimetype": "text/x-python",
   "name": "python",
   "nbconvert_exporter": "python",
   "pygments_lexer": "ipython3",
   "version": "3.13.1"
  }
 },
 "nbformat": 4,
 "nbformat_minor": 2
}
