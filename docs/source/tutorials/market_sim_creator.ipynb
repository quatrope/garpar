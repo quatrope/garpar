{
 "cells": [
  {
   "cell_type": "markdown",
   "metadata": {},
   "source": [
    "The first tool required for a simulation is an instance of a `RandomEntropyStocksSetMakerABC` that implements both the method `get_window_loss_probability` and `make_stock_price`."
   ]
  }
 ],
 "metadata": {
  "language_info": {
   "name": "python"
  }
 },
 "nbformat": 4,
 "nbformat_minor": 2
}
