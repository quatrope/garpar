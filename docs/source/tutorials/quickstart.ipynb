{
 "cells": [
  {
   "cell_type": "markdown",
   "metadata": {},
   "source": [
    "# Quickstart\n",
    "\n",
    "This tutorial is intended to serve as a quick guide on how to use the **Garpar** system.\n",
    "\n",
    "\n",
    "## Interactive Version\n",
    "\n",
    "Launch Binder for an interactive version of this tutorial!\n",
    "\n",
    "[![Binder](https://mybinder.org/badge_logo.svg)](https://mybinder.org/v2/gh/quatrope/garpar/HEAD?filepath=%2Fdocs%2Fsource%2Ftutorial.ipynb)\n",
    "\n",
    "## Imports\n",
    "\n",
    "There are two important modules in **Garpar**:\n",
    "\n",
    "- `optimize` is a subpackage of garpar that allows the application of optimization models.\n",
    "- `datasets` is a subpackage of garpar that allows you to simulate markets with different parameters."
   ]
  },
  {
   "cell_type": "code",
   "execution_count": 1,
   "metadata": {},
   "outputs": [],
   "source": [
    "from garpar import datasets, optimize"
   ]
  },
  {
   "cell_type": "markdown",
   "metadata": {},
   "source": [
    "## The StocksSet class\n",
    "\n",
    "Most of the time the system will interact between modules with the `StocksSet` class. This has the following representation:"
   ]
  },
  {
   "cell_type": "code",
   "execution_count": 8,
   "metadata": {},
   "outputs": [
    {
     "data": {
      "text/html": [
       "<div class='portfolio'>\n",
       "<div>\n",
       "<style scoped>\n",
       "    .dataframe tbody tr th:only-of-type {\n",
       "        vertical-align: middle;\n",
       "    }\n",
       "\n",
       "    .dataframe tbody tr th {\n",
       "        vertical-align: top;\n",
       "    }\n",
       "\n",
       "    .dataframe thead th {\n",
       "        text-align: right;\n",
       "    }\n",
       "</style>\n",
       "<table border=\"1\" class=\"dataframe\">\n",
       "  <thead>\n",
       "    <tr style=\"text-align: right;\">\n",
       "      <th>Stocks</th>\n",
       "      <th>S0[W 1.0, H 0.5]</th>\n",
       "      <th>S1[W 1.0, H 0.5]</th>\n",
       "      <th>S2[W 1.0, H 0.5]</th>\n",
       "      <th>S3[W 1.0, H 0.5]</th>\n",
       "      <th>S4[W 1.0, H 0.5]</th>\n",
       "      <th>S5[W 1.0, H 0.5]</th>\n",
       "      <th>S6[W 1.0, H 0.5]</th>\n",
       "      <th>S7[W 1.0, H 0.5]</th>\n",
       "      <th>S8[W 1.0, H 0.5]</th>\n",
       "      <th>S9[W 1.0, H 0.5]</th>\n",
       "    </tr>\n",
       "    <tr>\n",
       "      <th>Days</th>\n",
       "      <th></th>\n",
       "      <th></th>\n",
       "      <th></th>\n",
       "      <th></th>\n",
       "      <th></th>\n",
       "      <th></th>\n",
       "      <th></th>\n",
       "      <th></th>\n",
       "      <th></th>\n",
       "      <th></th>\n",
       "    </tr>\n",
       "  </thead>\n",
       "  <tbody>\n",
       "    <tr>\n",
       "      <th>0</th>\n",
       "      <td>100.000000</td>\n",
       "      <td>100.000000</td>\n",
       "      <td>100.000000</td>\n",
       "      <td>100.000000</td>\n",
       "      <td>100.000000</td>\n",
       "      <td>100.000000</td>\n",
       "      <td>100.000000</td>\n",
       "      <td>100.000000</td>\n",
       "      <td>100.000000</td>\n",
       "      <td>100.000000</td>\n",
       "    </tr>\n",
       "    <tr>\n",
       "      <th>1</th>\n",
       "      <td>100.183198</td>\n",
       "      <td>99.932585</td>\n",
       "      <td>100.142072</td>\n",
       "      <td>99.933852</td>\n",
       "      <td>100.114148</td>\n",
       "      <td>100.253151</td>\n",
       "      <td>100.271272</td>\n",
       "      <td>100.517361</td>\n",
       "      <td>100.250841</td>\n",
       "      <td>99.796565</td>\n",
       "    </tr>\n",
       "    <tr>\n",
       "      <th>2</th>\n",
       "      <td>100.385626</td>\n",
       "      <td>99.764453</td>\n",
       "      <td>99.900055</td>\n",
       "      <td>99.723824</td>\n",
       "      <td>100.230444</td>\n",
       "      <td>100.110850</td>\n",
       "      <td>100.590582</td>\n",
       "      <td>100.611480</td>\n",
       "      <td>100.613890</td>\n",
       "      <td>99.707641</td>\n",
       "    </tr>\n",
       "    <tr>\n",
       "      <th>3</th>\n",
       "      <td>100.356632</td>\n",
       "      <td>100.121197</td>\n",
       "      <td>99.816914</td>\n",
       "      <td>99.760569</td>\n",
       "      <td>100.601390</td>\n",
       "      <td>100.186639</td>\n",
       "      <td>100.573449</td>\n",
       "      <td>100.692344</td>\n",
       "      <td>100.637941</td>\n",
       "      <td>99.710578</td>\n",
       "    </tr>\n",
       "    <tr>\n",
       "      <th>4</th>\n",
       "      <td>100.498137</td>\n",
       "      <td>99.917107</td>\n",
       "      <td>99.984346</td>\n",
       "      <td>99.668109</td>\n",
       "      <td>100.824156</td>\n",
       "      <td>100.021424</td>\n",
       "      <td>100.677015</td>\n",
       "      <td>100.886673</td>\n",
       "      <td>100.675017</td>\n",
       "      <td>99.455994</td>\n",
       "    </tr>\n",
       "    <tr>\n",
       "      <th>...</th>\n",
       "      <td>...</td>\n",
       "      <td>...</td>\n",
       "      <td>...</td>\n",
       "      <td>...</td>\n",
       "      <td>...</td>\n",
       "      <td>...</td>\n",
       "      <td>...</td>\n",
       "      <td>...</td>\n",
       "      <td>...</td>\n",
       "      <td>...</td>\n",
       "    </tr>\n",
       "    <tr>\n",
       "      <th>361</th>\n",
       "      <td>105.077697</td>\n",
       "      <td>99.273832</td>\n",
       "      <td>104.678911</td>\n",
       "      <td>91.828727</td>\n",
       "      <td>105.449323</td>\n",
       "      <td>97.254607</td>\n",
       "      <td>97.429498</td>\n",
       "      <td>98.256551</td>\n",
       "      <td>102.270445</td>\n",
       "      <td>99.241396</td>\n",
       "    </tr>\n",
       "    <tr>\n",
       "      <th>362</th>\n",
       "      <td>104.941461</td>\n",
       "      <td>99.222518</td>\n",
       "      <td>104.915777</td>\n",
       "      <td>92.070253</td>\n",
       "      <td>105.505055</td>\n",
       "      <td>97.146057</td>\n",
       "      <td>97.336044</td>\n",
       "      <td>98.473633</td>\n",
       "      <td>102.017598</td>\n",
       "      <td>99.290740</td>\n",
       "    </tr>\n",
       "    <tr>\n",
       "      <th>363</th>\n",
       "      <td>105.222544</td>\n",
       "      <td>99.598494</td>\n",
       "      <td>104.899396</td>\n",
       "      <td>91.942721</td>\n",
       "      <td>105.702557</td>\n",
       "      <td>96.931186</td>\n",
       "      <td>97.464649</td>\n",
       "      <td>97.820726</td>\n",
       "      <td>101.725805</td>\n",
       "      <td>99.169302</td>\n",
       "    </tr>\n",
       "    <tr>\n",
       "      <th>364</th>\n",
       "      <td>105.137702</td>\n",
       "      <td>99.780072</td>\n",
       "      <td>104.605639</td>\n",
       "      <td>92.229847</td>\n",
       "      <td>105.879823</td>\n",
       "      <td>97.013228</td>\n",
       "      <td>97.530581</td>\n",
       "      <td>97.589438</td>\n",
       "      <td>101.826549</td>\n",
       "      <td>99.290081</td>\n",
       "    </tr>\n",
       "    <tr>\n",
       "      <th>365</th>\n",
       "      <td>105.643339</td>\n",
       "      <td>99.706912</td>\n",
       "      <td>104.368862</td>\n",
       "      <td>92.127250</td>\n",
       "      <td>105.831147</td>\n",
       "      <td>96.784710</td>\n",
       "      <td>97.019720</td>\n",
       "      <td>97.555054</td>\n",
       "      <td>101.957997</td>\n",
       "      <td>99.255447</td>\n",
       "    </tr>\n",
       "  </tbody>\n",
       "</table>\n",
       "</div><em class='portfolio-dim'>366 days x 10 stocks - W.Size 5</em>\n",
       "</div>"
      ],
      "text/plain": [
       "Stocks  S0[W 1.0, H 0.5]  S1[W 1.0, H 0.5]  S2[W 1.0, H 0.5]  \\\n",
       "Days                                                           \n",
       "0             100.000000        100.000000        100.000000   \n",
       "1             100.183198         99.932585        100.142072   \n",
       "2             100.385626         99.764453         99.900055   \n",
       "3             100.356632        100.121197         99.816914   \n",
       "4             100.498137         99.917107         99.984346   \n",
       "...                  ...               ...               ...   \n",
       "361           105.077697         99.273832        104.678911   \n",
       "362           104.941461         99.222518        104.915777   \n",
       "363           105.222544         99.598494        104.899396   \n",
       "364           105.137702         99.780072        104.605639   \n",
       "365           105.643339         99.706912        104.368862   \n",
       "\n",
       "Stocks  S3[W 1.0, H 0.5]  S4[W 1.0, H 0.5]  S5[W 1.0, H 0.5]  \\\n",
       "Days                                                           \n",
       "0             100.000000        100.000000        100.000000   \n",
       "1              99.933852        100.114148        100.253151   \n",
       "2              99.723824        100.230444        100.110850   \n",
       "3              99.760569        100.601390        100.186639   \n",
       "4              99.668109        100.824156        100.021424   \n",
       "...                  ...               ...               ...   \n",
       "361            91.828727        105.449323         97.254607   \n",
       "362            92.070253        105.505055         97.146057   \n",
       "363            91.942721        105.702557         96.931186   \n",
       "364            92.229847        105.879823         97.013228   \n",
       "365            92.127250        105.831147         96.784710   \n",
       "\n",
       "Stocks  S6[W 1.0, H 0.5]  S7[W 1.0, H 0.5]  S8[W 1.0, H 0.5]  S9[W 1.0, H 0.5]  \n",
       "Days                                                                            \n",
       "0             100.000000        100.000000        100.000000        100.000000  \n",
       "1             100.271272        100.517361        100.250841         99.796565  \n",
       "2             100.590582        100.611480        100.613890         99.707641  \n",
       "3             100.573449        100.692344        100.637941         99.710578  \n",
       "4             100.677015        100.886673        100.675017         99.455994  \n",
       "...                  ...               ...               ...               ...  \n",
       "361            97.429498         98.256551        102.270445         99.241396  \n",
       "362            97.336044         98.473633        102.017598         99.290740  \n",
       "363            97.464649         97.820726        101.725805         99.169302  \n",
       "364            97.530581         97.589438        101.826549         99.290081  \n",
       "365            97.019720         97.555054        101.957997         99.255447  \n",
       "StocksSet [366 days x 10 stocks - W.Size 5]"
      ]
     },
     "execution_count": 8,
     "metadata": {},
     "output_type": "execute_result"
    }
   ],
   "source": [
    "datasets.make_risso_normal()"
   ]
  },
  {
   "cell_type": "markdown",
   "metadata": {},
   "source": [
    "The definition requires some context to fully understand. For now, think of it as a combination of a **market** and a **portfolio**. Each stock has a corresponding price, and there are weights, denoted by `W`, alongside each `S0`, `S1`, ..., `S9`. These weights represent the percentage of the budget allocated to the stock they are attached to.\n",
    "\n",
    "There are in-depht guides of both `optimize` and `datasets`. In this guide we will only scratch the surface with basic examples of each one.\n",
    "\n",
    "For this tutorial we will simulate a market and apply an optimization model. With that we will conclude the quickstart.\n",
    "\n",
    "We can simulate a market by calling the function `make_risso_normal` inside `datasets`, this will make a simulation with some default parameters. For consistency we will use only one, `random_state`, "
   ]
  },
  {
   "cell_type": "code",
   "execution_count": 10,
   "metadata": {},
   "outputs": [
    {
     "data": {
      "text/html": [
       "<div class='portfolio'>\n",
       "<div>\n",
       "<style scoped>\n",
       "    .dataframe tbody tr th:only-of-type {\n",
       "        vertical-align: middle;\n",
       "    }\n",
       "\n",
       "    .dataframe tbody tr th {\n",
       "        vertical-align: top;\n",
       "    }\n",
       "\n",
       "    .dataframe thead th {\n",
       "        text-align: right;\n",
       "    }\n",
       "</style>\n",
       "<table border=\"1\" class=\"dataframe\">\n",
       "  <thead>\n",
       "    <tr style=\"text-align: right;\">\n",
       "      <th>Stocks</th>\n",
       "      <th>S0[W 1.0, H 0.5]</th>\n",
       "      <th>S1[W 1.0, H 0.5]</th>\n",
       "      <th>S2[W 1.0, H 0.5]</th>\n",
       "      <th>S3[W 1.0, H 0.5]</th>\n",
       "      <th>S4[W 1.0, H 0.5]</th>\n",
       "      <th>S5[W 1.0, H 0.5]</th>\n",
       "      <th>S6[W 1.0, H 0.5]</th>\n",
       "      <th>S7[W 1.0, H 0.5]</th>\n",
       "      <th>S8[W 1.0, H 0.5]</th>\n",
       "      <th>S9[W 1.0, H 0.5]</th>\n",
       "    </tr>\n",
       "    <tr>\n",
       "      <th>Days</th>\n",
       "      <th></th>\n",
       "      <th></th>\n",
       "      <th></th>\n",
       "      <th></th>\n",
       "      <th></th>\n",
       "      <th></th>\n",
       "      <th></th>\n",
       "      <th></th>\n",
       "      <th></th>\n",
       "      <th></th>\n",
       "    </tr>\n",
       "  </thead>\n",
       "  <tbody>\n",
       "    <tr>\n",
       "      <th>0</th>\n",
       "      <td>100.000000</td>\n",
       "      <td>100.000000</td>\n",
       "      <td>100.000000</td>\n",
       "      <td>100.000000</td>\n",
       "      <td>100.000000</td>\n",
       "      <td>100.000000</td>\n",
       "      <td>100.000000</td>\n",
       "      <td>100.000000</td>\n",
       "      <td>100.000000</td>\n",
       "      <td>100.000000</td>\n",
       "    </tr>\n",
       "    <tr>\n",
       "      <th>1</th>\n",
       "      <td>100.233936</td>\n",
       "      <td>100.126354</td>\n",
       "      <td>100.056170</td>\n",
       "      <td>100.479517</td>\n",
       "      <td>99.721932</td>\n",
       "      <td>100.231624</td>\n",
       "      <td>100.454794</td>\n",
       "      <td>100.363444</td>\n",
       "      <td>100.381520</td>\n",
       "      <td>99.850608</td>\n",
       "    </tr>\n",
       "    <tr>\n",
       "      <th>2</th>\n",
       "      <td>100.239643</td>\n",
       "      <td>99.982188</td>\n",
       "      <td>99.987262</td>\n",
       "      <td>100.478348</td>\n",
       "      <td>99.664800</td>\n",
       "      <td>100.226893</td>\n",
       "      <td>100.457623</td>\n",
       "      <td>100.091836</td>\n",
       "      <td>100.758777</td>\n",
       "      <td>99.705687</td>\n",
       "    </tr>\n",
       "    <tr>\n",
       "      <th>3</th>\n",
       "      <td>100.619143</td>\n",
       "      <td>100.057865</td>\n",
       "      <td>99.839579</td>\n",
       "      <td>100.528209</td>\n",
       "      <td>99.469437</td>\n",
       "      <td>99.982587</td>\n",
       "      <td>100.372239</td>\n",
       "      <td>100.224793</td>\n",
       "      <td>100.651979</td>\n",
       "      <td>99.700380</td>\n",
       "    </tr>\n",
       "    <tr>\n",
       "      <th>4</th>\n",
       "      <td>100.654832</td>\n",
       "      <td>100.278884</td>\n",
       "      <td>99.729389</td>\n",
       "      <td>100.543373</td>\n",
       "      <td>99.308332</td>\n",
       "      <td>100.188572</td>\n",
       "      <td>100.684870</td>\n",
       "      <td>99.963426</td>\n",
       "      <td>100.492926</td>\n",
       "      <td>99.320826</td>\n",
       "    </tr>\n",
       "    <tr>\n",
       "      <th>...</th>\n",
       "      <td>...</td>\n",
       "      <td>...</td>\n",
       "      <td>...</td>\n",
       "      <td>...</td>\n",
       "      <td>...</td>\n",
       "      <td>...</td>\n",
       "      <td>...</td>\n",
       "      <td>...</td>\n",
       "      <td>...</td>\n",
       "      <td>...</td>\n",
       "    </tr>\n",
       "    <tr>\n",
       "      <th>361</th>\n",
       "      <td>99.510508</td>\n",
       "      <td>101.112485</td>\n",
       "      <td>104.388966</td>\n",
       "      <td>100.728362</td>\n",
       "      <td>106.476547</td>\n",
       "      <td>100.745743</td>\n",
       "      <td>101.622384</td>\n",
       "      <td>97.238908</td>\n",
       "      <td>102.661988</td>\n",
       "      <td>97.320508</td>\n",
       "    </tr>\n",
       "    <tr>\n",
       "      <th>362</th>\n",
       "      <td>99.513739</td>\n",
       "      <td>101.224681</td>\n",
       "      <td>104.222790</td>\n",
       "      <td>100.589587</td>\n",
       "      <td>106.637348</td>\n",
       "      <td>100.936895</td>\n",
       "      <td>102.013803</td>\n",
       "      <td>97.519343</td>\n",
       "      <td>102.848153</td>\n",
       "      <td>97.376270</td>\n",
       "    </tr>\n",
       "    <tr>\n",
       "      <th>363</th>\n",
       "      <td>99.903102</td>\n",
       "      <td>101.276511</td>\n",
       "      <td>104.231903</td>\n",
       "      <td>100.804729</td>\n",
       "      <td>106.589381</td>\n",
       "      <td>100.957299</td>\n",
       "      <td>102.060671</td>\n",
       "      <td>97.372291</td>\n",
       "      <td>102.612551</td>\n",
       "      <td>97.047446</td>\n",
       "    </tr>\n",
       "    <tr>\n",
       "      <th>364</th>\n",
       "      <td>99.909110</td>\n",
       "      <td>101.197052</td>\n",
       "      <td>104.360405</td>\n",
       "      <td>100.949056</td>\n",
       "      <td>106.400243</td>\n",
       "      <td>100.870183</td>\n",
       "      <td>102.212970</td>\n",
       "      <td>97.143356</td>\n",
       "      <td>102.827934</td>\n",
       "      <td>97.182677</td>\n",
       "    </tr>\n",
       "    <tr>\n",
       "      <th>365</th>\n",
       "      <td>99.609299</td>\n",
       "      <td>100.875301</td>\n",
       "      <td>104.385513</td>\n",
       "      <td>100.937799</td>\n",
       "      <td>106.121200</td>\n",
       "      <td>101.139587</td>\n",
       "      <td>102.501944</td>\n",
       "      <td>97.098793</td>\n",
       "      <td>103.233809</td>\n",
       "      <td>97.531674</td>\n",
       "    </tr>\n",
       "  </tbody>\n",
       "</table>\n",
       "</div><em class='portfolio-dim'>366 days x 10 stocks - W.Size 5</em>\n",
       "</div>"
      ],
      "text/plain": [
       "Stocks  S0[W 1.0, H 0.5]  S1[W 1.0, H 0.5]  S2[W 1.0, H 0.5]  \\\n",
       "Days                                                           \n",
       "0             100.000000        100.000000        100.000000   \n",
       "1             100.233936        100.126354        100.056170   \n",
       "2             100.239643         99.982188         99.987262   \n",
       "3             100.619143        100.057865         99.839579   \n",
       "4             100.654832        100.278884         99.729389   \n",
       "...                  ...               ...               ...   \n",
       "361            99.510508        101.112485        104.388966   \n",
       "362            99.513739        101.224681        104.222790   \n",
       "363            99.903102        101.276511        104.231903   \n",
       "364            99.909110        101.197052        104.360405   \n",
       "365            99.609299        100.875301        104.385513   \n",
       "\n",
       "Stocks  S3[W 1.0, H 0.5]  S4[W 1.0, H 0.5]  S5[W 1.0, H 0.5]  \\\n",
       "Days                                                           \n",
       "0             100.000000        100.000000        100.000000   \n",
       "1             100.479517         99.721932        100.231624   \n",
       "2             100.478348         99.664800        100.226893   \n",
       "3             100.528209         99.469437         99.982587   \n",
       "4             100.543373         99.308332        100.188572   \n",
       "...                  ...               ...               ...   \n",
       "361           100.728362        106.476547        100.745743   \n",
       "362           100.589587        106.637348        100.936895   \n",
       "363           100.804729        106.589381        100.957299   \n",
       "364           100.949056        106.400243        100.870183   \n",
       "365           100.937799        106.121200        101.139587   \n",
       "\n",
       "Stocks  S6[W 1.0, H 0.5]  S7[W 1.0, H 0.5]  S8[W 1.0, H 0.5]  S9[W 1.0, H 0.5]  \n",
       "Days                                                                            \n",
       "0             100.000000        100.000000        100.000000        100.000000  \n",
       "1             100.454794        100.363444        100.381520         99.850608  \n",
       "2             100.457623        100.091836        100.758777         99.705687  \n",
       "3             100.372239        100.224793        100.651979         99.700380  \n",
       "4             100.684870         99.963426        100.492926         99.320826  \n",
       "...                  ...               ...               ...               ...  \n",
       "361           101.622384         97.238908        102.661988         97.320508  \n",
       "362           102.013803         97.519343        102.848153         97.376270  \n",
       "363           102.060671         97.372291        102.612551         97.047446  \n",
       "364           102.212970         97.143356        102.827934         97.182677  \n",
       "365           102.501944         97.098793        103.233809         97.531674  \n",
       "StocksSet [366 days x 10 stocks - W.Size 5]"
      ]
     },
     "execution_count": 10,
     "metadata": {},
     "output_type": "execute_result"
    }
   ],
   "source": [
    "ss = datasets.make_risso_normal(random_state=23)\n",
    "ss"
   ]
  },
  {
   "cell_type": "markdown",
   "metadata": {},
   "source": [
    "Now that we have a `StocksSet` instance, lets apply an optimization model and see how the weights change."
   ]
  },
  {
   "cell_type": "code",
   "execution_count": 12,
   "metadata": {},
   "outputs": [
    {
     "data": {
      "text/html": [
       "<div class='portfolio'>\n",
       "<div>\n",
       "<style scoped>\n",
       "    .dataframe tbody tr th:only-of-type {\n",
       "        vertical-align: middle;\n",
       "    }\n",
       "\n",
       "    .dataframe tbody tr th {\n",
       "        vertical-align: top;\n",
       "    }\n",
       "\n",
       "    .dataframe thead th {\n",
       "        text-align: right;\n",
       "    }\n",
       "</style>\n",
       "<table border=\"1\" class=\"dataframe\">\n",
       "  <thead>\n",
       "    <tr style=\"text-align: right;\">\n",
       "      <th>Stocks</th>\n",
       "      <th>S0[W 0.092830, H 0.5]</th>\n",
       "      <th>S1[W 0.084328, H 0.5]</th>\n",
       "      <th>S2[W 0.128854, H 0.5]</th>\n",
       "      <th>S3[W 0.081310, H 0.5]</th>\n",
       "      <th>S4[W 0.154233, H 0.5]</th>\n",
       "      <th>S5[W 0.106193, H 0.5]</th>\n",
       "      <th>S6[W 0.122956, H 0.5]</th>\n",
       "      <th>S7[W 0.046754, H 0.5]</th>\n",
       "      <th>S8[W 0.124695, H 0.5]</th>\n",
       "      <th>S9[W 0.057846, H 0.5]</th>\n",
       "    </tr>\n",
       "    <tr>\n",
       "      <th>Days</th>\n",
       "      <th></th>\n",
       "      <th></th>\n",
       "      <th></th>\n",
       "      <th></th>\n",
       "      <th></th>\n",
       "      <th></th>\n",
       "      <th></th>\n",
       "      <th></th>\n",
       "      <th></th>\n",
       "      <th></th>\n",
       "    </tr>\n",
       "  </thead>\n",
       "  <tbody>\n",
       "    <tr>\n",
       "      <th>0</th>\n",
       "      <td>100.000000</td>\n",
       "      <td>100.000000</td>\n",
       "      <td>100.000000</td>\n",
       "      <td>100.000000</td>\n",
       "      <td>100.000000</td>\n",
       "      <td>100.000000</td>\n",
       "      <td>100.000000</td>\n",
       "      <td>100.000000</td>\n",
       "      <td>100.000000</td>\n",
       "      <td>100.000000</td>\n",
       "    </tr>\n",
       "    <tr>\n",
       "      <th>1</th>\n",
       "      <td>100.233936</td>\n",
       "      <td>100.126354</td>\n",
       "      <td>100.056170</td>\n",
       "      <td>100.479517</td>\n",
       "      <td>99.721932</td>\n",
       "      <td>100.231624</td>\n",
       "      <td>100.454794</td>\n",
       "      <td>100.363444</td>\n",
       "      <td>100.381520</td>\n",
       "      <td>99.850608</td>\n",
       "    </tr>\n",
       "    <tr>\n",
       "      <th>2</th>\n",
       "      <td>100.239643</td>\n",
       "      <td>99.982188</td>\n",
       "      <td>99.987262</td>\n",
       "      <td>100.478348</td>\n",
       "      <td>99.664800</td>\n",
       "      <td>100.226893</td>\n",
       "      <td>100.457623</td>\n",
       "      <td>100.091836</td>\n",
       "      <td>100.758777</td>\n",
       "      <td>99.705687</td>\n",
       "    </tr>\n",
       "    <tr>\n",
       "      <th>3</th>\n",
       "      <td>100.619143</td>\n",
       "      <td>100.057865</td>\n",
       "      <td>99.839579</td>\n",
       "      <td>100.528209</td>\n",
       "      <td>99.469437</td>\n",
       "      <td>99.982587</td>\n",
       "      <td>100.372239</td>\n",
       "      <td>100.224793</td>\n",
       "      <td>100.651979</td>\n",
       "      <td>99.700380</td>\n",
       "    </tr>\n",
       "    <tr>\n",
       "      <th>4</th>\n",
       "      <td>100.654832</td>\n",
       "      <td>100.278884</td>\n",
       "      <td>99.729389</td>\n",
       "      <td>100.543373</td>\n",
       "      <td>99.308332</td>\n",
       "      <td>100.188572</td>\n",
       "      <td>100.684870</td>\n",
       "      <td>99.963426</td>\n",
       "      <td>100.492926</td>\n",
       "      <td>99.320826</td>\n",
       "    </tr>\n",
       "    <tr>\n",
       "      <th>...</th>\n",
       "      <td>...</td>\n",
       "      <td>...</td>\n",
       "      <td>...</td>\n",
       "      <td>...</td>\n",
       "      <td>...</td>\n",
       "      <td>...</td>\n",
       "      <td>...</td>\n",
       "      <td>...</td>\n",
       "      <td>...</td>\n",
       "      <td>...</td>\n",
       "    </tr>\n",
       "    <tr>\n",
       "      <th>361</th>\n",
       "      <td>99.510508</td>\n",
       "      <td>101.112485</td>\n",
       "      <td>104.388966</td>\n",
       "      <td>100.728362</td>\n",
       "      <td>106.476547</td>\n",
       "      <td>100.745743</td>\n",
       "      <td>101.622384</td>\n",
       "      <td>97.238908</td>\n",
       "      <td>102.661988</td>\n",
       "      <td>97.320508</td>\n",
       "    </tr>\n",
       "    <tr>\n",
       "      <th>362</th>\n",
       "      <td>99.513739</td>\n",
       "      <td>101.224681</td>\n",
       "      <td>104.222790</td>\n",
       "      <td>100.589587</td>\n",
       "      <td>106.637348</td>\n",
       "      <td>100.936895</td>\n",
       "      <td>102.013803</td>\n",
       "      <td>97.519343</td>\n",
       "      <td>102.848153</td>\n",
       "      <td>97.376270</td>\n",
       "    </tr>\n",
       "    <tr>\n",
       "      <th>363</th>\n",
       "      <td>99.903102</td>\n",
       "      <td>101.276511</td>\n",
       "      <td>104.231903</td>\n",
       "      <td>100.804729</td>\n",
       "      <td>106.589381</td>\n",
       "      <td>100.957299</td>\n",
       "      <td>102.060671</td>\n",
       "      <td>97.372291</td>\n",
       "      <td>102.612551</td>\n",
       "      <td>97.047446</td>\n",
       "    </tr>\n",
       "    <tr>\n",
       "      <th>364</th>\n",
       "      <td>99.909110</td>\n",
       "      <td>101.197052</td>\n",
       "      <td>104.360405</td>\n",
       "      <td>100.949056</td>\n",
       "      <td>106.400243</td>\n",
       "      <td>100.870183</td>\n",
       "      <td>102.212970</td>\n",
       "      <td>97.143356</td>\n",
       "      <td>102.827934</td>\n",
       "      <td>97.182677</td>\n",
       "    </tr>\n",
       "    <tr>\n",
       "      <th>365</th>\n",
       "      <td>99.609299</td>\n",
       "      <td>100.875301</td>\n",
       "      <td>104.385513</td>\n",
       "      <td>100.937799</td>\n",
       "      <td>106.121200</td>\n",
       "      <td>101.139587</td>\n",
       "      <td>102.501944</td>\n",
       "      <td>97.098793</td>\n",
       "      <td>103.233809</td>\n",
       "      <td>97.531674</td>\n",
       "    </tr>\n",
       "  </tbody>\n",
       "</table>\n",
       "</div><em class='portfolio-dim'>366 days x 10 stocks - W.Size 5</em>\n",
       "</div>"
      ],
      "text/plain": [
       "Stocks  S0[W 0.092830, H 0.5]  S1[W 0.084328, H 0.5]  S2[W 0.128854, H 0.5]  \\\n",
       "Days                                                                          \n",
       "0                  100.000000             100.000000             100.000000   \n",
       "1                  100.233936             100.126354             100.056170   \n",
       "2                  100.239643              99.982188              99.987262   \n",
       "3                  100.619143             100.057865              99.839579   \n",
       "4                  100.654832             100.278884              99.729389   \n",
       "...                       ...                    ...                    ...   \n",
       "361                 99.510508             101.112485             104.388966   \n",
       "362                 99.513739             101.224681             104.222790   \n",
       "363                 99.903102             101.276511             104.231903   \n",
       "364                 99.909110             101.197052             104.360405   \n",
       "365                 99.609299             100.875301             104.385513   \n",
       "\n",
       "Stocks  S3[W 0.081310, H 0.5]  S4[W 0.154233, H 0.5]  S5[W 0.106193, H 0.5]  \\\n",
       "Days                                                                          \n",
       "0                  100.000000             100.000000             100.000000   \n",
       "1                  100.479517              99.721932             100.231624   \n",
       "2                  100.478348              99.664800             100.226893   \n",
       "3                  100.528209              99.469437              99.982587   \n",
       "4                  100.543373              99.308332             100.188572   \n",
       "...                       ...                    ...                    ...   \n",
       "361                100.728362             106.476547             100.745743   \n",
       "362                100.589587             106.637348             100.936895   \n",
       "363                100.804729             106.589381             100.957299   \n",
       "364                100.949056             106.400243             100.870183   \n",
       "365                100.937799             106.121200             101.139587   \n",
       "\n",
       "Stocks  S6[W 0.122956, H 0.5]  S7[W 0.046754, H 0.5]  S8[W 0.124695, H 0.5]  \\\n",
       "Days                                                                          \n",
       "0                  100.000000             100.000000             100.000000   \n",
       "1                  100.454794             100.363444             100.381520   \n",
       "2                  100.457623             100.091836             100.758777   \n",
       "3                  100.372239             100.224793             100.651979   \n",
       "4                  100.684870              99.963426             100.492926   \n",
       "...                       ...                    ...                    ...   \n",
       "361                101.622384              97.238908             102.661988   \n",
       "362                102.013803              97.519343             102.848153   \n",
       "363                102.060671              97.372291             102.612551   \n",
       "364                102.212970              97.143356             102.827934   \n",
       "365                102.501944              97.098793             103.233809   \n",
       "\n",
       "Stocks  S9[W 0.057846, H 0.5]  \n",
       "Days                           \n",
       "0                  100.000000  \n",
       "1                   99.850608  \n",
       "2                   99.705687  \n",
       "3                   99.700380  \n",
       "4                   99.320826  \n",
       "...                       ...  \n",
       "361                 97.320508  \n",
       "362                 97.376270  \n",
       "363                 97.047446  \n",
       "364                 97.182677  \n",
       "365                 97.531674  \n",
       "StocksSet [366 days x 10 stocks - W.Size 5]"
      ]
     },
     "execution_count": 12,
     "metadata": {},
     "output_type": "execute_result"
    }
   ],
   "source": [
    "mk = optimize.mean_variance.Markowitz(target_risk=0.01)\n",
    "mk.optimize(ss)"
   ]
  },
  {
   "cell_type": "markdown",
   "metadata": {},
   "source": [
    "This concludes with the quickstart. Simulation and optimization are the key concepts of the system."
   ]
  },
  {
   "cell_type": "markdown",
   "metadata": {},
   "source": [
    "### The Galaxy Class\n",
    "\n",
    "We will create a stripped-down version of the Galaxy class from the [Galaxy-Chop](https://github.com/vcristiani/galaxy-chop) project.\n",
    "\n",
    "It will have only 8 attributes. The first 7 will have units attached and will be implemented with `uttr.ib`.\n",
    "These are:\n",
    "\n",
    "* `x`, `y`, `z`: The postions of the particles (typically stars) from the center of the galaxy measured in KiloParsecs ($kpc$).\n",
    "* `vx`, `vy`,  `vz`: The relative velocity components of the particles measured in $km/s$.\n",
    "* `m`: Masses of the particles in units of solar masses ($M_\\odot$).\n",
    "\n",
    "The last attribute `notes` is a description text about the galaxy and can be implemented with the standar *attrs* library."
   ]
  },
  {
   "cell_type": "code",
   "execution_count": 3,
   "metadata": {},
   "outputs": [
    {
     "ename": "NameError",
     "evalue": "name 'uttr' is not defined",
     "output_type": "error",
     "traceback": [
      "\u001b[0;31m---------------------------------------------------------------------------\u001b[0m",
      "\u001b[0;31mNameError\u001b[0m                                 Traceback (most recent call last)",
      "Cell \u001b[0;32mIn[3], line 1\u001b[0m\n\u001b[0;32m----> 1\u001b[0m \u001b[38;5;129m@uttr\u001b[39m\u001b[38;5;241m.\u001b[39ms\n\u001b[1;32m      2\u001b[0m \u001b[38;5;28;01mclass\u001b[39;00m\u001b[38;5;250m \u001b[39m\u001b[38;5;21;01mGalaxy\u001b[39;00m:\n\u001b[1;32m      3\u001b[0m     x \u001b[38;5;241m=\u001b[39m uttr\u001b[38;5;241m.\u001b[39mib(unit\u001b[38;5;241m=\u001b[39mu\u001b[38;5;241m.\u001b[39mkpc)\n\u001b[1;32m      4\u001b[0m     y \u001b[38;5;241m=\u001b[39m uttr\u001b[38;5;241m.\u001b[39mib(unit\u001b[38;5;241m=\u001b[39mu\u001b[38;5;241m.\u001b[39mkpc)\n",
      "\u001b[0;31mNameError\u001b[0m: name 'uttr' is not defined"
     ]
    }
   ],
   "source": [
    "@uttr.s\n",
    "class Galaxy:\n",
    "    x = uttr.ib(unit=u.kpc)\n",
    "    y = uttr.ib(unit=u.kpc)\n",
    "    z = uttr.ib(unit=u.kpc)\n",
    "\n",
    "    vx = uttr.ib(unit=u.km / u.s)\n",
    "    vy = uttr.ib(unit=u.km / u.s)\n",
    "    vz = uttr.ib(unit=u.km / u.s)\n",
    "\n",
    "    m = uttr.ib(unit=u.M_sun)\n",
    "\n",
    "    notes = attr.ib(validator=attr.validators.instance_of(str))"
   ]
  },
  {
   "cell_type": "markdown",
   "metadata": {},
   "source": [
    "### Galaxy with Default Units\n",
    "\n",
    "Now that we created our class, we can go ahead and create an object of type *Galaxy*.\n",
    "\n",
    "To keep it simple, let's assume only 4 particles with totally arbitrary numbers on each attribute.\n",
    "\n",
    "Part of *uttrs* power is its ability to assign default units when not provided, or to validate that the input unit is physically compatible with the given default.\n",
    "\n",
    "Let's see first an example in which all units are assigned automatically."
   ]
  },
  {
   "cell_type": "code",
   "execution_count": null,
   "metadata": {},
   "outputs": [],
   "source": [
    "gal = Galaxy(\n",
    "    x=[1, 1, 3, 4],\n",
    "    y=[10, 2, 3, 100],\n",
    "    z=[1, 1, 1, 1],\n",
    "    vx=[1000, 1023, 2346, 1334],\n",
    "    vy=[9956, 833, 954, 1024],\n",
    "    vz=[1253, 956, 1054, 3568],\n",
    "    m=[200, 100, 20, 5],\n",
    "    notes=\"A random galaxy with arbitrary numbers.\",\n",
    ")"
   ]
  },
  {
   "cell_type": "markdown",
   "metadata": {},
   "source": [
    "Let's verify that all attributes of the class were given the correct units."
   ]
  },
  {
   "cell_type": "code",
   "execution_count": null,
   "metadata": {},
   "outputs": [
    {
     "data": {
      "text/latex": [
       "$[1,~1,~3,~4] \\; \\mathrm{kpc}$"
      ],
      "text/plain": [
       "<Quantity [1., 1., 3., 4.] kpc>"
      ]
     },
     "execution_count": 4,
     "metadata": {},
     "output_type": "execute_result"
    }
   ],
   "source": [
    "gal.x"
   ]
  },
  {
   "cell_type": "code",
   "execution_count": null,
   "metadata": {},
   "outputs": [
    {
     "data": {
      "text/latex": [
       "$[10,~2,~3,~100] \\; \\mathrm{kpc}$"
      ],
      "text/plain": [
       "<Quantity [ 10.,   2.,   3., 100.] kpc>"
      ]
     },
     "execution_count": 5,
     "metadata": {},
     "output_type": "execute_result"
    }
   ],
   "source": [
    "gal.y"
   ]
  },
  {
   "cell_type": "code",
   "execution_count": null,
   "metadata": {},
   "outputs": [
    {
     "data": {
      "text/latex": [
       "$[1000,~1023,~2346,~1334] \\; \\mathrm{\\frac{km}{s}}$"
      ],
      "text/plain": [
       "<Quantity [1000., 1023., 2346., 1334.] km / s>"
      ]
     },
     "execution_count": 6,
     "metadata": {},
     "output_type": "execute_result"
    }
   ],
   "source": [
    "gal.vx"
   ]
  },
  {
   "cell_type": "code",
   "execution_count": null,
   "metadata": {},
   "outputs": [
    {
     "data": {
      "text/latex": [
       "$[200,~100,~20,~5] \\; \\mathrm{M_{\\odot}}$"
      ],
      "text/plain": [
       "<Quantity [200., 100.,  20.,   5.] solMass>"
      ]
     },
     "execution_count": 7,
     "metadata": {},
     "output_type": "execute_result"
    }
   ],
   "source": [
    "gal.m"
   ]
  },
  {
   "cell_type": "code",
   "execution_count": null,
   "metadata": {},
   "outputs": [
    {
     "data": {
      "text/plain": [
       "'A random galaxy with arbitrary numbers.'"
      ]
     },
     "execution_count": 8,
     "metadata": {},
     "output_type": "execute_result"
    }
   ],
   "source": [
    "gal.notes"
   ]
  },
  {
   "cell_type": "markdown",
   "metadata": {},
   "source": [
    "### Galaxy with Explicit Units\n",
    "\n",
    "A different alternative is to provide units compatible with the default unit.\n",
    "In this case, we have to be mindful of the phyisical equivalence of units with the ones given at the time the class was created.\n",
    "\n",
    "For example, we could suggest that the dimension `z` be given in parsecs, `vy` in $km/h$ and masses in $kg$."
   ]
  },
  {
   "cell_type": "code",
   "execution_count": null,
   "metadata": {},
   "outputs": [],
   "source": [
    "gal = Galaxy(\n",
    "    x=[1, 1, 3, 4],\n",
    "    y=[10, 2, 3, 100],\n",
    "    z=[1000, 1000, 1000, 1000] * u.parsec,\n",
    "    vx=[1000, 1023, 2346, 1334],\n",
    "    vy=[9956, 833, 954, 1024] * (u.km / u.h),\n",
    "    vz=[1253, 956, 1054, 3568],\n",
    "    m=[200, 100, 20, 5] * u.kg,\n",
    "    notes=\"A random galaxy with arbitrary numbers.\",\n",
    ")"
   ]
  },
  {
   "cell_type": "markdown",
   "metadata": {},
   "source": [
    "As we note above, this works as expected without error.\n",
    "We can further access any of the attributes and verify that they keep the suggested units."
   ]
  },
  {
   "cell_type": "code",
   "execution_count": null,
   "metadata": {},
   "outputs": [
    {
     "data": {
      "text/latex": [
       "$[1000,~1000,~1000,~1000] \\; \\mathrm{pc}$"
      ],
      "text/plain": [
       "<Quantity [1000., 1000., 1000., 1000.] pc>"
      ]
     },
     "execution_count": 10,
     "metadata": {},
     "output_type": "execute_result"
    }
   ],
   "source": [
    "gal.z  # parsecs"
   ]
  },
  {
   "cell_type": "code",
   "execution_count": null,
   "metadata": {},
   "outputs": [
    {
     "data": {
      "text/latex": [
       "$[200,~100,~20,~5] \\; \\mathrm{kg}$"
      ],
      "text/plain": [
       "<Quantity [200., 100.,  20.,   5.] kg>"
      ]
     },
     "execution_count": 11,
     "metadata": {},
     "output_type": "execute_result"
    }
   ],
   "source": [
    "gal.m  # kg"
   ]
  },
  {
   "cell_type": "code",
   "execution_count": null,
   "metadata": {},
   "outputs": [
    {
     "data": {
      "text/latex": [
       "$[1000,~1023,~2346,~1334] \\; \\mathrm{\\frac{km}{s}}$"
      ],
      "text/plain": [
       "<Quantity [1000., 1023., 2346., 1334.] km / s>"
      ]
     },
     "execution_count": 12,
     "metadata": {},
     "output_type": "execute_result"
    }
   ],
   "source": [
    "gal.vx  # default km/s"
   ]
  },
  {
   "cell_type": "code",
   "execution_count": null,
   "metadata": {},
   "outputs": [
    {
     "data": {
      "text/latex": [
       "$[9956,~833,~954,~1024] \\; \\mathrm{\\frac{km}{h}}$"
      ],
      "text/plain": [
       "<Quantity [9956.,  833.,  954., 1024.] km / h>"
      ]
     },
     "execution_count": 13,
     "metadata": {},
     "output_type": "execute_result"
    }
   ],
   "source": [
    "gal.vy  # km/h"
   ]
  },
  {
   "cell_type": "markdown",
   "metadata": {},
   "source": [
    "On the other hand, if we try to input a unit that is incompatible with the suggested input unit, a `ValueError` exception is raised.\n",
    "\n",
    "To show this, let's try to assign `x` values with units of grams ($g$)."
   ]
  },
  {
   "cell_type": "code",
   "execution_count": null,
   "metadata": {},
   "outputs": [
    {
     "ename": "ValueError",
     "evalue": "Unit of attribute 'x' must be equivalent to 'kpc'. Found 'g'.",
     "output_type": "error",
     "traceback": [
      "\u001b[0;31m---------------------------------------------------------------------------\u001b[0m",
      "\u001b[0;31mUnitConversionError\u001b[0m                       Traceback (most recent call last)",
      "\u001b[0;32m~/proyectos/uttrs/src/uttr.py\u001b[0m in \u001b[0;36mvalidate_is_equivalent_unit\u001b[0;34m(self, instance, attribute, value)\u001b[0m\n\u001b[1;32m    131\u001b[0m         \u001b[0;32mtry\u001b[0m\u001b[0;34m:\u001b[0m\u001b[0;34m\u001b[0m\u001b[0;34m\u001b[0m\u001b[0m\n\u001b[0;32m--> 132\u001b[0;31m             \u001b[0munity\u001b[0m\u001b[0;34m.\u001b[0m\u001b[0mto\u001b[0m\u001b[0;34m(\u001b[0m\u001b[0mself\u001b[0m\u001b[0;34m.\u001b[0m\u001b[0munit\u001b[0m\u001b[0;34m)\u001b[0m\u001b[0;34m\u001b[0m\u001b[0;34m\u001b[0m\u001b[0m\n\u001b[0m\u001b[1;32m    133\u001b[0m         \u001b[0;32mexcept\u001b[0m \u001b[0mu\u001b[0m\u001b[0;34m.\u001b[0m\u001b[0mUnitConversionError\u001b[0m\u001b[0;34m:\u001b[0m\u001b[0;34m\u001b[0m\u001b[0;34m\u001b[0m\u001b[0m\n",
      "\u001b[0;32m~/proyectos/uttrs/lib/python3.8/site-packages/astropy/units/quantity.py\u001b[0m in \u001b[0;36mto\u001b[0;34m(self, unit, equivalencies)\u001b[0m\n\u001b[1;32m    688\u001b[0m         \u001b[0munit\u001b[0m \u001b[0;34m=\u001b[0m \u001b[0mUnit\u001b[0m\u001b[0;34m(\u001b[0m\u001b[0munit\u001b[0m\u001b[0;34m)\u001b[0m\u001b[0;34m\u001b[0m\u001b[0;34m\u001b[0m\u001b[0m\n\u001b[0;32m--> 689\u001b[0;31m         \u001b[0;32mreturn\u001b[0m \u001b[0mself\u001b[0m\u001b[0;34m.\u001b[0m\u001b[0m_new_view\u001b[0m\u001b[0;34m(\u001b[0m\u001b[0mself\u001b[0m\u001b[0;34m.\u001b[0m\u001b[0m_to_value\u001b[0m\u001b[0;34m(\u001b[0m\u001b[0munit\u001b[0m\u001b[0;34m,\u001b[0m \u001b[0mequivalencies\u001b[0m\u001b[0;34m)\u001b[0m\u001b[0;34m,\u001b[0m \u001b[0munit\u001b[0m\u001b[0;34m)\u001b[0m\u001b[0;34m\u001b[0m\u001b[0;34m\u001b[0m\u001b[0m\n\u001b[0m\u001b[1;32m    690\u001b[0m \u001b[0;34m\u001b[0m\u001b[0m\n",
      "\u001b[0;32m~/proyectos/uttrs/lib/python3.8/site-packages/astropy/units/quantity.py\u001b[0m in \u001b[0;36m_to_value\u001b[0;34m(self, unit, equivalencies)\u001b[0m\n\u001b[1;32m    659\u001b[0m             \u001b[0mequivalencies\u001b[0m \u001b[0;34m=\u001b[0m \u001b[0mself\u001b[0m\u001b[0;34m.\u001b[0m\u001b[0m_equivalencies\u001b[0m\u001b[0;34m\u001b[0m\u001b[0;34m\u001b[0m\u001b[0m\n\u001b[0;32m--> 660\u001b[0;31m         return self.unit.to(unit, self.view(np.ndarray),\n\u001b[0m\u001b[1;32m    661\u001b[0m                             equivalencies=equivalencies)\n",
      "\u001b[0;32m~/proyectos/uttrs/lib/python3.8/site-packages/astropy/units/core.py\u001b[0m in \u001b[0;36mto\u001b[0;34m(self, other, value, equivalencies)\u001b[0m\n\u001b[1;32m    986\u001b[0m         \u001b[0;32melse\u001b[0m\u001b[0;34m:\u001b[0m\u001b[0;34m\u001b[0m\u001b[0;34m\u001b[0m\u001b[0m\n\u001b[0;32m--> 987\u001b[0;31m             \u001b[0;32mreturn\u001b[0m \u001b[0mself\u001b[0m\u001b[0;34m.\u001b[0m\u001b[0m_get_converter\u001b[0m\u001b[0;34m(\u001b[0m\u001b[0mother\u001b[0m\u001b[0;34m,\u001b[0m \u001b[0mequivalencies\u001b[0m\u001b[0;34m=\u001b[0m\u001b[0mequivalencies\u001b[0m\u001b[0;34m)\u001b[0m\u001b[0;34m(\u001b[0m\u001b[0mvalue\u001b[0m\u001b[0;34m)\u001b[0m\u001b[0;34m\u001b[0m\u001b[0;34m\u001b[0m\u001b[0m\n\u001b[0m\u001b[1;32m    988\u001b[0m \u001b[0;34m\u001b[0m\u001b[0m\n",
      "\u001b[0;32m~/proyectos/uttrs/lib/python3.8/site-packages/astropy/units/core.py\u001b[0m in \u001b[0;36m_get_converter\u001b[0;34m(self, other, equivalencies)\u001b[0m\n\u001b[1;32m    917\u001b[0m \u001b[0;34m\u001b[0m\u001b[0m\n\u001b[0;32m--> 918\u001b[0;31m             \u001b[0;32mraise\u001b[0m \u001b[0mexc\u001b[0m\u001b[0;34m\u001b[0m\u001b[0;34m\u001b[0m\u001b[0m\n\u001b[0m\u001b[1;32m    919\u001b[0m \u001b[0;34m\u001b[0m\u001b[0m\n",
      "\u001b[0;32m~/proyectos/uttrs/lib/python3.8/site-packages/astropy/units/core.py\u001b[0m in \u001b[0;36m_get_converter\u001b[0;34m(self, other, equivalencies)\u001b[0m\n\u001b[1;32m    902\u001b[0m         \u001b[0;32mtry\u001b[0m\u001b[0;34m:\u001b[0m\u001b[0;34m\u001b[0m\u001b[0;34m\u001b[0m\u001b[0m\n\u001b[0;32m--> 903\u001b[0;31m             return self._apply_equivalencies(\n\u001b[0m\u001b[1;32m    904\u001b[0m                 self, other, self._normalize_equivalencies(equivalencies))\n",
      "\u001b[0;32m~/proyectos/uttrs/lib/python3.8/site-packages/astropy/units/core.py\u001b[0m in \u001b[0;36m_apply_equivalencies\u001b[0;34m(self, unit, other, equivalencies)\u001b[0m\n\u001b[1;32m    885\u001b[0m \u001b[0;34m\u001b[0m\u001b[0m\n\u001b[0;32m--> 886\u001b[0;31m         raise UnitConversionError(\n\u001b[0m\u001b[1;32m    887\u001b[0m             \"{} and {} are not convertible\".format(\n",
      "\u001b[0;31mUnitConversionError\u001b[0m: 'g' (mass) and 'kpc' (length) are not convertible",
      "\nDuring handling of the above exception, another exception occurred:\n",
      "\u001b[0;31mValueError\u001b[0m                                Traceback (most recent call last)",
      "\u001b[0;32m<ipython-input-14-ab318fb696d1>\u001b[0m in \u001b[0;36m<module>\u001b[0;34m\u001b[0m\n\u001b[0;32m----> 1\u001b[0;31m gal = Galaxy(\n\u001b[0m\u001b[1;32m      2\u001b[0m     \u001b[0mx\u001b[0m\u001b[0;34m=\u001b[0m\u001b[0;34m[\u001b[0m\u001b[0;36m1\u001b[0m\u001b[0;34m,\u001b[0m \u001b[0;36m1\u001b[0m\u001b[0;34m,\u001b[0m \u001b[0;36m3\u001b[0m\u001b[0;34m,\u001b[0m \u001b[0;36m4\u001b[0m\u001b[0;34m]\u001b[0m \u001b[0;34m*\u001b[0m \u001b[0mu\u001b[0m\u001b[0;34m.\u001b[0m\u001b[0mg\u001b[0m\u001b[0;34m,\u001b[0m\u001b[0;34m\u001b[0m\u001b[0;34m\u001b[0m\u001b[0m\n\u001b[1;32m      3\u001b[0m     \u001b[0my\u001b[0m\u001b[0;34m=\u001b[0m\u001b[0;34m[\u001b[0m\u001b[0;36m10\u001b[0m\u001b[0;34m,\u001b[0m \u001b[0;36m2\u001b[0m\u001b[0;34m,\u001b[0m \u001b[0;36m3\u001b[0m\u001b[0;34m,\u001b[0m \u001b[0;36m100\u001b[0m\u001b[0;34m]\u001b[0m\u001b[0;34m,\u001b[0m\u001b[0;34m\u001b[0m\u001b[0;34m\u001b[0m\u001b[0m\n\u001b[1;32m      4\u001b[0m     \u001b[0mz\u001b[0m\u001b[0;34m=\u001b[0m\u001b[0;34m[\u001b[0m\u001b[0;36m1000\u001b[0m\u001b[0;34m,\u001b[0m \u001b[0;36m1000\u001b[0m\u001b[0;34m,\u001b[0m \u001b[0;36m1000\u001b[0m\u001b[0;34m,\u001b[0m \u001b[0;36m1000\u001b[0m\u001b[0;34m]\u001b[0m \u001b[0;34m*\u001b[0m \u001b[0mu\u001b[0m\u001b[0;34m.\u001b[0m\u001b[0mparsec\u001b[0m\u001b[0;34m,\u001b[0m\u001b[0;34m\u001b[0m\u001b[0;34m\u001b[0m\u001b[0m\n\u001b[1;32m      5\u001b[0m     \u001b[0mvx\u001b[0m\u001b[0;34m=\u001b[0m\u001b[0;34m[\u001b[0m\u001b[0;36m1000\u001b[0m\u001b[0;34m,\u001b[0m \u001b[0;36m1023\u001b[0m\u001b[0;34m,\u001b[0m \u001b[0;36m2346\u001b[0m\u001b[0;34m,\u001b[0m \u001b[0;36m1334\u001b[0m\u001b[0;34m]\u001b[0m\u001b[0;34m,\u001b[0m\u001b[0;34m\u001b[0m\u001b[0;34m\u001b[0m\u001b[0m\n",
      "\u001b[0;32m<attrs generated init __main__.Galaxy>\u001b[0m in \u001b[0;36m__init__\u001b[0;34m(self, x, y, z, vx, vy, vz, m, notes)\u001b[0m\n\u001b[1;32m      9\u001b[0m     \u001b[0mself\u001b[0m\u001b[0;34m.\u001b[0m\u001b[0mnotes\u001b[0m \u001b[0;34m=\u001b[0m \u001b[0mnotes\u001b[0m\u001b[0;34m\u001b[0m\u001b[0;34m\u001b[0m\u001b[0m\n\u001b[1;32m     10\u001b[0m     \u001b[0;32mif\u001b[0m \u001b[0m_config\u001b[0m\u001b[0;34m.\u001b[0m\u001b[0m_run_validators\u001b[0m \u001b[0;32mis\u001b[0m \u001b[0;32mTrue\u001b[0m\u001b[0;34m:\u001b[0m\u001b[0;34m\u001b[0m\u001b[0;34m\u001b[0m\u001b[0m\n\u001b[0;32m---> 11\u001b[0;31m         \u001b[0m__attr_validator_x\u001b[0m\u001b[0;34m(\u001b[0m\u001b[0mself\u001b[0m\u001b[0;34m,\u001b[0m \u001b[0m__attr_x\u001b[0m\u001b[0;34m,\u001b[0m \u001b[0mself\u001b[0m\u001b[0;34m.\u001b[0m\u001b[0mx\u001b[0m\u001b[0;34m)\u001b[0m\u001b[0;34m\u001b[0m\u001b[0;34m\u001b[0m\u001b[0m\n\u001b[0m\u001b[1;32m     12\u001b[0m         \u001b[0m__attr_validator_y\u001b[0m\u001b[0;34m(\u001b[0m\u001b[0mself\u001b[0m\u001b[0;34m,\u001b[0m \u001b[0m__attr_y\u001b[0m\u001b[0;34m,\u001b[0m \u001b[0mself\u001b[0m\u001b[0;34m.\u001b[0m\u001b[0my\u001b[0m\u001b[0;34m)\u001b[0m\u001b[0;34m\u001b[0m\u001b[0;34m\u001b[0m\u001b[0m\n\u001b[1;32m     13\u001b[0m         \u001b[0m__attr_validator_z\u001b[0m\u001b[0;34m(\u001b[0m\u001b[0mself\u001b[0m\u001b[0;34m,\u001b[0m \u001b[0m__attr_z\u001b[0m\u001b[0;34m,\u001b[0m \u001b[0mself\u001b[0m\u001b[0;34m.\u001b[0m\u001b[0mz\u001b[0m\u001b[0;34m)\u001b[0m\u001b[0;34m\u001b[0m\u001b[0;34m\u001b[0m\u001b[0m\n",
      "\u001b[0;32m~/proyectos/uttrs/lib/python3.8/site-packages/attr/_make.py\u001b[0m in \u001b[0;36m__call__\u001b[0;34m(self, inst, attr, value)\u001b[0m\n\u001b[1;32m   2721\u001b[0m     \u001b[0;32mdef\u001b[0m \u001b[0m__call__\u001b[0m\u001b[0;34m(\u001b[0m\u001b[0mself\u001b[0m\u001b[0;34m,\u001b[0m \u001b[0minst\u001b[0m\u001b[0;34m,\u001b[0m \u001b[0mattr\u001b[0m\u001b[0;34m,\u001b[0m \u001b[0mvalue\u001b[0m\u001b[0;34m)\u001b[0m\u001b[0;34m:\u001b[0m\u001b[0;34m\u001b[0m\u001b[0;34m\u001b[0m\u001b[0m\n\u001b[1;32m   2722\u001b[0m         \u001b[0;32mfor\u001b[0m \u001b[0mv\u001b[0m \u001b[0;32min\u001b[0m \u001b[0mself\u001b[0m\u001b[0;34m.\u001b[0m\u001b[0m_validators\u001b[0m\u001b[0;34m:\u001b[0m\u001b[0;34m\u001b[0m\u001b[0;34m\u001b[0m\u001b[0m\n\u001b[0;32m-> 2723\u001b[0;31m             \u001b[0mv\u001b[0m\u001b[0;34m(\u001b[0m\u001b[0minst\u001b[0m\u001b[0;34m,\u001b[0m \u001b[0mattr\u001b[0m\u001b[0;34m,\u001b[0m \u001b[0mvalue\u001b[0m\u001b[0;34m)\u001b[0m\u001b[0;34m\u001b[0m\u001b[0;34m\u001b[0m\u001b[0m\n\u001b[0m\u001b[1;32m   2724\u001b[0m \u001b[0;34m\u001b[0m\u001b[0m\n\u001b[1;32m   2725\u001b[0m \u001b[0;34m\u001b[0m\u001b[0m\n",
      "\u001b[0;32m~/proyectos/uttrs/src/uttr.py\u001b[0m in \u001b[0;36mvalidate_is_equivalent_unit\u001b[0;34m(self, instance, attribute, value)\u001b[0m\n\u001b[1;32m    133\u001b[0m         \u001b[0;32mexcept\u001b[0m \u001b[0mu\u001b[0m\u001b[0;34m.\u001b[0m\u001b[0mUnitConversionError\u001b[0m\u001b[0;34m:\u001b[0m\u001b[0;34m\u001b[0m\u001b[0;34m\u001b[0m\u001b[0m\n\u001b[1;32m    134\u001b[0m             \u001b[0munit\u001b[0m\u001b[0;34m,\u001b[0m \u001b[0maname\u001b[0m\u001b[0;34m,\u001b[0m \u001b[0mufound\u001b[0m \u001b[0;34m=\u001b[0m \u001b[0mself\u001b[0m\u001b[0;34m.\u001b[0m\u001b[0munit\u001b[0m\u001b[0;34m,\u001b[0m \u001b[0mattribute\u001b[0m\u001b[0;34m.\u001b[0m\u001b[0mname\u001b[0m\u001b[0;34m,\u001b[0m \u001b[0mvalue\u001b[0m\u001b[0;34m.\u001b[0m\u001b[0munit\u001b[0m\u001b[0;34m\u001b[0m\u001b[0;34m\u001b[0m\u001b[0m\n\u001b[0;32m--> 135\u001b[0;31m             raise ValueError(\n\u001b[0m\u001b[1;32m    136\u001b[0m                 \u001b[0;34mf\"Unit of attribute '{aname}' must be equivalent to '{unit}'.\"\u001b[0m\u001b[0;34m\u001b[0m\u001b[0;34m\u001b[0m\u001b[0m\n\u001b[1;32m    137\u001b[0m                 \u001b[0;34mf\" Found '{ufound}'.\"\u001b[0m\u001b[0;34m\u001b[0m\u001b[0;34m\u001b[0m\u001b[0m\n",
      "\u001b[0;31mValueError\u001b[0m: Unit of attribute 'x' must be equivalent to 'kpc'. Found 'g'."
     ]
    }
   ],
   "source": [
    "gal = Galaxy(\n",
    "    x=[1, 1, 3, 4] * u.g,\n",
    "    y=[10, 2, 3, 100],\n",
    "    z=[1000, 1000, 1000, 1000] * u.parsec,\n",
    "    vx=[1000, 1023, 2346, 1334],\n",
    "    vy=[9956, 833, 954, 1024] * (u.km / u.h),\n",
    "    vz=[1253, 956, 1054, 3568],\n",
    "    m=[200, 100, 20, 5] * u.kg,\n",
    "    notes=\"A random galaxy with arbitrary numbers.\",\n",
    ")"
   ]
  },
  {
   "cell_type": "markdown",
   "metadata": {},
   "source": [
    "## Automatic Cohersion of Units: Array Accessor\n",
    "\n",
    "One powerful feauture of *uttrs* is the ability to easily transform all units to plain `numpy.ndarray`, using the default units.\n",
    "\n",
    "This is achieved using the `uttr.array_accessor()` function.\n",
    "This allows for uniform access of attributes defined by uttrs, in a data structure that has faster access time than its counterpart with units.\n",
    "\n",
    "By default the `@uttr.s` automataclly add an array accessor to decorated class. You can disabled this functionallity using the decorator like\n",
    "`@uttr.s(aaccessor=None)`, or change the name of the property with `@uttr.s(aaccessor=\"other_name\")`.\n",
    "\n",
    "\n",
    "Expanding on the previous example:"
   ]
  },
  {
   "cell_type": "code",
   "execution_count": null,
   "metadata": {},
   "outputs": [],
   "source": [
    "@uttr.s\n",
    "class Galaxy:\n",
    "    x = uttr.ib(unit=u.kpc)\n",
    "    y = uttr.ib(unit=u.kpc)\n",
    "    z = uttr.ib(unit=u.kpc)\n",
    "\n",
    "    vx = uttr.ib(unit=u.km / u.s)\n",
    "    vy = uttr.ib(unit=u.km / u.s)\n",
    "    vz = uttr.ib(unit=u.km / u.s)\n",
    "\n",
    "    m = uttr.ib(unit=u.M_sun)\n",
    "\n",
    "    notes = attr.ib(validator=attr.validators.instance_of(str))"
   ]
  },
  {
   "cell_type": "markdown",
   "metadata": {},
   "source": [
    "Let's instantiate the class again with some parameters with custom units."
   ]
  },
  {
   "cell_type": "code",
   "execution_count": null,
   "metadata": {},
   "outputs": [],
   "source": [
    "gal = Galaxy(\n",
    "    x=[1, 1, 3, 4],\n",
    "    y=[10, 2, 3, 100],\n",
    "    z=[1000, 1000, 1000, 1000] * u.parsec,\n",
    "    vx=[1000, 1023, 2346, 1334],\n",
    "    vy=[9956, 833, 954, 1024] * (u.km / u.h),\n",
    "    vz=[1253, 956, 1054, 3568],\n",
    "    m=[200, 100, 20, 5] * u.kg,\n",
    "    notes=\"A random galaxy with arbitrary numbers.\",\n",
    ")"
   ]
  },
  {
   "cell_type": "markdown",
   "metadata": {},
   "source": [
    "If we now access `z` through our `arr_` accessor, *uttrs* will convert the values in parsec units to kiloparsecs and return a uniform numpy array."
   ]
  },
  {
   "cell_type": "code",
   "execution_count": null,
   "metadata": {},
   "outputs": [],
   "source": [
    "gal.arr_.z"
   ]
  },
  {
   "cell_type": "markdown",
   "metadata": {},
   "source": [
    "While `z` keeps its original unit."
   ]
  },
  {
   "cell_type": "code",
   "execution_count": null,
   "metadata": {},
   "outputs": [],
   "source": [
    "gal.arr_.z"
   ]
  },
  {
   "cell_type": "markdown",
   "metadata": {},
   "source": [
    "The same applies to `vy` and `m`."
   ]
  },
  {
   "cell_type": "code",
   "execution_count": null,
   "metadata": {},
   "outputs": [],
   "source": [
    "gal.arr_.m"
   ]
  },
  {
   "cell_type": "code",
   "execution_count": null,
   "metadata": {},
   "outputs": [],
   "source": [
    "gal.arr_.vy"
   ]
  },
  {
   "cell_type": "markdown",
   "metadata": {},
   "source": [
    "If we try to access a private attribute not from `uttr.ib`, an `AttributeError` exception is raised."
   ]
  },
  {
   "cell_type": "code",
   "execution_count": null,
   "metadata": {},
   "outputs": [],
   "source": [
    "gal.arr_.notes"
   ]
  },
  {
   "cell_type": "markdown",
   "metadata": {},
   "source": [
    "## Using the `array_accessor`\n",
    "\n",
    "It is a known issue that Astropy units can slow down complex computations.\n",
    "\n",
    "To avoid this, developers usually choose to uniformize units and convert the values to numpy arrays to operate on them faster; reverting back to values with units at the end of the calculation.\n",
    "\n",
    "As a helper, `array_accesor` will perform the transformation in a transparent way to the user, avoiding the need to replicate information regarding units.\n",
    "\n",
    "For example, if we wanted to program code that generates a new Galaxy object with a single particle that is the average mean of all the rest, we could do something like this:"
   ]
  },
  {
   "cell_type": "code",
   "execution_count": null,
   "metadata": {},
   "outputs": [],
   "source": [
    "@uttr.s\n",
    "class Galaxy:\n",
    "    x = uttr.ib(unit=u.kpc)\n",
    "    y = uttr.ib(unit=u.kpc)\n",
    "    z = uttr.ib(unit=u.kpc)\n",
    "\n",
    "    vx = uttr.ib(unit=u.km / u.s)\n",
    "    vy = uttr.ib(unit=u.km / u.s)\n",
    "    vz = uttr.ib(unit=u.km / u.s)\n",
    "\n",
    "    m = uttr.ib(unit=u.M_sun)\n",
    "\n",
    "    notes = attr.ib(validator=attr.validators.instance_of(str))\n",
    "\n",
    "    def mean(self):\n",
    "        x = np.mean(self.arr_.x)\n",
    "        y = np.mean(self.arr_.y)\n",
    "        z = np.mean(self.arr_.z)\n",
    "\n",
    "        vx = np.mean(self.arr_.vx)\n",
    "        vy = np.mean(self.arr_.vy)\n",
    "        vz = np.mean(self.arr_.vz)\n",
    "\n",
    "        m = np.mean(self.arr_.m)\n",
    "\n",
    "        return Galaxy(\n",
    "            x=x, y=y, z=z, vx=vx, vy=vy, vz=vz, m=m, notes=self.notes\n",
    "        )"
   ]
  },
  {
   "cell_type": "markdown",
   "metadata": {},
   "source": [
    "We could now create a galaxy with 1 million random elements and calculate the \"average\" galaxy."
   ]
  },
  {
   "cell_type": "code",
   "execution_count": null,
   "metadata": {},
   "outputs": [],
   "source": [
    "import numpy as np\n",
    "\n",
    "# Fix random seed\n",
    "random = np.random.default_rng(seed=42)\n",
    "\n",
    "size = 1_000_000\n",
    "\n",
    "gal = Galaxy(\n",
    "    x=random.random(size=size),\n",
    "    y=random.random(size=size),\n",
    "    z=random.random(size=size) * u.parsec,\n",
    "    vx=random.random(size=size),\n",
    "    vy=random.random(size=size),\n",
    "    vz=random.random(size=size) * (u.km / u.h),\n",
    "    m=random.random(size=size) * u.kg,\n",
    "    notes=\"A random galaxy with arbitrary numbers.\",\n",
    ")"
   ]
  },
  {
   "cell_type": "code",
   "execution_count": null,
   "metadata": {},
   "outputs": [],
   "source": [
    "gal.mean()"
   ]
  },
  {
   "cell_type": "markdown",
   "metadata": {},
   "source": [
    "To complete the example, let's see how would a `mean` method look like without `array_accessor`."
   ]
  },
  {
   "cell_type": "code",
   "execution_count": null,
   "metadata": {},
   "outputs": [],
   "source": [
    "@uttr.s(aaccessor=None)\n",
    "class Galaxy:\n",
    "    x = uttr.ib(unit=u.kpc)\n",
    "    y = uttr.ib(unit=u.kpc)\n",
    "    z = uttr.ib(unit=u.kpc)\n",
    "\n",
    "    vx = uttr.ib(unit=u.km / u.s)\n",
    "    vy = uttr.ib(unit=u.km / u.s)\n",
    "    vz = uttr.ib(unit=u.km / u.s)\n",
    "\n",
    "    m = uttr.ib(unit=u.M_sun)\n",
    "\n",
    "    notes = attr.ib(validator=attr.validators.instance_of(str))\n",
    "\n",
    "    def mean(self):\n",
    "        x = np.mean(self.x.to_value(u.kpc))\n",
    "        y = np.mean(self.y.to_value(u.kpc))\n",
    "        z = np.mean(self.z.to_value(u.kpc))\n",
    "\n",
    "        vx = np.mean(self.vx.to_value(u.km / u.s))\n",
    "        vy = np.mean(self.vy.to_value(u.km / u.s))\n",
    "        vz = np.mean(self.vz.to_value(u.km / u.s))\n",
    "\n",
    "        m = np.mean(self.m.to_value(u.M_sun))\n",
    "\n",
    "        return Galaxy(\n",
    "            x=x, y=y, z=z, vx=vx, vy=vy, vz=vz, m=m, notes=self.notes\n",
    "        )"
   ]
  },
  {
   "cell_type": "code",
   "execution_count": null,
   "metadata": {},
   "outputs": [],
   "source": [
    "import datetime as dt\n",
    "\n",
    "dt.date.today().isoformat()"
   ]
  },
  {
   "cell_type": "code",
   "execution_count": null,
   "metadata": {},
   "outputs": [],
   "source": []
  }
 ],
 "metadata": {
  "kernelspec": {
   "display_name": ".venv",
   "language": "python",
   "name": "python3"
  },
  "language_info": {
   "codemirror_mode": {
    "name": "ipython",
    "version": 3
   },
   "file_extension": ".py",
   "mimetype": "text/x-python",
   "name": "python",
   "nbconvert_exporter": "python",
   "pygments_lexer": "ipython3",
   "version": "3.13.1"
  }
 },
 "nbformat": 4,
 "nbformat_minor": 4
}
