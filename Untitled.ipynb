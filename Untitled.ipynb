{
 "cells": [
  {
   "cell_type": "code",
   "execution_count": 1,
   "id": "b687c325-2b6f-463a-a0a4-3f16ced4b955",
   "metadata": {},
   "outputs": [],
   "source": [
    "import garpar as gp"
   ]
  },
  {
   "cell_type": "code",
   "execution_count": 2,
   "id": "8ee2b623-1a0c-4a6a-9d1d-2069173a7206",
   "metadata": {},
   "outputs": [],
   "source": [
    "pf = gp.datasets.RissoNormal().make_portfolio()"
   ]
  },
  {
   "cell_type": "code",
   "execution_count": 3,
   "id": "5784cdf4-cb18-4e28-844b-93d1389170c1",
   "metadata": {},
   "outputs": [
    {
     "data": {
      "text/plain": [
       "S0    1.050867\n",
       "S1    0.903170\n",
       "S2    0.929873\n",
       "S3    0.741981\n",
       "S4    1.324003\n",
       "S5    0.913699\n",
       "S6    0.963220\n",
       "S7    1.213329\n",
       "S8    1.033875\n",
       "S9    0.925983\n",
       "Name: mkt, dtype: float64"
      ]
     },
     "execution_count": 3,
     "metadata": {},
     "output_type": "execute_result"
    }
   ],
   "source": [
    "pf.returns.beta()"
   ]
  },
  {
   "cell_type": "code",
   "execution_count": 11,
   "id": "f8f6b171-ec97-4bc2-bd60-76575152756e",
   "metadata": {},
   "outputs": [
    {
     "name": "stdout",
     "output_type": "stream",
     "text": [
      "fix_nonpositive_semidefinite - <class 'function'>\n",
      "(matrix, fix_method='spectral')\n",
      "!\n",
      "Help on function fix_nonpositive_semidefinite in module pypfopt.risk_models:\n",
      "\n",
      "fix_nonpositive_semidefinite(matrix, fix_method='spectral')\n",
      "    Check if a covariance matrix is positive semidefinite, and if not, fix it\n",
      "    with the chosen method.\n",
      "    \n",
      "    The ``spectral`` method sets negative eigenvalues to zero then rebuilds the matrix,\n",
      "    while the ``diag`` method adds a small positive value to the diagonal.\n",
      "    \n",
      "    :param matrix: raw covariance matrix (may not be PSD)\n",
      "    :type matrix: pd.DataFrame\n",
      "    :param fix_method: {\"spectral\", \"diag\"}, defaults to \"spectral\"\n",
      "    :type fix_method: str, optional\n",
      "    :raises NotImplementedError: if a method is passed that isn't implemented\n",
      "    :return: positive semidefinite covariance matrix\n",
      "    :rtype: pd.DataFrame\n",
      "\n"
     ]
    },
    {
     "ename": "AttributeError",
     "evalue": "'NoneType' object has no attribute 'split'",
     "output_type": "error",
     "traceback": [
      "\u001b[0;31m---------------------------------------------------------------------------\u001b[0m",
      "\u001b[0;31mAttributeError\u001b[0m                            Traceback (most recent call last)",
      "\u001b[0;32m/tmp/ipykernel_43527/3259582641.py\u001b[0m in \u001b[0;36m<module>\u001b[0;34m\u001b[0m\n\u001b[1;32m      9\u001b[0m     \u001b[0mprint\u001b[0m\u001b[0;34m(\u001b[0m\u001b[0minspect\u001b[0m\u001b[0;34m.\u001b[0m\u001b[0msignature\u001b[0m\u001b[0;34m(\u001b[0m\u001b[0mv\u001b[0m\u001b[0;34m)\u001b[0m\u001b[0;34m)\u001b[0m\u001b[0;34m\u001b[0m\u001b[0;34m\u001b[0m\u001b[0m\n\u001b[1;32m     10\u001b[0m     \u001b[0mprint\u001b[0m\u001b[0;34m(\u001b[0m\u001b[0;34m\"!\"\u001b[0m\u001b[0;34m)\u001b[0m\u001b[0;34m\u001b[0m\u001b[0;34m\u001b[0m\u001b[0m\n\u001b[0;32m---> 11\u001b[0;31m     \u001b[0mprint\u001b[0m\u001b[0;34m(\u001b[0m\u001b[0mhelp\u001b[0m\u001b[0;34m(\u001b[0m\u001b[0mv\u001b[0m\u001b[0;34m)\u001b[0m\u001b[0;34m.\u001b[0m\u001b[0msplit\u001b[0m\u001b[0;34m(\u001b[0m\u001b[0;34m\":param \"\u001b[0m\u001b[0;34m,\u001b[0m \u001b[0;36m1\u001b[0m\u001b[0;34m)\u001b[0m\u001b[0;34m[\u001b[0m\u001b[0;36m0\u001b[0m\u001b[0;34m]\u001b[0m\u001b[0;34m)\u001b[0m\u001b[0;34m\u001b[0m\u001b[0;34m\u001b[0m\u001b[0m\n\u001b[0m\u001b[1;32m     12\u001b[0m     \u001b[0mprint\u001b[0m\u001b[0;34m(\u001b[0m\u001b[0;34m\"....................\"\u001b[0m\u001b[0;34m)\u001b[0m\u001b[0;34m\u001b[0m\u001b[0;34m\u001b[0m\u001b[0m\n",
      "\u001b[0;31mAttributeError\u001b[0m: 'NoneType' object has no attribute 'split'"
     ]
    }
   ],
   "source": [
    "import pypfopt\n",
    "for k, v in vars(pypfopt.risk_models).items():\n",
    "    if k.startswith(\"_\") or not callable(v):\n",
    "        continue\n",
    "    import inspect\n",
    "    if not v.__module__.endswith(\"risk_models\"):\n",
    "        continue\n",
    "    print(k, \"-\", type(v))\n",
    "    print(inspect.signature(v))\n",
    "    print(\"!\")\n",
    "    print(help(v).split(\":param \", 1)[0])\n",
    "    print(\"....................\")\n"
   ]
  },
  {
   "cell_type": "code",
   "execution_count": 12,
   "id": "ce269da6-6f96-4ab7-990e-cbd9560a4f74",
   "metadata": {},
   "outputs": [
    {
     "data": {
      "text/plain": [
       "\u001b[0;31mSignature:\u001b[0m\n",
       "\u001b[0mpypfopt\u001b[0m\u001b[0;34m.\u001b[0m\u001b[0mobjective_functions\u001b[0m\u001b[0;34m.\u001b[0m\u001b[0msharpe_ratio\u001b[0m\u001b[0;34m(\u001b[0m\u001b[0;34m\u001b[0m\n",
       "\u001b[0;34m\u001b[0m    \u001b[0mw\u001b[0m\u001b[0;34m,\u001b[0m\u001b[0;34m\u001b[0m\n",
       "\u001b[0;34m\u001b[0m    \u001b[0mexpected_returns\u001b[0m\u001b[0;34m,\u001b[0m\u001b[0;34m\u001b[0m\n",
       "\u001b[0;34m\u001b[0m    \u001b[0mcov_matrix\u001b[0m\u001b[0;34m,\u001b[0m\u001b[0;34m\u001b[0m\n",
       "\u001b[0;34m\u001b[0m    \u001b[0mrisk_free_rate\u001b[0m\u001b[0;34m=\u001b[0m\u001b[0;36m0.02\u001b[0m\u001b[0;34m,\u001b[0m\u001b[0;34m\u001b[0m\n",
       "\u001b[0;34m\u001b[0m    \u001b[0mnegative\u001b[0m\u001b[0;34m=\u001b[0m\u001b[0;32mTrue\u001b[0m\u001b[0;34m,\u001b[0m\u001b[0;34m\u001b[0m\n",
       "\u001b[0;34m\u001b[0m\u001b[0;34m)\u001b[0m\u001b[0;34m\u001b[0m\u001b[0;34m\u001b[0m\u001b[0m\n",
       "\u001b[0;31mDocstring:\u001b[0m\n",
       "Calculate the (negative) Sharpe ratio of a portfolio\n",
       "\n",
       ":param w: asset weights in the portfolio\n",
       ":type w: np.ndarray OR cp.Variable\n",
       ":param expected_returns: expected return of each asset\n",
       ":type expected_returns: np.ndarray\n",
       ":param cov_matrix: covariance matrix\n",
       ":type cov_matrix: np.ndarray\n",
       ":param risk_free_rate: risk-free rate of borrowing/lending, defaults to 0.02.\n",
       "                       The period of the risk-free rate should correspond to the\n",
       "                       frequency of expected returns.\n",
       ":type risk_free_rate: float, optional\n",
       ":param negative: whether quantity should be made negative (so we can minimise)\n",
       ":type negative: boolean\n",
       ":return: (negative) Sharpe ratio\n",
       ":rtype: float\n",
       "\u001b[0;31mFile:\u001b[0m      ~/proyectos/garpar/lib/python3.9/site-packages/pypfopt/objective_functions.py\n",
       "\u001b[0;31mType:\u001b[0m      function\n"
      ]
     },
     "metadata": {},
     "output_type": "display_data"
    }
   ],
   "source": [
    "pypfopt.objective_functions.sharpe_ratio?"
   ]
  },
  {
   "cell_type": "code",
   "execution_count": 7,
   "id": "3a3c8603-58cb-4fa2-88cf-e4163554d1f0",
   "metadata": {},
   "outputs": [
    {
     "data": {
      "text/plain": [
       "\u001b[0;31mType:\u001b[0m        module\n",
       "\u001b[0;31mString form:\u001b[0m <module 'pypfopt.objective_functions' from '/home/juan/proyectos/garpar/lib/python3.9/site-packages/pypfopt/objective_functions.py'>\n",
       "\u001b[0;31mFile:\u001b[0m        ~/proyectos/garpar/lib/python3.9/site-packages/pypfopt/objective_functions.py\n",
       "\u001b[0;31mDocstring:\u001b[0m  \n",
       "The ``objective_functions`` module provides optimization objectives, including the actual\n",
       "objective functions called by the ``EfficientFrontier`` object's optimization methods.\n",
       "These methods are primarily designed for internal use during optimization and each requires\n",
       "a different signature (which is why they have not been factored into a class).\n",
       "For obvious reasons, any objective function must accept ``weights``\n",
       "as an argument, and must also have at least one of ``expected_returns`` or ``cov_matrix``.\n",
       "\n",
       "The objective functions either compute the objective given a numpy array of weights, or they\n",
       "return a cvxpy *expression* when weights are a ``cp.Variable``. In this way, the same objective\n",
       "function can be used both internally for optimization and externally for computing the objective\n",
       "given weights. ``_objective_value()`` automatically chooses between the two behaviours.\n",
       "\n",
       "``objective_functions`` defaults to objectives for minimisation. In the cases of objectives\n",
       "that clearly should be maximised (e.g Sharpe Ratio, portfolio return), the objective function\n",
       "actually returns the negative quantity, since minimising the negative is equivalent to maximising\n",
       "the positive. This behaviour is controlled by the ``negative=True`` optional argument.\n",
       "\n",
       "Currently implemented:\n",
       "\n",
       "- Portfolio variance (i.e square of volatility)\n",
       "- Portfolio return\n",
       "- Sharpe ratio\n",
       "- L2 regularisation (minimising this reduces nonzero weights)\n",
       "- Quadratic utility\n",
       "- Transaction cost model (a simple one)\n",
       "- Ex-ante (squared) tracking error\n",
       "- Ex-post (squared) tracking error\n"
      ]
     },
     "metadata": {},
     "output_type": "display_data"
    }
   ],
   "source": [
    "pypfopt.objective_functions?"
   ]
  },
  {
   "cell_type": "code",
   "execution_count": 20,
   "id": "69f7993f-64f4-41cc-963d-925c53b76548",
   "metadata": {},
   "outputs": [
    {
     "data": {
      "text/plain": [
       "\u001b[0;31mType:\u001b[0m        module\n",
       "\u001b[0;31mString form:\u001b[0m <module 'pypfopt.objective_functions' from '/home/juan/proyectos/garpar/lib/python3.9/site-packages/pypfopt/objective_functions.py'>\n",
       "\u001b[0;31mFile:\u001b[0m        ~/proyectos/garpar/lib/python3.9/site-packages/pypfopt/objective_functions.py\n",
       "\u001b[0;31mDocstring:\u001b[0m  \n",
       "The ``objective_functions`` module provides optimization objectives, including the actual\n",
       "objective functions called by the ``EfficientFrontier`` object's optimization methods.\n",
       "These methods are primarily designed for internal use during optimization and each requires\n",
       "a different signature (which is why they have not been factored into a class).\n",
       "For obvious reasons, any objective function must accept ``weights``\n",
       "as an argument, and must also have at least one of ``expected_returns`` or ``cov_matrix``.\n",
       "\n",
       "The objective functions either compute the objective given a numpy array of weights, or they\n",
       "return a cvxpy *expression* when weights are a ``cp.Variable``. In this way, the same objective\n",
       "function can be used both internally for optimization and externally for computing the objective\n",
       "given weights. ``_objective_value()`` automatically chooses between the two behaviours.\n",
       "\n",
       "``objective_functions`` defaults to objectives for minimisation. In the cases of objectives\n",
       "that clearly should be maximised (e.g Sharpe Ratio, portfolio return), the objective function\n",
       "actually returns the negative quantity, since minimising the negative is equivalent to maximising\n",
       "the positive. This behaviour is controlled by the ``negative=True`` optional argument.\n",
       "\n",
       "Currently implemented:\n",
       "\n",
       "- Portfolio variance (i.e square of volatility)\n",
       "- Portfolio return\n",
       "- Sharpe ratio\n",
       "- L2 regularisation (minimising this reduces nonzero weights)\n",
       "- Quadratic utility\n",
       "- Transaction cost model (a simple one)\n",
       "- Ex-ante (squared) tracking error\n",
       "- Ex-post (squared) tracking error\n"
      ]
     },
     "metadata": {},
     "output_type": "display_data"
    }
   ],
   "source": [
    "pypfopt.objective_functions?"
   ]
  },
  {
   "cell_type": "code",
   "execution_count": 21,
   "id": "b823f8a2-b11f-4650-a4cf-4fe0333ac9c7",
   "metadata": {},
   "outputs": [],
   "source": [
    "_FUNCTION_WHITELIST = [\n",
    "        \"capm_return\",\n",
    "        \"returns_from_prices\",\n",
    "        \"return_model\",\n",
    "        \"mean_historical_return\",\n",
    "        \"ema_historical_return\",\n",
    "    ]"
   ]
  },
  {
   "cell_type": "code",
   "execution_count": 25,
   "id": "4cf9732b-ac83-4f2d-83c3-2cadf1046021",
   "metadata": {},
   "outputs": [
    {
     "name": "stdout",
     "output_type": "stream",
     "text": [
      "def capm_return(self, **kwargs):\n",
      "    return expected_returns.capm_return(prices=self._pf._df, **kwargs)\n",
      "\n",
      "def returns_from_prices(self, **kwargs):\n",
      "    return expected_returns.returns_from_prices(prices=self._pf._df, **kwargs)\n",
      "\n",
      "def return_model(self, **kwargs):\n",
      "    return expected_returns.return_model(prices=self._pf._df, **kwargs)\n",
      "\n",
      "def mean_historical_return(self, **kwargs):\n",
      "    return expected_returns.mean_historical_return(prices=self._pf._df, **kwargs)\n",
      "\n",
      "def ema_historical_return(self, **kwargs):\n",
      "    return expected_returns.ema_historical_return(prices=self._pf._df, **kwargs)\n",
      "\n"
     ]
    }
   ],
   "source": [
    "for n in _FUNCTION_WHITELIST:\n",
    "    print(f\"def {n}(self, **kwargs):\\n    return expected_returns.{n}(prices=self._pf._df, **kwargs)\\n\")"
   ]
  },
  {
   "cell_type": "code",
   "execution_count": null,
   "id": "ca1e3a83-86b8-4855-95fb-ec0bf956ecae",
   "metadata": {},
   "outputs": [],
   "source": []
  }
 ],
 "metadata": {
  "kernelspec": {
   "display_name": "Python 3 (ipykernel)",
   "language": "python",
   "name": "python3"
  },
  "language_info": {
   "codemirror_mode": {
    "name": "ipython",
    "version": 3
   },
   "file_extension": ".py",
   "mimetype": "text/x-python",
   "name": "python",
   "nbconvert_exporter": "python",
   "pygments_lexer": "ipython3",
   "version": "3.9.9"
  }
 },
 "nbformat": 4,
 "nbformat_minor": 5
}
