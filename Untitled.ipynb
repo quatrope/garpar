{
 "cells": [
  {
   "cell_type": "code",
   "execution_count": 1,
   "id": "81270f64-774c-4464-95d2-da6dcbdee491",
   "metadata": {
    "tags": []
   },
   "outputs": [],
   "source": [
    "import garpar as gp"
   ]
  },
  {
   "cell_type": "code",
   "execution_count": 2,
   "id": "a0300471-9c66-42d3-9133-b1988b8396a5",
   "metadata": {
    "tags": []
   },
   "outputs": [],
   "source": [
    "mugre = 0\n",
    "sizes = 0\n",
    "TOTAL = 10\n",
    "whiles = 0\n",
    "for idx in range(TOTAL):\n",
    "    mk = gp.datasets.RissoLevyStable()\n",
    "    pf = mk.make_portfolio(days=365, stocks=50)\n",
    "    mugre += len(mk._days_returns_cache[1]) + len(mk._days_returns_cache[-1])\n",
    "    sizes += mk._days_returns_cache[\"size\"]\n",
    "    whiles += max(mk._days_returns_cache[\"whiles\"])\n"
   ]
  },
  {
   "cell_type": "code",
   "execution_count": 7,
   "id": "bd5c56a8-7a99-414d-a9dc-bd3275e002d8",
   "metadata": {
    "tags": []
   },
   "outputs": [
    {
     "name": "stdout",
     "output_type": "stream",
     "text": [
      "Mugre prom:  1693.0749\n",
      "Sizes:  879.2656\n",
      "Whiles:  10000\n"
     ]
    }
   ],
   "source": [
    "print(\"Mugre prom: \", mugre/TOTAL)\n",
    "print(\"Sizes: \", sizes/TOTAL)\n",
    "print(\"Whiles: \", whiles)"
   ]
  },
  {
   "cell_type": "code",
   "execution_count": 12,
   "id": "2aedb863-0b11-4a76-8fc9-5b184e5d52d6",
   "metadata": {
    "tags": []
   },
   "outputs": [
    {
     "ename": "AttributeError",
     "evalue": "'RissoLevyStable' object has no attribute '_days_returns_cache'",
     "output_type": "error",
     "traceback": [
      "\u001b[0;31m---------------------------------------------------------------------------\u001b[0m",
      "\u001b[0;31mAttributeError\u001b[0m                            Traceback (most recent call last)",
      "Cell \u001b[0;32mIn[12], line 1\u001b[0m\n\u001b[0;32m----> 1\u001b[0m \u001b[39mlen\u001b[39m(mk\u001b[39m.\u001b[39;49m_days_returns_cache[\u001b[39m1\u001b[39m]) \u001b[39m+\u001b[39m \u001b[39mlen\u001b[39m(mk\u001b[39m.\u001b[39m_days_returns_cache[\u001b[39m-\u001b[39m\u001b[39m1\u001b[39m])\n",
      "\u001b[0;31mAttributeError\u001b[0m: 'RissoLevyStable' object has no attribute '_days_returns_cache'"
     ]
    }
   ],
   "source": []
  },
  {
   "cell_type": "code",
   "execution_count": 33,
   "id": "4caf6434-a405-4c81-aad6-6c416bd1f945",
   "metadata": {
    "tags": []
   },
   "outputs": [
    {
     "data": {
      "text/plain": [
       "655360"
      ]
     },
     "execution_count": 33,
     "metadata": {},
     "output_type": "execute_result"
    }
   ],
   "source": [
    "mk._days_returns_cache[\"size\"]"
   ]
  },
  {
   "cell_type": "code",
   "execution_count": null,
   "id": "7b4eb164-2d62-47ed-b39f-0193957b3bdb",
   "metadata": {},
   "outputs": [],
   "source": []
  }
 ],
 "metadata": {
  "kernelspec": {
   "display_name": "Python 3 (ipykernel)",
   "language": "python",
   "name": "python3"
  },
  "language_info": {
   "codemirror_mode": {
    "name": "ipython",
    "version": 3
   },
   "file_extension": ".py",
   "mimetype": "text/x-python",
   "name": "python",
   "nbconvert_exporter": "python",
   "pygments_lexer": "ipython3",
   "version": "3.10.6"
  }
 },
 "nbformat": 4,
 "nbformat_minor": 5
}
