{
 "cells": [
  {
   "cell_type": "code",
   "execution_count": 1,
   "id": "b687c325-2b6f-463a-a0a4-3f16ced4b955",
   "metadata": {},
   "outputs": [
    {
     "ename": "AttributeError",
     "evalue": "module 'garpar.utils.aabc' has no attribute 'AccesorABC'",
     "output_type": "error",
     "traceback": [
      "\u001b[0;31m---------------------------------------------------------------------------\u001b[0m",
      "\u001b[0;31mAttributeError\u001b[0m                            Traceback (most recent call last)",
      "\u001b[0;32m/tmp/ipykernel_50706/1210950657.py\u001b[0m in \u001b[0;36m<module>\u001b[0;34m\u001b[0m\n\u001b[0;32m----> 1\u001b[0;31m \u001b[0;32mimport\u001b[0m \u001b[0mgarpar\u001b[0m \u001b[0;32mas\u001b[0m \u001b[0mgp\u001b[0m\u001b[0;34m\u001b[0m\u001b[0;34m\u001b[0m\u001b[0m\n\u001b[0m",
      "\u001b[0;32m~/proyectos/garpar/src/garpar/__init__.py\u001b[0m in \u001b[0;36m<module>\u001b[0;34m\u001b[0m\n\u001b[1;32m     11\u001b[0m \u001b[0m__version__\u001b[0m \u001b[0;34m=\u001b[0m \u001b[0;34m\"0.1\"\u001b[0m\u001b[0;34m\u001b[0m\u001b[0;34m\u001b[0m\u001b[0m\n\u001b[1;32m     12\u001b[0m \u001b[0;34m\u001b[0m\u001b[0m\n\u001b[0;32m---> 13\u001b[0;31m \u001b[0;32mfrom\u001b[0m \u001b[0;34m.\u001b[0m \u001b[0;32mimport\u001b[0m \u001b[0mdatasets\u001b[0m\u001b[0;34m,\u001b[0m \u001b[0mio\u001b[0m\u001b[0;34m,\u001b[0m \u001b[0moptimize\u001b[0m\u001b[0;34m\u001b[0m\u001b[0;34m\u001b[0m\u001b[0m\n\u001b[0m\u001b[1;32m     14\u001b[0m \u001b[0;32mfrom\u001b[0m \u001b[0;34m.\u001b[0m\u001b[0mcore\u001b[0m \u001b[0;32mimport\u001b[0m \u001b[0mPortfolio\u001b[0m\u001b[0;34m\u001b[0m\u001b[0;34m\u001b[0m\u001b[0m\n\u001b[1;32m     15\u001b[0m \u001b[0;34m\u001b[0m\u001b[0m\n",
      "\u001b[0;32m~/proyectos/garpar/src/garpar/datasets/__init__.py\u001b[0m in \u001b[0;36m<module>\u001b[0;34m\u001b[0m\n\u001b[1;32m      8\u001b[0m \u001b[0;34m\"\"\"Different utilities to create or load portfolios.\"\"\"\u001b[0m\u001b[0;34m\u001b[0m\u001b[0;34m\u001b[0m\u001b[0m\n\u001b[1;32m      9\u001b[0m \u001b[0;34m\u001b[0m\u001b[0m\n\u001b[0;32m---> 10\u001b[0;31m \u001b[0;32mfrom\u001b[0m \u001b[0;34m.\u001b[0m\u001b[0mbase\u001b[0m \u001b[0;32mimport\u001b[0m \u001b[0mPortfolioMakerABC\u001b[0m\u001b[0;34m,\u001b[0m \u001b[0mhparam\u001b[0m\u001b[0;34m\u001b[0m\u001b[0;34m\u001b[0m\u001b[0m\n\u001b[0m\u001b[1;32m     11\u001b[0m \u001b[0;32mfrom\u001b[0m \u001b[0;34m.\u001b[0m\u001b[0mrisso\u001b[0m \u001b[0;32mimport\u001b[0m \u001b[0mRissoLevyStable\u001b[0m\u001b[0;34m,\u001b[0m \u001b[0mRissoNormal\u001b[0m\u001b[0;34m\u001b[0m\u001b[0;34m\u001b[0m\u001b[0m\n\u001b[1;32m     12\u001b[0m \u001b[0;34m\u001b[0m\u001b[0m\n",
      "\u001b[0;32m~/proyectos/garpar/src/garpar/datasets/base.py\u001b[0m in \u001b[0;36m<module>\u001b[0;34m\u001b[0m\n\u001b[1;32m     16\u001b[0m \u001b[0;32mimport\u001b[0m \u001b[0mpandas\u001b[0m \u001b[0;32mas\u001b[0m \u001b[0mpd\u001b[0m\u001b[0;34m\u001b[0m\u001b[0;34m\u001b[0m\u001b[0m\n\u001b[1;32m     17\u001b[0m \u001b[0;34m\u001b[0m\u001b[0m\n\u001b[0;32m---> 18\u001b[0;31m \u001b[0;32mfrom\u001b[0m \u001b[0;34m.\u001b[0m\u001b[0;34m.\u001b[0m\u001b[0mcore\u001b[0m \u001b[0;32mimport\u001b[0m \u001b[0mportfolio\u001b[0m \u001b[0;32mas\u001b[0m \u001b[0mpf\u001b[0m\u001b[0;34m\u001b[0m\u001b[0;34m\u001b[0m\u001b[0m\n\u001b[0m\u001b[1;32m     19\u001b[0m \u001b[0;32mfrom\u001b[0m \u001b[0;34m.\u001b[0m\u001b[0;34m.\u001b[0m\u001b[0mutils\u001b[0m\u001b[0;34m.\u001b[0m\u001b[0mmabc\u001b[0m \u001b[0;32mimport\u001b[0m \u001b[0mModelABC\u001b[0m\u001b[0;34m,\u001b[0m \u001b[0mhparam\u001b[0m\u001b[0;34m,\u001b[0m \u001b[0mabstractmethod\u001b[0m\u001b[0;34m\u001b[0m\u001b[0;34m\u001b[0m\u001b[0m\n\u001b[1;32m     20\u001b[0m \u001b[0;34m\u001b[0m\u001b[0m\n",
      "\u001b[0;32m~/proyectos/garpar/src/garpar/core/__init__.py\u001b[0m in \u001b[0;36m<module>\u001b[0;34m\u001b[0m\n\u001b[0;32m----> 1\u001b[0;31m \u001b[0;32mfrom\u001b[0m \u001b[0;34m.\u001b[0m\u001b[0mportfolio\u001b[0m \u001b[0;32mimport\u001b[0m \u001b[0mPortfolio\u001b[0m\u001b[0;34m\u001b[0m\u001b[0;34m\u001b[0m\u001b[0m\n\u001b[0m",
      "\u001b[0;32m~/proyectos/garpar/src/garpar/core/portfolio.py\u001b[0m in \u001b[0;36m<module>\u001b[0;34m\u001b[0m\n\u001b[1;32m     18\u001b[0m \u001b[0;34m\u001b[0m\u001b[0m\n\u001b[1;32m     19\u001b[0m \u001b[0;34m\u001b[0m\u001b[0m\n\u001b[0;32m---> 20\u001b[0;31m \u001b[0;32mfrom\u001b[0m \u001b[0;34m.\u001b[0m \u001b[0;32mimport\u001b[0m \u001b[0mplot\u001b[0m\u001b[0;34m,\u001b[0m \u001b[0mprices\u001b[0m\u001b[0;34m,\u001b[0m \u001b[0mreturns\u001b[0m\u001b[0;34m,\u001b[0m \u001b[0mrisk\u001b[0m\u001b[0;34m\u001b[0m\u001b[0;34m\u001b[0m\u001b[0m\n\u001b[0m\u001b[1;32m     21\u001b[0m \u001b[0;34m\u001b[0m\u001b[0m\n\u001b[1;32m     22\u001b[0m \u001b[0;34m\u001b[0m\u001b[0m\n",
      "\u001b[0;32m~/proyectos/garpar/src/garpar/core/risk.py\u001b[0m in \u001b[0;36m<module>\u001b[0;34m\u001b[0m\n\u001b[1;32m     11\u001b[0m \u001b[0;34m\u001b[0m\u001b[0m\n\u001b[1;32m     12\u001b[0m \u001b[0;34m@\u001b[0m\u001b[0mattr\u001b[0m\u001b[0;34m.\u001b[0m\u001b[0ms\u001b[0m\u001b[0;34m(\u001b[0m\u001b[0mfrozen\u001b[0m\u001b[0;34m=\u001b[0m\u001b[0;32mTrue\u001b[0m\u001b[0;34m,\u001b[0m \u001b[0mrepr\u001b[0m\u001b[0;34m=\u001b[0m\u001b[0;32mFalse\u001b[0m\u001b[0;34m,\u001b[0m \u001b[0mslots\u001b[0m\u001b[0;34m=\u001b[0m\u001b[0;32mTrue\u001b[0m\u001b[0;34m)\u001b[0m\u001b[0;34m\u001b[0m\u001b[0;34m\u001b[0m\u001b[0m\n\u001b[0;32m---> 13\u001b[0;31m \u001b[0;32mclass\u001b[0m \u001b[0mRiskAccessor\u001b[0m\u001b[0;34m(\u001b[0m\u001b[0maabc\u001b[0m\u001b[0;34m.\u001b[0m\u001b[0mAccesorABC\u001b[0m\u001b[0;34m)\u001b[0m\u001b[0;34m:\u001b[0m\u001b[0;34m\u001b[0m\u001b[0;34m\u001b[0m\u001b[0m\n\u001b[0m\u001b[1;32m     14\u001b[0m \u001b[0;34m\u001b[0m\u001b[0m\n\u001b[1;32m     15\u001b[0m     \u001b[0m_DEFAULT_KIND\u001b[0m \u001b[0;34m=\u001b[0m \u001b[0;34m\"sample_cov\"\u001b[0m\u001b[0;34m\u001b[0m\u001b[0;34m\u001b[0m\u001b[0m\n",
      "\u001b[0;31mAttributeError\u001b[0m: module 'garpar.utils.aabc' has no attribute 'AccesorABC'"
     ]
    }
   ],
   "source": [
    "import garpar as gp"
   ]
  },
  {
   "cell_type": "code",
   "execution_count": 3,
   "id": "8ee2b623-1a0c-4a6a-9d1d-2069173a7206",
   "metadata": {},
   "outputs": [],
   "source": [
    "pf = gp.datasets.RissoNormal().make_portfolio()"
   ]
  },
  {
   "cell_type": "code",
   "execution_count": 6,
   "id": "5784cdf4-cb18-4e28-844b-93d1389170c1",
   "metadata": {},
   "outputs": [
    {
     "data": {
      "text/html": [
       "<div>\n",
       "<style scoped>\n",
       "    .dataframe tbody tr th:only-of-type {\n",
       "        vertical-align: middle;\n",
       "    }\n",
       "\n",
       "    .dataframe tbody tr th {\n",
       "        vertical-align: top;\n",
       "    }\n",
       "\n",
       "    .dataframe thead th {\n",
       "        text-align: right;\n",
       "    }\n",
       "</style>\n",
       "<table border=\"1\" class=\"dataframe\">\n",
       "  <thead>\n",
       "    <tr style=\"text-align: right;\">\n",
       "      <th></th>\n",
       "      <th>S0</th>\n",
       "      <th>S1</th>\n",
       "      <th>S2</th>\n",
       "      <th>S3</th>\n",
       "      <th>S4</th>\n",
       "      <th>S5</th>\n",
       "      <th>S6</th>\n",
       "      <th>S7</th>\n",
       "      <th>S8</th>\n",
       "      <th>S9</th>\n",
       "    </tr>\n",
       "  </thead>\n",
       "  <tbody>\n",
       "    <tr>\n",
       "      <th>count</th>\n",
       "      <td>366.000000</td>\n",
       "      <td>366.000000</td>\n",
       "      <td>366.000000</td>\n",
       "      <td>366.000000</td>\n",
       "      <td>366.000000</td>\n",
       "      <td>366.000000</td>\n",
       "      <td>366.000000</td>\n",
       "      <td>366.000000</td>\n",
       "      <td>366.000000</td>\n",
       "      <td>366.000000</td>\n",
       "    </tr>\n",
       "    <tr>\n",
       "      <th>mean</th>\n",
       "      <td>96.445574</td>\n",
       "      <td>102.594331</td>\n",
       "      <td>97.212081</td>\n",
       "      <td>100.455151</td>\n",
       "      <td>97.701720</td>\n",
       "      <td>97.105340</td>\n",
       "      <td>98.999193</td>\n",
       "      <td>94.928744</td>\n",
       "      <td>100.928305</td>\n",
       "      <td>101.709081</td>\n",
       "    </tr>\n",
       "    <tr>\n",
       "      <th>std</th>\n",
       "      <td>2.335304</td>\n",
       "      <td>2.500428</td>\n",
       "      <td>2.388075</td>\n",
       "      <td>1.011397</td>\n",
       "      <td>1.997288</td>\n",
       "      <td>1.490669</td>\n",
       "      <td>0.981758</td>\n",
       "      <td>1.735367</td>\n",
       "      <td>0.929139</td>\n",
       "      <td>1.054909</td>\n",
       "    </tr>\n",
       "    <tr>\n",
       "      <th>min</th>\n",
       "      <td>93.228286</td>\n",
       "      <td>97.885296</td>\n",
       "      <td>93.178338</td>\n",
       "      <td>98.044142</td>\n",
       "      <td>95.095409</td>\n",
       "      <td>94.055451</td>\n",
       "      <td>96.688682</td>\n",
       "      <td>91.799249</td>\n",
       "      <td>98.859886</td>\n",
       "      <td>99.687473</td>\n",
       "    </tr>\n",
       "    <tr>\n",
       "      <th>25%</th>\n",
       "      <td>94.364224</td>\n",
       "      <td>100.219122</td>\n",
       "      <td>95.541930</td>\n",
       "      <td>99.794913</td>\n",
       "      <td>96.344157</td>\n",
       "      <td>95.837897</td>\n",
       "      <td>98.454400</td>\n",
       "      <td>93.324731</td>\n",
       "      <td>100.283248</td>\n",
       "      <td>100.845826</td>\n",
       "    </tr>\n",
       "    <tr>\n",
       "      <th>50%</th>\n",
       "      <td>95.885430</td>\n",
       "      <td>103.727387</td>\n",
       "      <td>96.362156</td>\n",
       "      <td>100.455341</td>\n",
       "      <td>97.063899</td>\n",
       "      <td>96.865829</td>\n",
       "      <td>98.895399</td>\n",
       "      <td>95.105008</td>\n",
       "      <td>100.903272</td>\n",
       "      <td>101.707926</td>\n",
       "    </tr>\n",
       "    <tr>\n",
       "      <th>75%</th>\n",
       "      <td>99.034291</td>\n",
       "      <td>104.666392</td>\n",
       "      <td>99.815507</td>\n",
       "      <td>101.306106</td>\n",
       "      <td>98.474127</td>\n",
       "      <td>98.528211</td>\n",
       "      <td>99.886617</td>\n",
       "      <td>96.091002</td>\n",
       "      <td>101.602171</td>\n",
       "      <td>102.597472</td>\n",
       "    </tr>\n",
       "    <tr>\n",
       "      <th>max</th>\n",
       "      <td>100.905682</td>\n",
       "      <td>106.496368</td>\n",
       "      <td>101.361998</td>\n",
       "      <td>102.472697</td>\n",
       "      <td>102.751670</td>\n",
       "      <td>100.537085</td>\n",
       "      <td>100.938315</td>\n",
       "      <td>100.000000</td>\n",
       "      <td>103.355942</td>\n",
       "      <td>103.848367</td>\n",
       "    </tr>\n",
       "  </tbody>\n",
       "</table>\n",
       "</div>"
      ],
      "text/plain": [
       "               S0          S1          S2          S3          S4          S5  \\\n",
       "count  366.000000  366.000000  366.000000  366.000000  366.000000  366.000000   \n",
       "mean    96.445574  102.594331   97.212081  100.455151   97.701720   97.105340   \n",
       "std      2.335304    2.500428    2.388075    1.011397    1.997288    1.490669   \n",
       "min     93.228286   97.885296   93.178338   98.044142   95.095409   94.055451   \n",
       "25%     94.364224  100.219122   95.541930   99.794913   96.344157   95.837897   \n",
       "50%     95.885430  103.727387   96.362156  100.455341   97.063899   96.865829   \n",
       "75%     99.034291  104.666392   99.815507  101.306106   98.474127   98.528211   \n",
       "max    100.905682  106.496368  101.361998  102.472697  102.751670  100.537085   \n",
       "\n",
       "               S6          S7          S8          S9  \n",
       "count  366.000000  366.000000  366.000000  366.000000  \n",
       "mean    98.999193   94.928744  100.928305  101.709081  \n",
       "std      0.981758    1.735367    0.929139    1.054909  \n",
       "min     96.688682   91.799249   98.859886   99.687473  \n",
       "25%     98.454400   93.324731  100.283248  100.845826  \n",
       "50%     98.895399   95.105008  100.903272  101.707926  \n",
       "75%     99.886617   96.091002  101.602171  102.597472  \n",
       "max    100.938315  100.000000  103.355942  103.848367  "
      ]
     },
     "execution_count": 6,
     "metadata": {},
     "output_type": "execute_result"
    }
   ],
   "source": [
    "pf.prices()"
   ]
  },
  {
   "cell_type": "code",
   "execution_count": 11,
   "id": "f8f6b171-ec97-4bc2-bd60-76575152756e",
   "metadata": {},
   "outputs": [
    {
     "name": "stdout",
     "output_type": "stream",
     "text": [
      "fix_nonpositive_semidefinite - <class 'function'>\n",
      "(matrix, fix_method='spectral')\n",
      "!\n",
      "Help on function fix_nonpositive_semidefinite in module pypfopt.risk_models:\n",
      "\n",
      "fix_nonpositive_semidefinite(matrix, fix_method='spectral')\n",
      "    Check if a covariance matrix is positive semidefinite, and if not, fix it\n",
      "    with the chosen method.\n",
      "    \n",
      "    The ``spectral`` method sets negative eigenvalues to zero then rebuilds the matrix,\n",
      "    while the ``diag`` method adds a small positive value to the diagonal.\n",
      "    \n",
      "    :param matrix: raw covariance matrix (may not be PSD)\n",
      "    :type matrix: pd.DataFrame\n",
      "    :param fix_method: {\"spectral\", \"diag\"}, defaults to \"spectral\"\n",
      "    :type fix_method: str, optional\n",
      "    :raises NotImplementedError: if a method is passed that isn't implemented\n",
      "    :return: positive semidefinite covariance matrix\n",
      "    :rtype: pd.DataFrame\n",
      "\n"
     ]
    },
    {
     "ename": "AttributeError",
     "evalue": "'NoneType' object has no attribute 'split'",
     "output_type": "error",
     "traceback": [
      "\u001b[0;31m---------------------------------------------------------------------------\u001b[0m",
      "\u001b[0;31mAttributeError\u001b[0m                            Traceback (most recent call last)",
      "\u001b[0;32m/tmp/ipykernel_43527/3259582641.py\u001b[0m in \u001b[0;36m<module>\u001b[0;34m\u001b[0m\n\u001b[1;32m      9\u001b[0m     \u001b[0mprint\u001b[0m\u001b[0;34m(\u001b[0m\u001b[0minspect\u001b[0m\u001b[0;34m.\u001b[0m\u001b[0msignature\u001b[0m\u001b[0;34m(\u001b[0m\u001b[0mv\u001b[0m\u001b[0;34m)\u001b[0m\u001b[0;34m)\u001b[0m\u001b[0;34m\u001b[0m\u001b[0;34m\u001b[0m\u001b[0m\n\u001b[1;32m     10\u001b[0m     \u001b[0mprint\u001b[0m\u001b[0;34m(\u001b[0m\u001b[0;34m\"!\"\u001b[0m\u001b[0;34m)\u001b[0m\u001b[0;34m\u001b[0m\u001b[0;34m\u001b[0m\u001b[0m\n\u001b[0;32m---> 11\u001b[0;31m     \u001b[0mprint\u001b[0m\u001b[0;34m(\u001b[0m\u001b[0mhelp\u001b[0m\u001b[0;34m(\u001b[0m\u001b[0mv\u001b[0m\u001b[0;34m)\u001b[0m\u001b[0;34m.\u001b[0m\u001b[0msplit\u001b[0m\u001b[0;34m(\u001b[0m\u001b[0;34m\":param \"\u001b[0m\u001b[0;34m,\u001b[0m \u001b[0;36m1\u001b[0m\u001b[0;34m)\u001b[0m\u001b[0;34m[\u001b[0m\u001b[0;36m0\u001b[0m\u001b[0;34m]\u001b[0m\u001b[0;34m)\u001b[0m\u001b[0;34m\u001b[0m\u001b[0;34m\u001b[0m\u001b[0m\n\u001b[0m\u001b[1;32m     12\u001b[0m     \u001b[0mprint\u001b[0m\u001b[0;34m(\u001b[0m\u001b[0;34m\"....................\"\u001b[0m\u001b[0;34m)\u001b[0m\u001b[0;34m\u001b[0m\u001b[0;34m\u001b[0m\u001b[0m\n",
      "\u001b[0;31mAttributeError\u001b[0m: 'NoneType' object has no attribute 'split'"
     ]
    }
   ],
   "source": [
    "import pypfopt\n",
    "for k, v in vars(pypfopt.risk_models).items():\n",
    "    if k.startswith(\"_\") or not callable(v):\n",
    "        continue\n",
    "    import inspect\n",
    "    if not v.__module__.endswith(\"risk_models\"):\n",
    "        continue\n",
    "    print(k, \"-\", type(v))\n",
    "    print(inspect.signature(v))\n",
    "    print(\"!\")\n",
    "    print(help(v).split(\":param \", 1)[0])\n",
    "    print(\"....................\")\n"
   ]
  },
  {
   "cell_type": "code",
   "execution_count": 12,
   "id": "ce269da6-6f96-4ab7-990e-cbd9560a4f74",
   "metadata": {},
   "outputs": [
    {
     "data": {
      "text/plain": [
       "\u001b[0;31mSignature:\u001b[0m\n",
       "\u001b[0mpypfopt\u001b[0m\u001b[0;34m.\u001b[0m\u001b[0mobjective_functions\u001b[0m\u001b[0;34m.\u001b[0m\u001b[0msharpe_ratio\u001b[0m\u001b[0;34m(\u001b[0m\u001b[0;34m\u001b[0m\n",
       "\u001b[0;34m\u001b[0m    \u001b[0mw\u001b[0m\u001b[0;34m,\u001b[0m\u001b[0;34m\u001b[0m\n",
       "\u001b[0;34m\u001b[0m    \u001b[0mexpected_returns\u001b[0m\u001b[0;34m,\u001b[0m\u001b[0;34m\u001b[0m\n",
       "\u001b[0;34m\u001b[0m    \u001b[0mcov_matrix\u001b[0m\u001b[0;34m,\u001b[0m\u001b[0;34m\u001b[0m\n",
       "\u001b[0;34m\u001b[0m    \u001b[0mrisk_free_rate\u001b[0m\u001b[0;34m=\u001b[0m\u001b[0;36m0.02\u001b[0m\u001b[0;34m,\u001b[0m\u001b[0;34m\u001b[0m\n",
       "\u001b[0;34m\u001b[0m    \u001b[0mnegative\u001b[0m\u001b[0;34m=\u001b[0m\u001b[0;32mTrue\u001b[0m\u001b[0;34m,\u001b[0m\u001b[0;34m\u001b[0m\n",
       "\u001b[0;34m\u001b[0m\u001b[0;34m)\u001b[0m\u001b[0;34m\u001b[0m\u001b[0;34m\u001b[0m\u001b[0m\n",
       "\u001b[0;31mDocstring:\u001b[0m\n",
       "Calculate the (negative) Sharpe ratio of a portfolio\n",
       "\n",
       ":param w: asset weights in the portfolio\n",
       ":type w: np.ndarray OR cp.Variable\n",
       ":param expected_returns: expected return of each asset\n",
       ":type expected_returns: np.ndarray\n",
       ":param cov_matrix: covariance matrix\n",
       ":type cov_matrix: np.ndarray\n",
       ":param risk_free_rate: risk-free rate of borrowing/lending, defaults to 0.02.\n",
       "                       The period of the risk-free rate should correspond to the\n",
       "                       frequency of expected returns.\n",
       ":type risk_free_rate: float, optional\n",
       ":param negative: whether quantity should be made negative (so we can minimise)\n",
       ":type negative: boolean\n",
       ":return: (negative) Sharpe ratio\n",
       ":rtype: float\n",
       "\u001b[0;31mFile:\u001b[0m      ~/proyectos/garpar/lib/python3.9/site-packages/pypfopt/objective_functions.py\n",
       "\u001b[0;31mType:\u001b[0m      function\n"
      ]
     },
     "metadata": {},
     "output_type": "display_data"
    }
   ],
   "source": [
    "pypfopt.objective_functions.sharpe_ratio?"
   ]
  },
  {
   "cell_type": "code",
   "execution_count": 7,
   "id": "3a3c8603-58cb-4fa2-88cf-e4163554d1f0",
   "metadata": {},
   "outputs": [
    {
     "data": {
      "text/plain": [
       "\u001b[0;31mType:\u001b[0m        module\n",
       "\u001b[0;31mString form:\u001b[0m <module 'pypfopt.objective_functions' from '/home/juan/proyectos/garpar/lib/python3.9/site-packages/pypfopt/objective_functions.py'>\n",
       "\u001b[0;31mFile:\u001b[0m        ~/proyectos/garpar/lib/python3.9/site-packages/pypfopt/objective_functions.py\n",
       "\u001b[0;31mDocstring:\u001b[0m  \n",
       "The ``objective_functions`` module provides optimization objectives, including the actual\n",
       "objective functions called by the ``EfficientFrontier`` object's optimization methods.\n",
       "These methods are primarily designed for internal use during optimization and each requires\n",
       "a different signature (which is why they have not been factored into a class).\n",
       "For obvious reasons, any objective function must accept ``weights``\n",
       "as an argument, and must also have at least one of ``expected_returns`` or ``cov_matrix``.\n",
       "\n",
       "The objective functions either compute the objective given a numpy array of weights, or they\n",
       "return a cvxpy *expression* when weights are a ``cp.Variable``. In this way, the same objective\n",
       "function can be used both internally for optimization and externally for computing the objective\n",
       "given weights. ``_objective_value()`` automatically chooses between the two behaviours.\n",
       "\n",
       "``objective_functions`` defaults to objectives for minimisation. In the cases of objectives\n",
       "that clearly should be maximised (e.g Sharpe Ratio, portfolio return), the objective function\n",
       "actually returns the negative quantity, since minimising the negative is equivalent to maximising\n",
       "the positive. This behaviour is controlled by the ``negative=True`` optional argument.\n",
       "\n",
       "Currently implemented:\n",
       "\n",
       "- Portfolio variance (i.e square of volatility)\n",
       "- Portfolio return\n",
       "- Sharpe ratio\n",
       "- L2 regularisation (minimising this reduces nonzero weights)\n",
       "- Quadratic utility\n",
       "- Transaction cost model (a simple one)\n",
       "- Ex-ante (squared) tracking error\n",
       "- Ex-post (squared) tracking error\n"
      ]
     },
     "metadata": {},
     "output_type": "display_data"
    }
   ],
   "source": [
    "pypfopt.objective_functions?"
   ]
  },
  {
   "cell_type": "code",
   "execution_count": 20,
   "id": "69f7993f-64f4-41cc-963d-925c53b76548",
   "metadata": {},
   "outputs": [
    {
     "data": {
      "text/plain": [
       "\u001b[0;31mType:\u001b[0m        module\n",
       "\u001b[0;31mString form:\u001b[0m <module 'pypfopt.objective_functions' from '/home/juan/proyectos/garpar/lib/python3.9/site-packages/pypfopt/objective_functions.py'>\n",
       "\u001b[0;31mFile:\u001b[0m        ~/proyectos/garpar/lib/python3.9/site-packages/pypfopt/objective_functions.py\n",
       "\u001b[0;31mDocstring:\u001b[0m  \n",
       "The ``objective_functions`` module provides optimization objectives, including the actual\n",
       "objective functions called by the ``EfficientFrontier`` object's optimization methods.\n",
       "These methods are primarily designed for internal use during optimization and each requires\n",
       "a different signature (which is why they have not been factored into a class).\n",
       "For obvious reasons, any objective function must accept ``weights``\n",
       "as an argument, and must also have at least one of ``expected_returns`` or ``cov_matrix``.\n",
       "\n",
       "The objective functions either compute the objective given a numpy array of weights, or they\n",
       "return a cvxpy *expression* when weights are a ``cp.Variable``. In this way, the same objective\n",
       "function can be used both internally for optimization and externally for computing the objective\n",
       "given weights. ``_objective_value()`` automatically chooses between the two behaviours.\n",
       "\n",
       "``objective_functions`` defaults to objectives for minimisation. In the cases of objectives\n",
       "that clearly should be maximised (e.g Sharpe Ratio, portfolio return), the objective function\n",
       "actually returns the negative quantity, since minimising the negative is equivalent to maximising\n",
       "the positive. This behaviour is controlled by the ``negative=True`` optional argument.\n",
       "\n",
       "Currently implemented:\n",
       "\n",
       "- Portfolio variance (i.e square of volatility)\n",
       "- Portfolio return\n",
       "- Sharpe ratio\n",
       "- L2 regularisation (minimising this reduces nonzero weights)\n",
       "- Quadratic utility\n",
       "- Transaction cost model (a simple one)\n",
       "- Ex-ante (squared) tracking error\n",
       "- Ex-post (squared) tracking error\n"
      ]
     },
     "metadata": {},
     "output_type": "display_data"
    }
   ],
   "source": [
    "pypfopt.objective_functions?"
   ]
  },
  {
   "cell_type": "code",
   "execution_count": 21,
   "id": "b823f8a2-b11f-4650-a4cf-4fe0333ac9c7",
   "metadata": {},
   "outputs": [],
   "source": [
    "_FUNCTION_WHITELIST = [\n",
    "        \"capm_return\",\n",
    "        \"returns_from_prices\",\n",
    "        \"return_model\",\n",
    "        \"mean_historical_return\",\n",
    "        \"ema_historical_return\",\n",
    "    ]"
   ]
  },
  {
   "cell_type": "code",
   "execution_count": 25,
   "id": "4cf9732b-ac83-4f2d-83c3-2cadf1046021",
   "metadata": {},
   "outputs": [
    {
     "name": "stdout",
     "output_type": "stream",
     "text": [
      "def capm_return(self, **kwargs):\n",
      "    return expected_returns.capm_return(prices=self._pf._df, **kwargs)\n",
      "\n",
      "def returns_from_prices(self, **kwargs):\n",
      "    return expected_returns.returns_from_prices(prices=self._pf._df, **kwargs)\n",
      "\n",
      "def return_model(self, **kwargs):\n",
      "    return expected_returns.return_model(prices=self._pf._df, **kwargs)\n",
      "\n",
      "def mean_historical_return(self, **kwargs):\n",
      "    return expected_returns.mean_historical_return(prices=self._pf._df, **kwargs)\n",
      "\n",
      "def ema_historical_return(self, **kwargs):\n",
      "    return expected_returns.ema_historical_return(prices=self._pf._df, **kwargs)\n",
      "\n"
     ]
    }
   ],
   "source": [
    "for n in _FUNCTION_WHITELIST:\n",
    "    print(f\"def {n}(self, **kwargs):\\n    return expected_returns.{n}(prices=self._pf._df, **kwargs)\\n\")"
   ]
  },
  {
   "cell_type": "code",
   "execution_count": null,
   "id": "ca1e3a83-86b8-4855-95fb-ec0bf956ecae",
   "metadata": {},
   "outputs": [],
   "source": []
  }
 ],
 "metadata": {
  "kernelspec": {
   "display_name": "Python 3 (ipykernel)",
   "language": "python",
   "name": "python3"
  },
  "language_info": {
   "codemirror_mode": {
    "name": "ipython",
    "version": 3
   },
   "file_extension": ".py",
   "mimetype": "text/x-python",
   "name": "python",
   "nbconvert_exporter": "python",
   "pygments_lexer": "ipython3",
   "version": "3.9.9"
  }
 },
 "nbformat": 4,
 "nbformat_minor": 5
}
